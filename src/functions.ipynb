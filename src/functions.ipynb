{
 "cells": [
  {
   "cell_type": "code",
   "execution_count": 3,
   "metadata": {},
   "outputs": [],
   "source": [
    "import config\n",
    "import json\n",
    "import google.generativeai as genai\n",
    "from google.generativeai.types import FunctionDeclaration, Tool, GenerateContentResponse\n",
    "from typing import Dict, List"
   ]
  },
  {
   "cell_type": "code",
   "execution_count": 14,
   "metadata": {},
   "outputs": [],
   "source": [
    "# Load JSON Table Data\n",
    "with open('all_info.json') as json_file:\n",
    "    dataset = json.load(json_file)\n",
    "    \n",
    "# Configure Gemini\n",
    "genai.configure(api_key=config.api_key)"
   ]
  },
  {
   "cell_type": "code",
   "execution_count": 15,
   "metadata": {},
   "outputs": [],
   "source": [
    "# FunctionDeclarations\n",
    "get_column_titles = FunctionDeclaration(\n",
    "    name=\"get_column_titles\",\n",
    "    description=\"Fetches all column titles from the specified table.\",\n",
    "    parameters={\n",
    "        \"type\": \"object\",\n",
    "        \"properties\": {\n",
    "            \"table_id\": {\n",
    "                \"type\": \"string\",\n",
    "                \"description\": \"The ID of the table to extract column titles from.\",\n",
    "            }\n",
    "        },\n",
    "        \"required\": [\"table_id\"],\n",
    "    },\n",
    ")\n",
    "\n",
    "get_column_descriptions = FunctionDeclaration(\n",
    "    name=\"get_column_descriptions\",\n",
    "    description=\"Fetches column titles and their descriptions from the specified table.\",\n",
    "    parameters={\n",
    "        \"type\": \"object\",\n",
    "        \"properties\": {\n",
    "            \"table_id\": {\n",
    "                \"type\": \"string\",\n",
    "                \"description\": \"The ID of the table to extract column descriptions from.\",\n",
    "            }\n",
    "        },\n",
    "        \"required\": [\"table_id\"],\n",
    "    },\n",
    ")\n",
    "\n",
    "get_table_summary = FunctionDeclaration(\n",
    "    name=\"get_table_summary\",\n",
    "    description=\"Fetches the summary of the specified table.\",\n",
    "    parameters={\n",
    "        \"type\": \"object\",\n",
    "        \"properties\": {\n",
    "            \"table_id\": {\n",
    "                \"type\": \"string\",\n",
    "                \"description\": \"The ID of the table to extract the summary from.\",\n",
    "            }\n",
    "        },\n",
    "        \"required\": [\"table_id\"],\n",
    "    },\n",
    ")\n",
    "\n",
    "get_specific_column_description = FunctionDeclaration(\n",
    "    name=\"get_specific_column_description\",\n",
    "    description=\"Fetches the description of a specific column from the specified table.\",\n",
    "    parameters={\n",
    "        \"type\": \"object\",\n",
    "        \"properties\": {\n",
    "            \"table_id\": {\n",
    "                \"type\": \"string\",\n",
    "                \"description\": \"The ID of the table to fetch the column description from.\",\n",
    "            },\n",
    "            \"column_name\": {\n",
    "                \"type\": \"string\",\n",
    "                \"description\": \"The name of the column to fetch the description of.\",\n",
    "            },\n",
    "        },\n",
    "        \"required\": [\"table_id\", \"column_name\"],\n",
    "    },\n",
    ")"
   ]
  },
  {
   "cell_type": "code",
   "execution_count": 27,
   "metadata": {},
   "outputs": [],
   "source": [
    "# Function Definitions\n",
    "def get_column_titles(table_id: str):\n",
    "    table = dataset[table_id]\n",
    "    return [\n",
    "        col[\"TitleColumn\"]\n",
    "        for col in table.get(\"columns\", [])\n",
    "        if \"TitleColumn\" in col\n",
    "    ]\n",
    "\n",
    "def get_column_descriptions(table_id: str):\n",
    "    table = dataset[table_id]\n",
    "    return [\n",
    "        {\"title\": col[\"TitleColumn\"], \"description\": col.get(\"Description\")}\n",
    "        for col in table.get(\"columns\", [])\n",
    "    ]\n",
    "\n",
    "def get_table_summary(table_id: str):\n",
    "    table = dataset[table_id]\n",
    "    return table.get(\"summary\", \"No summary available.\")\n",
    "\n",
    "def get_specific_column_description(table_id: str, column_name: str):\n",
    "    table = dataset[table_id]\n",
    "    for col in table.get(\"columns\", []):\n",
    "        if col.get(\"TitleColumn\", \"\").lower() == column_name.lower():\n",
    "            return col.get(\"Description\", \"No description available.\")\n",
    "    return f\"Column '{column_name}' not found in table '{table_id}'.\"\n"
   ]
  },
  {
   "cell_type": "code",
   "execution_count": 17,
   "metadata": {},
   "outputs": [],
   "source": [
    "def execute_function(function_call):\n",
    "    function_name = function_call.name\n",
    "    args = function_call.args\n",
    "    \n",
    "    if function_name == \"get_column_titles\":\n",
    "        return get_column_titles(**args)\n",
    "    elif function_name == \"get_column_descriptions\":\n",
    "        return get_column_descriptions(**args)\n",
    "    elif function_name == \"get_table_summary\":\n",
    "        return get_table_summary(**args)\n",
    "    elif function_name == \"get_specific_column_description\":\n",
    "        return get_specific_column_description(**args)\n",
    "    else:\n",
    "        raise ValueError(f\"Unknown function name: {function_name}\")"
   ]
  },
  {
   "cell_type": "code",
   "execution_count": 18,
   "metadata": {},
   "outputs": [],
   "source": [
    "function_calling_tools = Tool(\n",
    "    function_declarations=[\n",
    "        get_column_titles,\n",
    "        get_column_descriptions,\n",
    "        get_table_summary,\n",
    "        get_specific_column_description,\n",
    "      ],\n",
    ")\n",
    "\n",
    "model = genai.GenerativeModel(\"gemini-1.5-flash\", tools=function_calling_tools)"
   ]
  },
  {
   "cell_type": "code",
   "execution_count": 19,
   "metadata": {},
   "outputs": [],
   "source": [
    "def process_query_with_function_calls(chat, question):\n",
    "    response = chat.send_message(question)\n",
    "    \n",
    "    if response.candidates[0].content.parts:\n",
    "        for part in response.candidates[0].content.parts:\n",
    "             if \"function_call\" in part:  # Check if the part includes a function_call\n",
    "                function_call = part.function_call\n",
    "\n",
    "                # Execute and process the function call\n",
    "                function_result = execute_function(function_call)\n",
    "                result_text = json.dumps(function_result, indent=2)\n",
    "                follow_up = f\"Answer the question \\\"{question}\\\" using the following results:\\n{result_text}\"\n",
    "                \n",
    "                # Send the result back to the model\n",
    "                print(function_call.name)\n",
    "                response = chat.send_message(follow_up)\n",
    "    \n",
    "    return response.candidates[0].content.parts"
   ]
  },
  {
   "cell_type": "code",
   "execution_count": 28,
   "metadata": {},
   "outputs": [
    {
     "name": "stdout",
     "output_type": "stream",
     "text": [
      "get_column_titles\n",
      "get_column_descriptions\n",
      "[text: \"Table ID 37738ENG contains the following columns:\\n\\n*   **Vegetables:**  (No description available)\\n*   **Periodes:** (No description available)\\n*   **GrossYield_1:** The yield of vegetables, in million kg.\\n*   **CroppingArea_2:** The total cropping area, essentially equal to the sown area per year.  If an area is sown multiple times in a year, the area is multiplied by that number.  For multiple yields from the same plants (like strawberries or fruit used as vegetables), the area is counted only once. This is also true for mushrooms and radish.\\n\\n\"\n",
      "]\n"
     ]
    }
   ],
   "source": [
    "chat = model.start_chat()\n",
    "qs = \"What are the columns in table ID 37738ENG. Furthermore what do these columns entail?\"\n",
    "output = process_query_with_function_calls(chat, qs)\n",
    "print(output)"
   ]
  }
 ],
 "metadata": {
  "kernelspec": {
   "display_name": "gemini",
   "language": "python",
   "name": "python3"
  },
  "language_info": {
   "codemirror_mode": {
    "name": "ipython",
    "version": 3
   },
   "file_extension": ".py",
   "mimetype": "text/x-python",
   "name": "python",
   "nbconvert_exporter": "python",
   "pygments_lexer": "ipython3",
   "version": "3.13.1"
  }
 },
 "nbformat": 4,
 "nbformat_minor": 2
}
