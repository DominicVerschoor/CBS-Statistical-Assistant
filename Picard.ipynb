{
 "cells": [
  {
   "cell_type": "markdown",
   "metadata": {},
   "source": [
    "### Imports"
   ]
  },
  {
   "cell_type": "code",
   "execution_count": 2,
   "metadata": {},
   "outputs": [
    {
     "name": "stderr",
     "output_type": "stream",
     "text": [
      "c:\\Users\\domin\\anaconda3\\envs\\MachineLearning\\Lib\\site-packages\\tqdm\\auto.py:21: TqdmWarning: IProgress not found. Please update jupyter and ipywidgets. See https://ipywidgets.readthedocs.io/en/stable/user_install.html\n",
      "  from .autonotebook import tqdm as notebook_tqdm\n"
     ]
    }
   ],
   "source": [
    "from transformers import AutoModelForSeq2SeqLM, AutoTokenizer, logging"
   ]
  },
  {
   "cell_type": "markdown",
   "metadata": {},
   "source": [
    "### Initialize Picard model"
   ]
  },
  {
   "cell_type": "code",
   "execution_count": 3,
   "metadata": {},
   "outputs": [
    {
     "ename": "",
     "evalue": "",
     "output_type": "error",
     "traceback": [
      "\u001b[1;31mThe Kernel crashed while executing code in the current cell or a previous cell. \n",
      "\u001b[1;31mPlease review the code in the cell(s) to identify a possible cause of the failure. \n",
      "\u001b[1;31mClick <a href='https://aka.ms/vscodeJupyterKernelCrash'>here</a> for more info. \n",
      "\u001b[1;31mView Jupyter <a href='command:jupyter.viewOutput'>log</a> for further details."
     ]
    }
   ],
   "source": [
    "pic_model_path = 'tscholak/cxmefzzi'\n",
    "pic_model = AutoModelForSeq2SeqLM.from_pretrained(pic_model_path)\n",
    "pic_tokenizer = AutoTokenizer.from_pretrained(pic_model_path)"
   ]
  },
  {
   "cell_type": "markdown",
   "metadata": {},
   "source": [
    "### Format Schema"
   ]
  },
  {
   "cell_type": "code",
   "execution_count": 21,
   "metadata": {},
   "outputs": [
    {
     "name": "stdout",
     "output_type": "stream",
     "text": [
      "{'Activity': ['actid', 'PRIMARY', 'activity_name'], 'Participates_in': ['stuid', 'actid', 'FOREIGN'], 'Faculty_Participates_in': ['FacID', 'actid', 'FOREIGN'], 'Student': ['StuID', 'PRIMARY', 'LName'], 'Faculty': ['FacID', 'PRIMARY', 'Lname']}\n"
     ]
    }
   ],
   "source": [
    "import re\n",
    "\n",
    "def parse_schema(sql_text):\n",
    "    tables = {}\n",
    "    # Split into individual statements by semicolon\n",
    "    statements = sql_text.split(\";\")\n",
    "    for statement in statements:\n",
    "        # Check if it's a CREATE TABLE statement\n",
    "        match = re.search(r'CREATE TABLE (\\w+)', statement, re.IGNORECASE)\n",
    "        if match:\n",
    "            table_name = match.group(1)\n",
    "            tables[table_name] = []\n",
    "            # Extract column definitions within the parentheses\n",
    "            columns_section = re.search(r'\\((.*?)\\)', statement, re.S)\n",
    "            if columns_section:\n",
    "                columns = re.findall(r'(\\w+)\\s+\\w+', columns_section.group(1))\n",
    "                tables[table_name].extend(columns)\n",
    "    return tables\n",
    "\n",
    "# Read and parse schema\n",
    "with open(\"TestData/schema.sql\", \"r\") as file:\n",
    "    schema_sql = file.read()\n",
    "schema_data = parse_schema(schema_sql)\n",
    "\n",
    "print(schema_data)"
   ]
  },
  {
   "cell_type": "markdown",
   "metadata": {},
   "source": [
    "### Format Input and Question"
   ]
  },
  {
   "cell_type": "code",
   "execution_count": 22,
   "metadata": {},
   "outputs": [
    {
     "name": "stdout",
     "output_type": "stream",
     "text": [
      "How many students do soccer? | school | Activity : actid ( ) , PRIMARY ( ) , activity_name ( ) | Participates_in : stuid ( ) , actid ( ) , FOREIGN ( ) | Faculty_Participates_in : FacID ( ) , actid ( ) , FOREIGN ( ) | Student : StuID ( ) , PRIMARY ( ) , LName ( ) | Faculty : FacID ( ) , PRIMARY ( ) , Lname ( )\n"
     ]
    }
   ],
   "source": [
    "def format_picard_input(question, db_id, schema):\n",
    "    tables_info = []\n",
    "    for table, columns in schema.items():\n",
    "        table_info = f\"{table} : \" + \" , \".join([f\"{col} ( )\" for col in columns])\n",
    "        tables_info.append(table_info)\n",
    "    formatted_schema = \" | \".join(tables_info)\n",
    "    return f\"{question} | {db_id} | {formatted_schema}\"\n",
    "\n",
    "# Example\n",
    "question = \"How many students do soccer?\"\n",
    "db_id = \"school\"  # Replace with your database ID\n",
    "picard_input = format_picard_input(question, db_id, schema_data)\n",
    "\n",
    "print(picard_input)"
   ]
  },
  {
   "cell_type": "markdown",
   "metadata": {},
   "source": [
    "## Run models"
   ]
  },
  {
   "cell_type": "code",
   "execution_count": 23,
   "metadata": {},
   "outputs": [
    {
     "name": "stdout",
     "output_type": "stream",
     "text": [
      "Pic SQL Query: ['school | select count(*) from Participates_in as t1 join Activity as t2 on t2.actid = t2.actid where t2.activity_name = \"soccer\"']\n"
     ]
    }
   ],
   "source": [
    "# Tokenize input\n",
    "pic_model_inputs = pic_tokenizer(picard_input, return_tensors=\"pt\", truncation=True)\n",
    "\n",
    "# Generate output\n",
    "pic_outputs = pic_model.generate(**pic_model_inputs, max_length=1024)\n",
    "\n",
    "# Decode output\n",
    "pic_output_text = pic_tokenizer.batch_decode(pic_outputs, skip_special_tokens=True)\n",
    "\n",
    "# Print the SQL query\n",
    "print(\"Pic SQL Query:\", pic_output_text)"
   ]
  },
  {
   "cell_type": "code",
   "execution_count": 10,
   "metadata": {},
   "outputs": [
    {
     "name": "stdout",
     "output_type": "stream",
     "text": [
      "(0,)\n"
     ]
    }
   ],
   "source": [
    "import sqlite3\n",
    "\n",
    "# Connect to the database (or create it if it doesn't exist)\n",
    "conn = sqlite3.connect('TestData\\\\activity_1.sqlite')\n",
    "cursor = conn.cursor()\n",
    "\n",
    "query = 'select count(*) from Participates_in as t1 join Activity as t2 on t2.actid = t2.actid where t2.activity_name = \"chess\"'\n",
    "\n",
    "# Execute the query\n",
    "cursor.execute(query)\n",
    "\n",
    "# Fetch the result\n",
    "result = cursor.fetchone()  # Returns a tuple, e.g., (count_value,)\n",
    "print(result)\n",
    "\n",
    "# Close the connection\n",
    "conn.close()"
   ]
  }
 ],
 "metadata": {
  "kernelspec": {
   "display_name": "MachineLearning",
   "language": "python",
   "name": "python3"
  },
  "language_info": {
   "codemirror_mode": {
    "name": "ipython",
    "version": 3
   },
   "file_extension": ".py",
   "mimetype": "text/x-python",
   "name": "python",
   "nbconvert_exporter": "python",
   "pygments_lexer": "ipython3",
   "version": "3.11.10"
  }
 },
 "nbformat": 4,
 "nbformat_minor": 2
}
