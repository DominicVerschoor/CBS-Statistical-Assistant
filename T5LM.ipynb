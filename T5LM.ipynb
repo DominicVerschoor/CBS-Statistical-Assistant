{
 "cells": [
  {
   "cell_type": "markdown",
   "metadata": {},
   "source": [
    "### Imports"
   ]
  },
  {
   "cell_type": "code",
   "execution_count": 1,
   "metadata": {},
   "outputs": [
    {
     "name": "stderr",
     "output_type": "stream",
     "text": [
      "c:\\Users\\domin\\anaconda3\\envs\\ml\\Lib\\site-packages\\tqdm\\auto.py:21: TqdmWarning: IProgress not found. Please update jupyter and ipywidgets. See https://ipywidgets.readthedocs.io/en/stable/user_install.html\n",
      "  from .autonotebook import tqdm as notebook_tqdm\n"
     ]
    }
   ],
   "source": [
    "from transformers import AutoModelForSeq2SeqLM, AutoTokenizer, logging"
   ]
  },
  {
   "cell_type": "markdown",
   "metadata": {},
   "source": [
    "### Initialize T5-LM-Large model\n",
    "###### (Pretrained on spider)"
   ]
  },
  {
   "cell_type": "code",
   "execution_count": 2,
   "metadata": {},
   "outputs": [],
   "source": [
    "t5_model_path = 'gaussalgo/T5-LM-Large-text2sql-spider'\n",
    "t5_model = AutoModelForSeq2SeqLM.from_pretrained(t5_model_path)\n",
    "t5_tokenizer = AutoTokenizer.from_pretrained(t5_model_path)"
   ]
  },
  {
   "cell_type": "markdown",
   "metadata": {},
   "source": [
    "### Initialize Schema and input question"
   ]
  },
  {
   "cell_type": "code",
   "execution_count": 3,
   "metadata": {},
   "outputs": [
    {
     "name": "stderr",
     "output_type": "stream",
     "text": [
      "<>:1: SyntaxWarning: invalid escape sequence '\\s'\n",
      "<>:1: SyntaxWarning: invalid escape sequence '\\s'\n",
      "C:\\Users\\domin\\AppData\\Local\\Temp\\ipykernel_3720\\4189374141.py:1: SyntaxWarning: invalid escape sequence '\\s'\n",
      "  with open(\"TestData\\schema.sql\", \"r\") as file:\n"
     ]
    }
   ],
   "source": [
    "with open(\"TestData\\schema.sql\", \"r\") as file:\n",
    "    schema = file.read()\n",
    "\n",
    "question = \"How many students do soccer?\"\n",
    "input_text = \" \".join([\"Question: \",question, \"Schema:\", schema])"
   ]
  },
  {
   "cell_type": "markdown",
   "metadata": {},
   "source": [
    "## Run models"
   ]
  },
  {
   "cell_type": "code",
   "execution_count": 7,
   "metadata": {},
   "outputs": [
    {
     "name": "stdout",
     "output_type": "stream",
     "text": [
      "T5 SQL Query: ['SELECT count(*) FROM Student AS T1 JOIN Activity AS T2 ON T1.StuID = T2.StuID WHERE T2.Sport = \"Soccer\" AND T1.StuID = \"M\";']\n"
     ]
    }
   ],
   "source": [
    "# Tokenize input\n",
    "t5_model_inputs = t5_tokenizer(input_text, return_tensors=\"pt\")\n",
    "\n",
    "# Generate output\n",
    "t5_outputs = t5_model.generate(**t5_model_inputs, max_length=1024)\n",
    "\n",
    "# Decode output\n",
    "t5_output_text = t5_tokenizer.batch_decode(t5_outputs, skip_special_tokens=True)\n",
    "\n",
    "# print\n",
    "print(\"T5 SQL Query:\", t5_output_text)"
   ]
  }
 ],
 "metadata": {
  "kernelspec": {
   "display_name": "ml",
   "language": "python",
   "name": "python3"
  },
  "language_info": {
   "codemirror_mode": {
    "name": "ipython",
    "version": 3
   },
   "file_extension": ".py",
   "mimetype": "text/x-python",
   "name": "python",
   "nbconvert_exporter": "python",
   "pygments_lexer": "ipython3",
   "version": "3.12.7"
  }
 },
 "nbformat": 4,
 "nbformat_minor": 2
}
