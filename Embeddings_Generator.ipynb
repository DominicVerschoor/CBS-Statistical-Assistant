{
  "nbformat": 4,
  "nbformat_minor": 0,
  "metadata": {
    "colab": {
      "provenance": [],
      "gpuType": "T4"
    },
    "kernelspec": {
      "name": "python3",
      "display_name": "Python 3"
    },
    "language_info": {
      "name": "python"
    },
    "accelerator": "GPU"
  },
  "cells": [
    {
      "cell_type": "code",
      "execution_count": null,
      "metadata": {
        "id": "JF1tRpjiNa_c",
        "colab": {
          "base_uri": "https://localhost:8080/"
        },
        "outputId": "e596ce64-f316-4e64-adbf-ffe89b912961"
      },
      "outputs": [
        {
          "output_type": "stream",
          "name": "stdout",
          "text": [
            "Collecting cbsodata\n",
            "  Downloading cbsodata-1.3.5-py3-none-any.whl.metadata (7.8 kB)\n",
            "Requirement already satisfied: requests in /usr/local/lib/python3.10/dist-packages (from cbsodata) (2.32.3)\n",
            "Requirement already satisfied: charset-normalizer<4,>=2 in /usr/local/lib/python3.10/dist-packages (from requests->cbsodata) (3.4.0)\n",
            "Requirement already satisfied: idna<4,>=2.5 in /usr/local/lib/python3.10/dist-packages (from requests->cbsodata) (3.10)\n",
            "Requirement already satisfied: urllib3<3,>=1.21.1 in /usr/local/lib/python3.10/dist-packages (from requests->cbsodata) (2.2.3)\n",
            "Requirement already satisfied: certifi>=2017.4.17 in /usr/local/lib/python3.10/dist-packages (from requests->cbsodata) (2024.8.30)\n",
            "Downloading cbsodata-1.3.5-py3-none-any.whl (12 kB)\n",
            "Installing collected packages: cbsodata\n",
            "Successfully installed cbsodata-1.3.5\n"
          ]
        }
      ],
      "source": [
        "!pip install cbsodata\n",
        "import cbsodata\n",
        "import pandas as pd\n",
        "import torch\n",
        "from transformers import pipeline, BartTokenizer\n",
        "from sentence_transformers import SentenceTransformer, util"
      ]
    },
    {
      "cell_type": "code",
      "source": [
        "# Check if GPU is available\n",
        "device = torch.device(\"cuda\" if torch.cuda.is_available() else \"cpu\")\n",
        "\n",
        "# Initialize the summarizer and sentence transformer\n",
        "summarizer = pipeline(\"summarization\", model=\"facebook/bart-large-cnn\", device=device)\n",
        "embedding_model = SentenceTransformer('paraphrase-MiniLM-L6-v2').to(device)\n",
        "tokenizer = BartTokenizer.from_pretrained('facebook/bart-large-cnn')\n",
        "\n",
        "# Function to summarize a long description by chunking it\n",
        "def summarize_long_description(description, max_length=1024, chunk_size=500):\n",
        "    \"\"\"Summarize long description by splitting into smaller chunks.\"\"\"\n",
        "    tokens = tokenizer.encode(description, truncation=False)\n",
        "    if len(tokens) <= max_length:\n",
        "        # If it's small enough, just summarize directly\n",
        "        return summarizer(description, max_length=200, min_length=50, do_sample=False)[0]['summary_text']\n",
        "\n",
        "    # Otherwise, split into chunks\n",
        "    chunks = [tokens[i:i + chunk_size] for i in range(0, len(tokens), chunk_size)]\n",
        "    summaries = []\n",
        "    for chunk in chunks:\n",
        "        chunk_text = tokenizer.decode(chunk, skip_special_tokens=True)\n",
        "        summary = summarizer(chunk_text, max_length=200, min_length=50, do_sample=False)[0]['summary_text']\n",
        "        summaries.append(summary)\n",
        "\n",
        "    # Combine all chunk summaries into one\n",
        "    return \" \".join(summaries)\n",
        "\n",
        "# Function to extract only the English table descriptions\n",
        "def extract_english_descriptions(tables):\n",
        "    descriptions = []\n",
        "    for table in tables:\n",
        "        # Process only English tables\n",
        "        if table.get('Language', '').endswith('en'):\n",
        "            # Main description of the table\n",
        "            table_title = table.get('Title', 'Unknown Table Title').strip()\n",
        "            table_description = table.get('ShortDescription', '').strip()\n",
        "            descriptions.append({\n",
        "                \"table_title\": table_title,\n",
        "                \"table_description\": table_description,\n",
        "                \"Identifier\": table.get('Identifier')\n",
        "            })\n",
        "    return descriptions\n",
        "\n",
        "# Function to process and summarize table and column descriptions separately\n",
        "def process_table_and_column_descriptions(descriptions):\n",
        "    table_embeddings = []\n",
        "    column_embeddings = []\n",
        "    table_to_column_mapping = {}\n",
        "\n",
        "    for desc in descriptions:\n",
        "        #print(desc['Identifier'])\n",
        "        table_id = desc['Identifier']\n",
        "        table_title = desc['table_title']\n",
        "        table_description = desc['table_description']\n",
        "        try:\n",
        "            # Summarize table description\n",
        "            summarized_table_desc = summarize_long_description(table_description)\n",
        "            combined_table_text = f\"{table_title}: {summarized_table_desc}\"  # Title + Summary\n",
        "\n",
        "            # Retrieve column metadata\n",
        "            metadata = pd.DataFrame(cbsodata.get_meta(table_id, name='DataProperties'))\n",
        "\n",
        "            # Embed table description (title + description)\n",
        "            table_embedding = embedding_model.encode(combined_table_text, convert_to_tensor=True)\n",
        "            table_embeddings.append({\"table_id\": table_id, \"embedding\": table_embedding})\n",
        "\n",
        "            # Process column titles and create embeddings\n",
        "            column_titles = []\n",
        "            for _, row in metadata.iterrows():\n",
        "                try:\n",
        "                    column_title = row.get('Title', '').strip()\n",
        "                    # Skip if column title is empty or None\n",
        "                    if not column_title:\n",
        "                        continue\n",
        "                    column_titles.append(column_title)\n",
        "                except Exception as e:\n",
        "                    print(f\"Skipping column in table {table_id} due to error: {e}\")\n",
        "\n",
        "            # Embed column titles\n",
        "            if column_titles:\n",
        "                column_embedding = embedding_model.encode(column_titles, convert_to_tensor=True)\n",
        "                column_embeddings.append({\"table_id\": table_id, \"column_embeddings\": column_embedding})\n",
        "                table_to_column_mapping[table_id] = column_titles\n",
        "\n",
        "        except Exception as e:\n",
        "            print(f\"Skipping table {table_id} due to error: {e}\")\n",
        "\n",
        "    return table_embeddings, column_embeddings, table_to_column_mapping\n",
        "\n",
        "# Set display options for more text\n",
        "pd.set_option('display.max_colwidth', None)\n",
        "pd.set_option('display.max_rows', None)\n",
        "pd.set_option('display.max_columns', None)\n",
        "\n",
        "# DATA EXPLORATION\n",
        "tables = cbsodata.get_table_list()\n",
        "\n",
        "# Extract English table descriptions\n",
        "descriptions = extract_english_descriptions(tables)\n",
        "\n",
        "# Process and summarize table and column metadata\n",
        "table_embeddings, column_embeddings, table_to_column_mapping = process_table_and_column_descriptions(descriptions)\n",
        "\n",
        "# Example Output\n",
        "print(\"Example Table Embeddings:\")\n",
        "for table in table_embeddings[:3]:  # Display first 3 tables for brevity\n",
        "    print(f\"Table ID: {table['table_id']}\")\n",
        "    print(f\"Table Embedding: {table['embedding']}\")\n",
        "\n",
        "print(\"\\nExample Column Embeddings:\")\n",
        "for column in column_embeddings[:3]:  # Display first 3 tables for brevity\n",
        "    print(f\"Table ID: {column['table_id']}\")\n",
        "    print(f\"Column Embeddings: {column['column_embeddings']}\")\n",
        "\n",
        "print(\"\\nExample Table to Column Mapping:\")\n",
        "for table_id, columns in list(table_to_column_mapping.items())[:3]:  # Display first 3 mappings\n",
        "    print(f\"Table ID: {table_id}\")\n",
        "    print(f\"Columns: {columns}\")\n"
      ],
      "metadata": {
        "colab": {
          "base_uri": "https://localhost:8080/"
        },
        "id": "6Yy4V9zcq-Yt",
        "outputId": "bb6bb0e3-5f38-410b-be12-655cdff6eea4"
      },
      "execution_count": null,
      "outputs": [
        {
          "output_type": "stream",
          "name": "stdout",
          "text": [
            "80783eng\n"
          ]
        },
        {
          "output_type": "stream",
          "name": "stderr",
          "text": [
            "Your max_length is set to 200, but your input_length is only 45. Since this is a summarization task, where outputs shorter than the input are typically wanted, you might consider decreasing max_length manually, e.g. summarizer('...', max_length=22)\n"
          ]
        },
        {
          "output_type": "stream",
          "name": "stdout",
          "text": [
            "80784eng\n"
          ]
        },
        {
          "output_type": "stream",
          "name": "stderr",
          "text": [
            "Your max_length is set to 200, but your input_length is only 39. Since this is a summarization task, where outputs shorter than the input are typically wanted, you might consider decreasing max_length manually, e.g. summarizer('...', max_length=19)\n"
          ]
        },
        {
          "output_type": "stream",
          "name": "stdout",
          "text": [
            "85636ENG\n"
          ]
        },
        {
          "output_type": "stream",
          "name": "stderr",
          "text": [
            "Your max_length is set to 200, but your input_length is only 106. Since this is a summarization task, where outputs shorter than the input are typically wanted, you might consider decreasing max_length manually, e.g. summarizer('...', max_length=53)\n"
          ]
        },
        {
          "output_type": "stream",
          "name": "stdout",
          "text": [
            "37738ENG\n"
          ]
        },
        {
          "output_type": "stream",
          "name": "stderr",
          "text": [
            "Your max_length is set to 200, but your input_length is only 191. Since this is a summarization task, where outputs shorter than the input are typically wanted, you might consider decreasing max_length manually, e.g. summarizer('...', max_length=95)\n"
          ]
        },
        {
          "output_type": "stream",
          "name": "stdout",
          "text": [
            "83981ENG\n",
            "84952ENG\n",
            "7425eng\n",
            "84312ENG\n",
            "84732ENG\n"
          ]
        },
        {
          "output_type": "stream",
          "name": "stderr",
          "text": [
            "Your max_length is set to 200, but your input_length is only 145. Since this is a summarization task, where outputs shorter than the input are typically wanted, you might consider decreasing max_length manually, e.g. summarizer('...', max_length=72)\n"
          ]
        },
        {
          "output_type": "stream",
          "name": "stdout",
          "text": [
            "81154eng\n"
          ]
        },
        {
          "output_type": "stream",
          "name": "stderr",
          "text": [
            "Your max_length is set to 200, but your input_length is only 124. Since this is a summarization task, where outputs shorter than the input are typically wanted, you might consider decreasing max_length manually, e.g. summarizer('...', max_length=62)\n"
          ]
        },
        {
          "output_type": "stream",
          "name": "stdout",
          "text": [
            "85799ENG\n",
            "82291ENG\n",
            "82292ENG\n",
            "82293ENG\n",
            "82866ENG\n",
            "83552ENG\n",
            "83381ENG\n",
            "83364ENG\n",
            "85284ENG\n",
            "83551ENG\n",
            "82659ENG\n",
            "82658ENG\n"
          ]
        },
        {
          "output_type": "stream",
          "name": "stderr",
          "text": [
            "Your max_length is set to 200, but your input_length is only 187. Since this is a summarization task, where outputs shorter than the input are typically wanted, you might consider decreasing max_length manually, e.g. summarizer('...', max_length=93)\n"
          ]
        },
        {
          "output_type": "stream",
          "name": "stdout",
          "text": [
            "82519ENG\n"
          ]
        },
        {
          "output_type": "stream",
          "name": "stderr",
          "text": [
            "Your max_length is set to 200, but your input_length is only 189. Since this is a summarization task, where outputs shorter than the input are typically wanted, you might consider decreasing max_length manually, e.g. summarizer('...', max_length=94)\n"
          ]
        },
        {
          "output_type": "stream",
          "name": "stdout",
          "text": [
            "82518ENG\n",
            "83166ENG\n",
            "83165ENG\n",
            "83168ENG\n"
          ]
        },
        {
          "output_type": "stream",
          "name": "stderr",
          "text": [
            "Your max_length is set to 200, but your input_length is only 164. Since this is a summarization task, where outputs shorter than the input are typically wanted, you might consider decreasing max_length manually, e.g. summarizer('...', max_length=82)\n"
          ]
        },
        {
          "output_type": "stream",
          "name": "stdout",
          "text": [
            "83884ENG\n"
          ]
        },
        {
          "output_type": "stream",
          "name": "stderr",
          "text": [
            "Your max_length is set to 200, but your input_length is only 158. Since this is a summarization task, where outputs shorter than the input are typically wanted, you might consider decreasing max_length manually, e.g. summarizer('...', max_length=79)\n"
          ]
        },
        {
          "output_type": "stream",
          "name": "stdout",
          "text": [
            "85007ENG\n"
          ]
        },
        {
          "output_type": "stream",
          "name": "stderr",
          "text": [
            "Your max_length is set to 200, but your input_length is only 162. Since this is a summarization task, where outputs shorter than the input are typically wanted, you might consider decreasing max_length manually, e.g. summarizer('...', max_length=81)\n"
          ]
        },
        {
          "output_type": "stream",
          "name": "stdout",
          "text": [
            "85015ENG\n"
          ]
        },
        {
          "output_type": "stream",
          "name": "stderr",
          "text": [
            "Your max_length is set to 200, but your input_length is only 145. Since this is a summarization task, where outputs shorter than the input are typically wanted, you might consider decreasing max_length manually, e.g. summarizer('...', max_length=72)\n"
          ]
        },
        {
          "output_type": "stream",
          "name": "stdout",
          "text": [
            "85008ENG\n",
            "83104ENG\n"
          ]
        },
        {
          "output_type": "stream",
          "name": "stderr",
          "text": [
            "Your max_length is set to 200, but your input_length is only 181. Since this is a summarization task, where outputs shorter than the input are typically wanted, you might consider decreasing max_length manually, e.g. summarizer('...', max_length=90)\n"
          ]
        },
        {
          "output_type": "stream",
          "name": "stdout",
          "text": [
            "83191ENG\n",
            "82868ENG\n",
            "82867ENG\n",
            "82869ENG\n"
          ]
        },
        {
          "output_type": "stream",
          "name": "stderr",
          "text": [
            "Your max_length is set to 200, but your input_length is only 138. Since this is a summarization task, where outputs shorter than the input are typically wanted, you might consider decreasing max_length manually, e.g. summarizer('...', max_length=69)\n"
          ]
        },
        {
          "output_type": "stream",
          "name": "stdout",
          "text": [
            "84769ENG\n"
          ]
        },
        {
          "output_type": "stream",
          "name": "stderr",
          "text": [
            "Your max_length is set to 200, but your input_length is only 138. Since this is a summarization task, where outputs shorter than the input are typically wanted, you might consider decreasing max_length manually, e.g. summarizer('...', max_length=69)\n"
          ]
        },
        {
          "output_type": "stream",
          "name": "stdout",
          "text": [
            "84789ENG\n",
            "85251ENG\n"
          ]
        },
        {
          "output_type": "stream",
          "name": "stderr",
          "text": [
            "Your max_length is set to 200, but your input_length is only 188. Since this is a summarization task, where outputs shorter than the input are typically wanted, you might consider decreasing max_length manually, e.g. summarizer('...', max_length=94)\n"
          ]
        },
        {
          "output_type": "stream",
          "name": "stdout",
          "text": [
            "85332ENG\n"
          ]
        },
        {
          "output_type": "stream",
          "name": "stderr",
          "text": [
            "Your max_length is set to 200, but your input_length is only 159. Since this is a summarization task, where outputs shorter than the input are typically wanted, you might consider decreasing max_length manually, e.g. summarizer('...', max_length=79)\n"
          ]
        },
        {
          "output_type": "stream",
          "name": "stdout",
          "text": [
            "85672ENG\n"
          ]
        },
        {
          "output_type": "stream",
          "name": "stderr",
          "text": [
            "Your max_length is set to 200, but your input_length is only 160. Since this is a summarization task, where outputs shorter than the input are typically wanted, you might consider decreasing max_length manually, e.g. summarizer('...', max_length=80)\n"
          ]
        },
        {
          "output_type": "stream",
          "name": "stdout",
          "text": [
            "85674ENG\n"
          ]
        },
        {
          "output_type": "stream",
          "name": "stderr",
          "text": [
            "Your max_length is set to 200, but your input_length is only 144. Since this is a summarization task, where outputs shorter than the input are typically wanted, you might consider decreasing max_length manually, e.g. summarizer('...', max_length=72)\n"
          ]
        },
        {
          "output_type": "stream",
          "name": "stdout",
          "text": [
            "Skipping table 85674ENG due to error: Downloading table '85674ENG' failed. 403 Client Error: Table 85674ENG not available (Temporarily unavailable) for url: https://opendata.cbs.nl/ODataFeed/odata/85674ENG/DataProperties?%24format=json\n",
            "83774ENG\n"
          ]
        },
        {
          "output_type": "stream",
          "name": "stderr",
          "text": [
            "Your max_length is set to 200, but your input_length is only 162. Since this is a summarization task, where outputs shorter than the input are typically wanted, you might consider decreasing max_length manually, e.g. summarizer('...', max_length=81)\n"
          ]
        },
        {
          "output_type": "stream",
          "name": "stdout",
          "text": [
            "84757ENG\n"
          ]
        },
        {
          "output_type": "stream",
          "name": "stderr",
          "text": [
            "Your max_length is set to 200, but your input_length is only 163. Since this is a summarization task, where outputs shorter than the input are typically wanted, you might consider decreasing max_length manually, e.g. summarizer('...', max_length=81)\n"
          ]
        },
        {
          "output_type": "stream",
          "name": "stdout",
          "text": [
            "83698ENG\n"
          ]
        },
        {
          "output_type": "stream",
          "name": "stderr",
          "text": [
            "Your max_length is set to 200, but your input_length is only 165. Since this is a summarization task, where outputs shorter than the input are typically wanted, you might consider decreasing max_length manually, e.g. summarizer('...', max_length=82)\n"
          ]
        },
        {
          "output_type": "stream",
          "name": "stdout",
          "text": [
            "84712ENG\n",
            "85855ENG\n"
          ]
        },
        {
          "output_type": "stream",
          "name": "stderr",
          "text": [
            "Your max_length is set to 200, but your input_length is only 174. Since this is a summarization task, where outputs shorter than the input are typically wanted, you might consider decreasing max_length manually, e.g. summarizer('...', max_length=87)\n"
          ]
        },
        {
          "output_type": "stream",
          "name": "stdout",
          "text": [
            "84698ENG\n",
            "82557ENG\n",
            "82558ENG\n",
            "82559ENG\n",
            "82332ENG\n"
          ]
        },
        {
          "output_type": "stream",
          "name": "stderr",
          "text": [
            "Your max_length is set to 200, but your input_length is only 152. Since this is a summarization task, where outputs shorter than the input are typically wanted, you might consider decreasing max_length manually, e.g. summarizer('...', max_length=76)\n"
          ]
        },
        {
          "output_type": "stream",
          "name": "stdout",
          "text": [
            "83457ENG\n"
          ]
        },
        {
          "output_type": "stream",
          "name": "stderr",
          "text": [
            "Your max_length is set to 200, but your input_length is only 147. Since this is a summarization task, where outputs shorter than the input are typically wanted, you might consider decreasing max_length manually, e.g. summarizer('...', max_length=73)\n"
          ]
        },
        {
          "output_type": "stream",
          "name": "stdout",
          "text": [
            "83396ENG\n",
            "84046ENG\n",
            "82870ENG\n",
            "82803ENG\n",
            "83705ENG\n",
            "83707ENG\n",
            "83706ENG\n"
          ]
        },
        {
          "output_type": "stream",
          "name": "stderr",
          "text": [
            "Your max_length is set to 200, but your input_length is only 168. Since this is a summarization task, where outputs shorter than the input are typically wanted, you might consider decreasing max_length manually, e.g. summarizer('...', max_length=84)\n"
          ]
        },
        {
          "output_type": "stream",
          "name": "stdout",
          "text": [
            "60006eng\n",
            "85809ENG\n",
            "83824ENG\n"
          ]
        },
        {
          "output_type": "stream",
          "name": "stderr",
          "text": [
            "Your max_length is set to 200, but your input_length is only 180. Since this is a summarization task, where outputs shorter than the input are typically wanted, you might consider decreasing max_length manually, e.g. summarizer('...', max_length=90)\n"
          ]
        },
        {
          "output_type": "stream",
          "name": "stdout",
          "text": [
            "83837ENG\n",
            "85808ENG\n",
            "84294ENG\n",
            "83863ENG\n",
            "82574ENG\n",
            "83547ENG\n"
          ]
        },
        {
          "output_type": "stream",
          "name": "stderr",
          "text": [
            "Your max_length is set to 200, but your input_length is only 126. Since this is a summarization task, where outputs shorter than the input are typically wanted, you might consider decreasing max_length manually, e.g. summarizer('...', max_length=63)\n"
          ]
        },
        {
          "output_type": "stream",
          "name": "stdout",
          "text": [
            "70675eng\n"
          ]
        },
        {
          "output_type": "stream",
          "name": "stderr",
          "text": [
            "Your max_length is set to 200, but your input_length is only 101. Since this is a summarization task, where outputs shorter than the input are typically wanted, you might consider decreasing max_length manually, e.g. summarizer('...', max_length=50)\n"
          ]
        },
        {
          "output_type": "stream",
          "name": "stdout",
          "text": [
            "84824ENG\n"
          ]
        },
        {
          "output_type": "stream",
          "name": "stderr",
          "text": [
            "Your max_length is set to 200, but your input_length is only 107. Since this is a summarization task, where outputs shorter than the input are typically wanted, you might consider decreasing max_length manually, e.g. summarizer('...', max_length=53)\n"
          ]
        },
        {
          "output_type": "stream",
          "name": "stdout",
          "text": [
            "84822ENG\n"
          ]
        },
        {
          "output_type": "stream",
          "name": "stderr",
          "text": [
            "Your max_length is set to 200, but your input_length is only 126. Since this is a summarization task, where outputs shorter than the input are typically wanted, you might consider decreasing max_length manually, e.g. summarizer('...', max_length=63)\n"
          ]
        },
        {
          "output_type": "stream",
          "name": "stdout",
          "text": [
            "84825ENG\n"
          ]
        },
        {
          "output_type": "stream",
          "name": "stderr",
          "text": [
            "Your max_length is set to 200, but your input_length is only 120. Since this is a summarization task, where outputs shorter than the input are typically wanted, you might consider decreasing max_length manually, e.g. summarizer('...', max_length=60)\n"
          ]
        },
        {
          "output_type": "stream",
          "name": "stdout",
          "text": [
            "83162ENG\n"
          ]
        },
        {
          "output_type": "stream",
          "name": "stderr",
          "text": [
            "Your max_length is set to 200, but your input_length is only 141. Since this is a summarization task, where outputs shorter than the input are typically wanted, you might consider decreasing max_length manually, e.g. summarizer('...', max_length=70)\n"
          ]
        },
        {
          "output_type": "stream",
          "name": "stdout",
          "text": [
            "83163ENG\n"
          ]
        },
        {
          "output_type": "stream",
          "name": "stderr",
          "text": [
            "Your max_length is set to 200, but your input_length is only 87. Since this is a summarization task, where outputs shorter than the input are typically wanted, you might consider decreasing max_length manually, e.g. summarizer('...', max_length=43)\n"
          ]
        },
        {
          "output_type": "stream",
          "name": "stdout",
          "text": [
            "84823ENG\n",
            "81955ENG\n"
          ]
        },
        {
          "output_type": "stream",
          "name": "stderr",
          "text": [
            "Your max_length is set to 200, but your input_length is only 154. Since this is a summarization task, where outputs shorter than the input are typically wanted, you might consider decreasing max_length manually, e.g. summarizer('...', max_length=77)\n"
          ]
        },
        {
          "output_type": "stream",
          "name": "stdout",
          "text": [
            "84488ENG\n"
          ]
        },
        {
          "output_type": "stream",
          "name": "stderr",
          "text": [
            "Your max_length is set to 200, but your input_length is only 136. Since this is a summarization task, where outputs shorter than the input are typically wanted, you might consider decreasing max_length manually, e.g. summarizer('...', max_length=68)\n"
          ]
        },
        {
          "output_type": "stream",
          "name": "stdout",
          "text": [
            "84487ENG\n"
          ]
        },
        {
          "output_type": "stream",
          "name": "stderr",
          "text": [
            "Your max_length is set to 200, but your input_length is only 121. Since this is a summarization task, where outputs shorter than the input are typically wanted, you might consider decreasing max_length manually, e.g. summarizer('...', max_length=60)\n"
          ]
        },
        {
          "output_type": "stream",
          "name": "stdout",
          "text": [
            "84571ENG\n"
          ]
        },
        {
          "output_type": "stream",
          "name": "stderr",
          "text": [
            "Your max_length is set to 200, but your input_length is only 101. Since this is a summarization task, where outputs shorter than the input are typically wanted, you might consider decreasing max_length manually, e.g. summarizer('...', max_length=50)\n"
          ]
        },
        {
          "output_type": "stream",
          "name": "stdout",
          "text": [
            "84569ENG\n"
          ]
        },
        {
          "output_type": "stream",
          "name": "stderr",
          "text": [
            "Your max_length is set to 200, but your input_length is only 122. Since this is a summarization task, where outputs shorter than the input are typically wanted, you might consider decreasing max_length manually, e.g. summarizer('...', max_length=61)\n"
          ]
        },
        {
          "output_type": "stream",
          "name": "stdout",
          "text": [
            "84570ENG\n",
            "84538ENG\n",
            "81139eng\n",
            "85773ENG\n",
            "85791ENG\n",
            "85792ENG\n",
            "85819ENG\n",
            "83625ENG\n",
            "85728ENG\n",
            "85822ENG\n",
            "80444eng\n"
          ]
        },
        {
          "output_type": "stream",
          "name": "stderr",
          "text": [
            "Your max_length is set to 200, but your input_length is only 180. Since this is a summarization task, where outputs shorter than the input are typically wanted, you might consider decreasing max_length manually, e.g. summarizer('...', max_length=90)\n"
          ]
        },
        {
          "output_type": "stream",
          "name": "stdout",
          "text": [
            "85772ENG\n",
            "80334eng\n",
            "85838ENG\n"
          ]
        },
        {
          "output_type": "stream",
          "name": "stderr",
          "text": [
            "Your max_length is set to 200, but your input_length is only 148. Since this is a summarization task, where outputs shorter than the input are typically wanted, you might consider decreasing max_length manually, e.g. summarizer('...', max_length=74)\n"
          ]
        },
        {
          "output_type": "stream",
          "name": "stdout",
          "text": [
            "81156eng\n"
          ]
        },
        {
          "output_type": "stream",
          "name": "stderr",
          "text": [
            "Your max_length is set to 200, but your input_length is only 93. Since this is a summarization task, where outputs shorter than the input are typically wanted, you might consider decreasing max_length manually, e.g. summarizer('...', max_length=46)\n"
          ]
        },
        {
          "output_type": "stream",
          "name": "stdout",
          "text": [
            "81850ENG\n",
            "80393eng\n",
            "80509eng\n",
            "03753eng\n",
            "83989ENG\n",
            "83140ENG\n",
            "84472ENG\n",
            "71554eng\n",
            "84596ENG\n",
            "00372eng\n",
            "85929ENG\n",
            "80030eng\n",
            "84575ENG\n",
            "37823eng\n",
            "81528ENG\n",
            "83376ENG\n",
            "83374ENG\n"
          ]
        },
        {
          "output_type": "stream",
          "name": "stderr",
          "text": [
            "Your max_length is set to 200, but your input_length is only 189. Since this is a summarization task, where outputs shorter than the input are typically wanted, you might consider decreasing max_length manually, e.g. summarizer('...', max_length=94)\n"
          ]
        },
        {
          "output_type": "stream",
          "name": "stdout",
          "text": [
            "82117ENG\n",
            "82538ENG\n",
            "84918ENG\n",
            "82379ENG\n",
            "84714ENG\n"
          ]
        },
        {
          "output_type": "stream",
          "name": "stderr",
          "text": [
            "Your max_length is set to 200, but your input_length is only 157. Since this is a summarization task, where outputs shorter than the input are typically wanted, you might consider decreasing max_length manually, e.g. summarizer('...', max_length=78)\n"
          ]
        },
        {
          "output_type": "stream",
          "name": "stdout",
          "text": [
            "85899ENG\n",
            "82610ENG\n",
            "84917ENG\n",
            "85666ENG\n"
          ]
        },
        {
          "output_type": "stream",
          "name": "stderr",
          "text": [
            "Your max_length is set to 200, but your input_length is only 162. Since this is a summarization task, where outputs shorter than the input are typically wanted, you might consider decreasing max_length manually, e.g. summarizer('...', max_length=81)\n"
          ]
        },
        {
          "output_type": "stream",
          "name": "stdout",
          "text": [
            "85821ENG\n",
            "85824ENG\n"
          ]
        },
        {
          "output_type": "stream",
          "name": "stderr",
          "text": [
            "Your max_length is set to 200, but your input_length is only 160. Since this is a summarization task, where outputs shorter than the input are typically wanted, you might consider decreasing max_length manually, e.g. summarizer('...', max_length=80)\n"
          ]
        },
        {
          "output_type": "stream",
          "name": "stdout",
          "text": [
            "85256ENG\n"
          ]
        },
        {
          "output_type": "stream",
          "name": "stderr",
          "text": [
            "Your max_length is set to 200, but your input_length is only 176. Since this is a summarization task, where outputs shorter than the input are typically wanted, you might consider decreasing max_length manually, e.g. summarizer('...', max_length=88)\n"
          ]
        },
        {
          "output_type": "stream",
          "name": "stdout",
          "text": [
            "83728ENG\n"
          ]
        },
        {
          "output_type": "stream",
          "name": "stderr",
          "text": [
            "Your max_length is set to 200, but your input_length is only 149. Since this is a summarization task, where outputs shorter than the input are typically wanted, you might consider decreasing max_length manually, e.g. summarizer('...', max_length=74)\n"
          ]
        },
        {
          "output_type": "stream",
          "name": "stdout",
          "text": [
            "85257ENG\n",
            "85940ENG\n",
            "85943ENG\n"
          ]
        },
        {
          "output_type": "stream",
          "name": "stderr",
          "text": [
            "Your max_length is set to 200, but your input_length is only 179. Since this is a summarization task, where outputs shorter than the input are typically wanted, you might consider decreasing max_length manually, e.g. summarizer('...', max_length=89)\n"
          ]
        },
        {
          "output_type": "stream",
          "name": "stdout",
          "text": [
            "85942ENG\n",
            "85201ENG\n"
          ]
        },
        {
          "output_type": "stream",
          "name": "stderr",
          "text": [
            "Your max_length is set to 200, but your input_length is only 184. Since this is a summarization task, where outputs shorter than the input are typically wanted, you might consider decreasing max_length manually, e.g. summarizer('...', max_length=92)\n"
          ]
        },
        {
          "output_type": "stream",
          "name": "stdout",
          "text": [
            "85200ENG\n",
            "85206ENG\n"
          ]
        },
        {
          "output_type": "stream",
          "name": "stderr",
          "text": [
            "Your max_length is set to 200, but your input_length is only 184. Since this is a summarization task, where outputs shorter than the input are typically wanted, you might consider decreasing max_length manually, e.g. summarizer('...', max_length=92)\n"
          ]
        },
        {
          "output_type": "stream",
          "name": "stdout",
          "text": [
            "85204ENG\n",
            "85208ENG\n"
          ]
        },
        {
          "output_type": "stream",
          "name": "stderr",
          "text": [
            "Your max_length is set to 200, but your input_length is only 107. Since this is a summarization task, where outputs shorter than the input are typically wanted, you might consider decreasing max_length manually, e.g. summarizer('...', max_length=53)\n"
          ]
        },
        {
          "output_type": "stream",
          "name": "stdout",
          "text": [
            "82242ENG\n",
            "83085ENG\n"
          ]
        },
        {
          "output_type": "stream",
          "name": "stderr",
          "text": [
            "Your max_length is set to 200, but your input_length is only 109. Since this is a summarization task, where outputs shorter than the input are typically wanted, you might consider decreasing max_length manually, e.g. summarizer('...', max_length=54)\n"
          ]
        },
        {
          "output_type": "stream",
          "name": "stdout",
          "text": [
            "82522ENG\n"
          ]
        },
        {
          "output_type": "stream",
          "name": "stderr",
          "text": [
            "Your max_length is set to 200, but your input_length is only 110. Since this is a summarization task, where outputs shorter than the input are typically wanted, you might consider decreasing max_length manually, e.g. summarizer('...', max_length=55)\n"
          ]
        },
        {
          "output_type": "stream",
          "name": "stdout",
          "text": [
            "82244ENG\n"
          ]
        },
        {
          "output_type": "stream",
          "name": "stderr",
          "text": [
            "Your max_length is set to 200, but your input_length is only 106. Since this is a summarization task, where outputs shorter than the input are typically wanted, you might consider decreasing max_length manually, e.g. summarizer('...', max_length=53)\n"
          ]
        },
        {
          "output_type": "stream",
          "name": "stdout",
          "text": [
            "82243ENG\n"
          ]
        },
        {
          "output_type": "stream",
          "name": "stderr",
          "text": [
            "Your max_length is set to 200, but your input_length is only 101. Since this is a summarization task, where outputs shorter than the input are typically wanted, you might consider decreasing max_length manually, e.g. summarizer('...', max_length=50)\n"
          ]
        },
        {
          "output_type": "stream",
          "name": "stdout",
          "text": [
            "83719ENG\n",
            "85614ENG\n"
          ]
        },
        {
          "output_type": "stream",
          "name": "stderr",
          "text": [
            "Your max_length is set to 200, but your input_length is only 178. Since this is a summarization task, where outputs shorter than the input are typically wanted, you might consider decreasing max_length manually, e.g. summarizer('...', max_length=89)\n"
          ]
        },
        {
          "output_type": "stream",
          "name": "stdout",
          "text": [
            "85612ENG\n",
            "85611ENG\n",
            "85610ENG\n",
            "85609ENG\n"
          ]
        },
        {
          "output_type": "stream",
          "name": "stderr",
          "text": [
            "Your max_length is set to 200, but your input_length is only 176. Since this is a summarization task, where outputs shorter than the input are typically wanted, you might consider decreasing max_length manually, e.g. summarizer('...', max_length=88)\n"
          ]
        },
        {
          "output_type": "stream",
          "name": "stdout",
          "text": [
            "85842ENG\n",
            "85843ENG\n",
            "81234eng\n",
            "85986ENG\n",
            "85209ENG\n",
            "80728eng\n",
            "81351ENG\n",
            "81352ENG\n"
          ]
        },
        {
          "output_type": "stream",
          "name": "stderr",
          "text": [
            "Your max_length is set to 200, but your input_length is only 177. Since this is a summarization task, where outputs shorter than the input are typically wanted, you might consider decreasing max_length manually, e.g. summarizer('...', max_length=88)\n"
          ]
        },
        {
          "output_type": "stream",
          "name": "stdout",
          "text": [
            "82190ENG\n",
            "85136ENG\n",
            "85134ENG\n",
            "80066eng\n",
            "84644ENG\n",
            "85002ENG\n",
            "84985ENG\n",
            "85817ENG\n",
            "85828ENG\n",
            "83616ENG\n",
            "83643ENG\n",
            "71231ENG\n",
            "84415ENG\n",
            "84413ENG\n",
            "83641ENG\n",
            "83614ENG\n",
            "83642ENG\n",
            "81206ENG\n",
            "80889ENG\n",
            "71536ENG\n",
            "84322ENG\n",
            "7486eng\n",
            "83640ENG\n",
            "81879ENG\n",
            "83520ENG\n",
            "80445ENG\n",
            "81861ENG\n",
            "80892ENG\n",
            "85788ENG\n",
            "85789ENG\n",
            "85968ENG\n",
            "84118ENG\n",
            "84422ENG\n",
            "82823ENG\n",
            "84119ENG\n",
            "84116ENG\n",
            "84122ENG\n",
            "84117ENG\n",
            "82891ENG\n",
            "84576ENG\n",
            "84449ENG\n",
            "84115ENG\n",
            "85590ENG\n",
            "84120ENG\n"
          ]
        },
        {
          "output_type": "stream",
          "name": "stderr",
          "text": [
            "Your max_length is set to 200, but your input_length is only 166. Since this is a summarization task, where outputs shorter than the input are typically wanted, you might consider decreasing max_length manually, e.g. summarizer('...', max_length=83)\n"
          ]
        },
        {
          "output_type": "stream",
          "name": "stdout",
          "text": [
            "37979eng\n"
          ]
        },
        {
          "output_type": "stream",
          "name": "stderr",
          "text": [
            "Your max_length is set to 200, but your input_length is only 176. Since this is a summarization task, where outputs shorter than the input are typically wanted, you might consider decreasing max_length manually, e.g. summarizer('...', max_length=88)\n"
          ]
        },
        {
          "output_type": "stream",
          "name": "stdout",
          "text": [
            "7233ENG\n",
            "84726ENG\n",
            "7022eng\n",
            "7052eng\n",
            "81655ENG\n"
          ]
        },
        {
          "output_type": "stream",
          "name": "stderr",
          "text": [
            "Your max_length is set to 200, but your input_length is only 193. Since this is a summarization task, where outputs shorter than the input are typically wanted, you might consider decreasing max_length manually, e.g. summarizer('...', max_length=96)\n"
          ]
        },
        {
          "output_type": "stream",
          "name": "stdout",
          "text": [
            "70895ENG\n"
          ]
        },
        {
          "output_type": "stream",
          "name": "stderr",
          "text": [
            "Your max_length is set to 200, but your input_length is only 187. Since this is a summarization task, where outputs shorter than the input are typically wanted, you might consider decreasing max_length manually, e.g. summarizer('...', max_length=93)\n"
          ]
        },
        {
          "output_type": "stream",
          "name": "stdout",
          "text": [
            "82814ENG\n"
          ]
        },
        {
          "output_type": "stream",
          "name": "stderr",
          "text": [
            "Your max_length is set to 200, but your input_length is only 144. Since this is a summarization task, where outputs shorter than the input are typically wanted, you might consider decreasing max_length manually, e.g. summarizer('...', max_length=72)\n"
          ]
        },
        {
          "output_type": "stream",
          "name": "stdout",
          "text": [
            "84485ENG\n"
          ]
        },
        {
          "output_type": "stream",
          "name": "stderr",
          "text": [
            "Your max_length is set to 200, but your input_length is only 184. Since this is a summarization task, where outputs shorter than the input are typically wanted, you might consider decreasing max_length manually, e.g. summarizer('...', max_length=92)\n"
          ]
        },
        {
          "output_type": "stream",
          "name": "stdout",
          "text": [
            "84139ENG\n",
            "83652ENG\n",
            "85544ENG\n",
            "85545ENG\n",
            "85547ENG\n",
            "85548ENG\n",
            "85546ENG\n",
            "83700ENG\n",
            "85454ENG\n",
            "81071ENG\n",
            "81072ENG\n",
            "85418ENG\n",
            "80518ENG\n",
            "85542ENG\n",
            "81628ENG\n",
            "71950eng\n",
            "37852eng\n",
            "85457ENG\n"
          ]
        },
        {
          "output_type": "stream",
          "name": "stderr",
          "text": [
            "Your max_length is set to 200, but your input_length is only 183. Since this is a summarization task, where outputs shorter than the input are typically wanted, you might consider decreasing max_length manually, e.g. summarizer('...', max_length=91)\n"
          ]
        },
        {
          "output_type": "stream",
          "name": "stdout",
          "text": [
            "83693ENG\n"
          ]
        },
        {
          "output_type": "stream",
          "name": "stderr",
          "text": [
            "Your max_length is set to 200, but your input_length is only 121. Since this is a summarization task, where outputs shorter than the input are typically wanted, you might consider decreasing max_length manually, e.g. summarizer('...', max_length=60)\n"
          ]
        },
        {
          "output_type": "stream",
          "name": "stdout",
          "text": [
            "83694ENG\n"
          ]
        },
        {
          "output_type": "stream",
          "name": "stderr",
          "text": [
            "Your max_length is set to 200, but your input_length is only 162. Since this is a summarization task, where outputs shorter than the input are typically wanted, you might consider decreasing max_length manually, e.g. summarizer('...', max_length=81)\n"
          ]
        },
        {
          "output_type": "stream",
          "name": "stdout",
          "text": [
            "84465ENG\n"
          ]
        },
        {
          "output_type": "stream",
          "name": "stderr",
          "text": [
            "Your max_length is set to 200, but your input_length is only 167. Since this is a summarization task, where outputs shorter than the input are typically wanted, you might consider decreasing max_length manually, e.g. summarizer('...', max_length=83)\n"
          ]
        },
        {
          "output_type": "stream",
          "name": "stdout",
          "text": [
            "84242ENG\n"
          ]
        },
        {
          "output_type": "stream",
          "name": "stderr",
          "text": [
            "Your max_length is set to 200, but your input_length is only 169. Since this is a summarization task, where outputs shorter than the input are typically wanted, you might consider decreasing max_length manually, e.g. summarizer('...', max_length=84)\n"
          ]
        },
        {
          "output_type": "stream",
          "name": "stdout",
          "text": [
            "83781ENG\n"
          ]
        },
        {
          "output_type": "stream",
          "name": "stderr",
          "text": [
            "Your max_length is set to 200, but your input_length is only 164. Since this is a summarization task, where outputs shorter than the input are typically wanted, you might consider decreasing max_length manually, e.g. summarizer('...', max_length=82)\n"
          ]
        },
        {
          "output_type": "stream",
          "name": "stdout",
          "text": [
            "83779ENG\n"
          ]
        },
        {
          "output_type": "stream",
          "name": "stderr",
          "text": [
            "Your max_length is set to 200, but your input_length is only 172. Since this is a summarization task, where outputs shorter than the input are typically wanted, you might consider decreasing max_length manually, e.g. summarizer('...', max_length=86)\n"
          ]
        },
        {
          "output_type": "stream",
          "name": "stdout",
          "text": [
            "84336ENG\n",
            "84466ENG\n"
          ]
        },
        {
          "output_type": "stream",
          "name": "stderr",
          "text": [
            "Your max_length is set to 200, but your input_length is only 150. Since this is a summarization task, where outputs shorter than the input are typically wanted, you might consider decreasing max_length manually, e.g. summarizer('...', max_length=75)\n"
          ]
        },
        {
          "output_type": "stream",
          "name": "stdout",
          "text": [
            "70076eng\n",
            "83834ENG\n",
            "83739ENG\n",
            "83740ENG\n",
            "84748ENG\n",
            "84747ENG\n",
            "84746ENG\n"
          ]
        },
        {
          "output_type": "stream",
          "name": "stderr",
          "text": [
            "Your max_length is set to 200, but your input_length is only 152. Since this is a summarization task, where outputs shorter than the input are typically wanted, you might consider decreasing max_length manually, e.g. summarizer('...', max_length=76)\n"
          ]
        },
        {
          "output_type": "stream",
          "name": "stdout",
          "text": [
            "82007ENG\n",
            "84668ENG\n"
          ]
        },
        {
          "output_type": "stream",
          "name": "stderr",
          "text": [
            "Your max_length is set to 200, but your input_length is only 163. Since this is a summarization task, where outputs shorter than the input are typically wanted, you might consider decreasing max_length manually, e.g. summarizer('...', max_length=81)\n"
          ]
        },
        {
          "output_type": "stream",
          "name": "stdout",
          "text": [
            "81202eng\n"
          ]
        },
        {
          "output_type": "stream",
          "name": "stderr",
          "text": [
            "Your max_length is set to 200, but your input_length is only 138. Since this is a summarization task, where outputs shorter than the input are typically wanted, you might consider decreasing max_length manually, e.g. summarizer('...', max_length=69)\n"
          ]
        },
        {
          "output_type": "stream",
          "name": "stdout",
          "text": [
            "84407ENG\n",
            "84765ENG\n",
            "85427ENG\n",
            "85428ENG\n",
            "85429ENG\n"
          ]
        },
        {
          "output_type": "stream",
          "name": "stderr",
          "text": [
            "Your max_length is set to 200, but your input_length is only 188. Since this is a summarization task, where outputs shorter than the input are typically wanted, you might consider decreasing max_length manually, e.g. summarizer('...', max_length=94)\n"
          ]
        },
        {
          "output_type": "stream",
          "name": "stdout",
          "text": [
            "85680ENG\n"
          ]
        },
        {
          "output_type": "stream",
          "name": "stderr",
          "text": [
            "Your max_length is set to 200, but your input_length is only 188. Since this is a summarization task, where outputs shorter than the input are typically wanted, you might consider decreasing max_length manually, e.g. summarizer('...', max_length=94)\n"
          ]
        },
        {
          "output_type": "stream",
          "name": "stdout",
          "text": [
            "85681ENG\n"
          ]
        },
        {
          "output_type": "stream",
          "name": "stderr",
          "text": [
            "Your max_length is set to 200, but your input_length is only 188. Since this is a summarization task, where outputs shorter than the input are typically wanted, you might consider decreasing max_length manually, e.g. summarizer('...', max_length=94)\n"
          ]
        },
        {
          "output_type": "stream",
          "name": "stdout",
          "text": [
            "85682ENG\n"
          ]
        },
        {
          "output_type": "stream",
          "name": "stderr",
          "text": [
            "Your max_length is set to 200, but your input_length is only 188. Since this is a summarization task, where outputs shorter than the input are typically wanted, you might consider decreasing max_length manually, e.g. summarizer('...', max_length=94)\n"
          ]
        },
        {
          "output_type": "stream",
          "name": "stdout",
          "text": [
            "85683ENG\n",
            "85919ENG\n",
            "85917ENG\n"
          ]
        },
        {
          "output_type": "stream",
          "name": "stderr",
          "text": [
            "Your max_length is set to 200, but your input_length is only 174. Since this is a summarization task, where outputs shorter than the input are typically wanted, you might consider decreasing max_length manually, e.g. summarizer('...', max_length=87)\n"
          ]
        },
        {
          "output_type": "stream",
          "name": "stdout",
          "text": [
            "84669ENG\n",
            "85477ENG\n"
          ]
        },
        {
          "output_type": "stream",
          "name": "stderr",
          "text": [
            "Your max_length is set to 200, but your input_length is only 164. Since this is a summarization task, where outputs shorter than the input are typically wanted, you might consider decreasing max_length manually, e.g. summarizer('...', max_length=82)\n"
          ]
        },
        {
          "output_type": "stream",
          "name": "stdout",
          "text": [
            "85920ENG\n"
          ]
        },
        {
          "output_type": "stream",
          "name": "stderr",
          "text": [
            "Your max_length is set to 200, but your input_length is only 198. Since this is a summarization task, where outputs shorter than the input are typically wanted, you might consider decreasing max_length manually, e.g. summarizer('...', max_length=99)\n"
          ]
        },
        {
          "output_type": "stream",
          "name": "stdout",
          "text": [
            "85918ENG\n"
          ]
        },
        {
          "output_type": "stream",
          "name": "stderr",
          "text": [
            "Your max_length is set to 200, but your input_length is only 165. Since this is a summarization task, where outputs shorter than the input are typically wanted, you might consider decreasing max_length manually, e.g. summarizer('...', max_length=82)\n"
          ]
        },
        {
          "output_type": "stream",
          "name": "stdout",
          "text": [
            "85916ENG\n"
          ]
        },
        {
          "output_type": "stream",
          "name": "stderr",
          "text": [
            "Your max_length is set to 200, but your input_length is only 157. Since this is a summarization task, where outputs shorter than the input are typically wanted, you might consider decreasing max_length manually, e.g. summarizer('...', max_length=78)\n"
          ]
        },
        {
          "output_type": "stream",
          "name": "stdout",
          "text": [
            "81431ENG\n"
          ]
        },
        {
          "output_type": "stream",
          "name": "stderr",
          "text": [
            "Your max_length is set to 200, but your input_length is only 157. Since this is a summarization task, where outputs shorter than the input are typically wanted, you might consider decreasing max_length manually, e.g. summarizer('...', max_length=78)\n"
          ]
        },
        {
          "output_type": "stream",
          "name": "stdout",
          "text": [
            "81464ENG\n"
          ]
        },
        {
          "output_type": "stream",
          "name": "stderr",
          "text": [
            "Your max_length is set to 200, but your input_length is only 157. Since this is a summarization task, where outputs shorter than the input are typically wanted, you might consider decreasing max_length manually, e.g. summarizer('...', max_length=78)\n"
          ]
        },
        {
          "output_type": "stream",
          "name": "stdout",
          "text": [
            "81434ENG\n"
          ]
        },
        {
          "output_type": "stream",
          "name": "stderr",
          "text": [
            "Your max_length is set to 200, but your input_length is only 170. Since this is a summarization task, where outputs shorter than the input are typically wanted, you might consider decreasing max_length manually, e.g. summarizer('...', max_length=85)\n"
          ]
        },
        {
          "output_type": "stream",
          "name": "stdout",
          "text": [
            "81463ENG\n"
          ]
        },
        {
          "output_type": "stream",
          "name": "stderr",
          "text": [
            "Your max_length is set to 200, but your input_length is only 155. Since this is a summarization task, where outputs shorter than the input are typically wanted, you might consider decreasing max_length manually, e.g. summarizer('...', max_length=77)\n"
          ]
        },
        {
          "output_type": "stream",
          "name": "stdout",
          "text": [
            "81433ENG\n"
          ]
        },
        {
          "output_type": "stream",
          "name": "stderr",
          "text": [
            "Your max_length is set to 200, but your input_length is only 157. Since this is a summarization task, where outputs shorter than the input are typically wanted, you might consider decreasing max_length manually, e.g. summarizer('...', max_length=78)\n"
          ]
        },
        {
          "output_type": "stream",
          "name": "stdout",
          "text": [
            "81462ENG\n"
          ]
        },
        {
          "output_type": "stream",
          "name": "stderr",
          "text": [
            "Your max_length is set to 200, but your input_length is only 131. Since this is a summarization task, where outputs shorter than the input are typically wanted, you might consider decreasing max_length manually, e.g. summarizer('...', max_length=65)\n"
          ]
        },
        {
          "output_type": "stream",
          "name": "stdout",
          "text": [
            "81432ENG\n",
            "80857eng\n"
          ]
        },
        {
          "output_type": "stream",
          "name": "stderr",
          "text": [
            "Your max_length is set to 200, but your input_length is only 135. Since this is a summarization task, where outputs shorter than the input are typically wanted, you might consider decreasing max_length manually, e.g. summarizer('...', max_length=67)\n"
          ]
        },
        {
          "output_type": "stream",
          "name": "stdout",
          "text": [
            "85081ENG\n"
          ]
        },
        {
          "output_type": "stream",
          "name": "stderr",
          "text": [
            "Your max_length is set to 200, but your input_length is only 171. Since this is a summarization task, where outputs shorter than the input are typically wanted, you might consider decreasing max_length manually, e.g. summarizer('...', max_length=85)\n"
          ]
        },
        {
          "output_type": "stream",
          "name": "stdout",
          "text": [
            "80474eng\n"
          ]
        },
        {
          "output_type": "stream",
          "name": "stderr",
          "text": [
            "Your max_length is set to 200, but your input_length is only 196. Since this is a summarization task, where outputs shorter than the input are typically wanted, you might consider decreasing max_length manually, e.g. summarizer('...', max_length=98)\n"
          ]
        },
        {
          "output_type": "stream",
          "name": "stdout",
          "text": [
            "84545ENG\n"
          ]
        },
        {
          "output_type": "stream",
          "name": "stderr",
          "text": [
            "Your max_length is set to 200, but your input_length is only 153. Since this is a summarization task, where outputs shorter than the input are typically wanted, you might consider decreasing max_length manually, e.g. summarizer('...', max_length=76)\n"
          ]
        },
        {
          "output_type": "stream",
          "name": "stdout",
          "text": [
            "80567ENG\n"
          ]
        },
        {
          "output_type": "stream",
          "name": "stderr",
          "text": [
            "Your max_length is set to 200, but your input_length is only 152. Since this is a summarization task, where outputs shorter than the input are typically wanted, you might consider decreasing max_length manually, e.g. summarizer('...', max_length=76)\n"
          ]
        },
        {
          "output_type": "stream",
          "name": "stdout",
          "text": [
            "80472eng\n"
          ]
        },
        {
          "output_type": "stream",
          "name": "stderr",
          "text": [
            "Your max_length is set to 200, but your input_length is only 123. Since this is a summarization task, where outputs shorter than the input are typically wanted, you might consider decreasing max_length manually, e.g. summarizer('...', max_length=61)\n"
          ]
        },
        {
          "output_type": "stream",
          "name": "stdout",
          "text": [
            "83599ENG\n"
          ]
        },
        {
          "output_type": "stream",
          "name": "stderr",
          "text": [
            "Your max_length is set to 200, but your input_length is only 131. Since this is a summarization task, where outputs shorter than the input are typically wanted, you might consider decreasing max_length manually, e.g. summarizer('...', max_length=65)\n"
          ]
        },
        {
          "output_type": "stream",
          "name": "stdout",
          "text": [
            "80473eng\n"
          ]
        },
        {
          "output_type": "stream",
          "name": "stderr",
          "text": [
            "Your max_length is set to 200, but your input_length is only 160. Since this is a summarization task, where outputs shorter than the input are typically wanted, you might consider decreasing max_length manually, e.g. summarizer('...', max_length=80)\n"
          ]
        },
        {
          "output_type": "stream",
          "name": "stdout",
          "text": [
            "80590eng\n"
          ]
        },
        {
          "output_type": "stream",
          "name": "stderr",
          "text": [
            "Your max_length is set to 200, but your input_length is only 169. Since this is a summarization task, where outputs shorter than the input are typically wanted, you might consider decreasing max_length manually, e.g. summarizer('...', max_length=84)\n"
          ]
        },
        {
          "output_type": "stream",
          "name": "stdout",
          "text": [
            "80479eng\n",
            "85264ENG\n",
            "85272ENG\n",
            "82807ENG\n",
            "85262ENG\n",
            "82922ENG\n",
            "85366ENG\n",
            "82956ENG\n",
            "85263ENG\n",
            "82915ENG\n",
            "85663ENG\n",
            "82838ENG\n"
          ]
        },
        {
          "output_type": "stream",
          "name": "stderr",
          "text": [
            "Your max_length is set to 200, but your input_length is only 173. Since this is a summarization task, where outputs shorter than the input are typically wanted, you might consider decreasing max_length manually, e.g. summarizer('...', max_length=86)\n"
          ]
        },
        {
          "output_type": "stream",
          "name": "stdout",
          "text": [
            "85928ENG\n"
          ]
        },
        {
          "output_type": "stream",
          "name": "stderr",
          "text": [
            "Your max_length is set to 200, but your input_length is only 181. Since this is a summarization task, where outputs shorter than the input are typically wanted, you might consider decreasing max_length manually, e.g. summarizer('...', max_length=90)\n"
          ]
        },
        {
          "output_type": "stream",
          "name": "stdout",
          "text": [
            "37789eng\n",
            "85141ENG\n",
            "85970ENG\n"
          ]
        },
        {
          "output_type": "stream",
          "name": "stderr",
          "text": [
            "Your max_length is set to 200, but your input_length is only 113. Since this is a summarization task, where outputs shorter than the input are typically wanted, you might consider decreasing max_length manually, e.g. summarizer('...', max_length=56)\n"
          ]
        },
        {
          "output_type": "stream",
          "name": "stdout",
          "text": [
            "70077eng\n"
          ]
        },
        {
          "output_type": "stream",
          "name": "stderr",
          "text": [
            "Your max_length is set to 200, but your input_length is only 164. Since this is a summarization task, where outputs shorter than the input are typically wanted, you might consider decreasing max_length manually, e.g. summarizer('...', max_length=82)\n"
          ]
        },
        {
          "output_type": "stream",
          "name": "stdout",
          "text": [
            "70763eng\n",
            "70256eng\n",
            "85931ENG\n",
            "85930ENG\n"
          ]
        },
        {
          "output_type": "stream",
          "name": "stderr",
          "text": [
            "Your max_length is set to 200, but your input_length is only 82. Since this is a summarization task, where outputs shorter than the input are typically wanted, you might consider decreasing max_length manually, e.g. summarizer('...', max_length=41)\n"
          ]
        },
        {
          "output_type": "stream",
          "name": "stdout",
          "text": [
            "70232eng\n"
          ]
        },
        {
          "output_type": "stream",
          "name": "stderr",
          "text": [
            "Your max_length is set to 200, but your input_length is only 122. Since this is a summarization task, where outputs shorter than the input are typically wanted, you might consider decreasing max_length manually, e.g. summarizer('...', max_length=61)\n"
          ]
        },
        {
          "output_type": "stream",
          "name": "stdout",
          "text": [
            "85211ENG\n"
          ]
        },
        {
          "output_type": "stream",
          "name": "stderr",
          "text": [
            "Your max_length is set to 200, but your input_length is only 139. Since this is a summarization task, where outputs shorter than the input are typically wanted, you might consider decreasing max_length manually, e.g. summarizer('...', max_length=69)\n"
          ]
        },
        {
          "output_type": "stream",
          "name": "stdout",
          "text": [
            "7508eng\n",
            "82621ENG\n",
            "84039ENG\n",
            "84040ENG\n",
            "82061ENG\n",
            "84037ENG\n",
            "82062ENG\n",
            "82059ENG\n",
            "82058ENG\n",
            "85865ENG\n",
            "85879ENG\n",
            "85880ENG\n",
            "85872ENG\n",
            "85873ENG\n",
            "85937ENG\n",
            "85878ENG\n",
            "85870ENG\n",
            "85871ENG\n",
            "85939ENG\n",
            "85875ENG\n",
            "85958ENG\n",
            "85891ENG\n",
            "85867ENG\n",
            "85869ENG\n",
            "85962ENG\n"
          ]
        },
        {
          "output_type": "stream",
          "name": "stderr",
          "text": [
            "Your max_length is set to 200, but your input_length is only 125. Since this is a summarization task, where outputs shorter than the input are typically wanted, you might consider decreasing max_length manually, e.g. summarizer('...', max_length=62)\n"
          ]
        },
        {
          "output_type": "stream",
          "name": "stdout",
          "text": [
            "85835ENG\n",
            "Skipping table 85835ENG due to error: Downloading table '85835ENG' failed. 403 Client Error: Table 85835ENG not available (Temporarily unavailable) for url: https://opendata.cbs.nl/ODataFeed/odata/85835ENG/DataProperties?%24format=json\n",
            "83300ENG\n",
            "83154ENG\n",
            "83155ENG\n"
          ]
        },
        {
          "output_type": "stream",
          "name": "stderr",
          "text": [
            "Your max_length is set to 200, but your input_length is only 167. Since this is a summarization task, where outputs shorter than the input are typically wanted, you might consider decreasing max_length manually, e.g. summarizer('...', max_length=83)\n"
          ]
        },
        {
          "output_type": "stream",
          "name": "stdout",
          "text": [
            "82725ENG\n",
            "83180ENG\n",
            "83177ENG\n",
            "82539ENG\n",
            "82883ENG\n",
            "84546ENG\n",
            "84432ENG\n",
            "84361ENG\n",
            "84440ENG\n",
            "84441ENG\n"
          ]
        },
        {
          "output_type": "stream",
          "name": "stderr",
          "text": [
            "Your max_length is set to 200, but your input_length is only 124. Since this is a summarization task, where outputs shorter than the input are typically wanted, you might consider decreasing max_length manually, e.g. summarizer('...', max_length=62)\n"
          ]
        },
        {
          "output_type": "stream",
          "name": "stdout",
          "text": [
            "84458ENG\n",
            "84419ENG\n"
          ]
        },
        {
          "output_type": "stream",
          "name": "stderr",
          "text": [
            "Your max_length is set to 200, but your input_length is only 139. Since this is a summarization task, where outputs shorter than the input are typically wanted, you might consider decreasing max_length manually, e.g. summarizer('...', max_length=69)\n"
          ]
        },
        {
          "output_type": "stream",
          "name": "stdout",
          "text": [
            "84102ENG\n"
          ]
        },
        {
          "output_type": "stream",
          "name": "stderr",
          "text": [
            "Your max_length is set to 200, but your input_length is only 147. Since this is a summarization task, where outputs shorter than the input are typically wanted, you might consider decreasing max_length manually, e.g. summarizer('...', max_length=73)\n"
          ]
        },
        {
          "output_type": "stream",
          "name": "stdout",
          "text": [
            "84103ENG\n"
          ]
        },
        {
          "output_type": "stream",
          "name": "stderr",
          "text": [
            "Your max_length is set to 200, but your input_length is only 147. Since this is a summarization task, where outputs shorter than the input are typically wanted, you might consider decreasing max_length manually, e.g. summarizer('...', max_length=73)\n"
          ]
        },
        {
          "output_type": "stream",
          "name": "stdout",
          "text": [
            "84104ENG\n",
            "85881ENG\n"
          ]
        },
        {
          "output_type": "stream",
          "name": "stderr",
          "text": [
            "Your max_length is set to 200, but your input_length is only 197. Since this is a summarization task, where outputs shorter than the input are typically wanted, you might consider decreasing max_length manually, e.g. summarizer('...', max_length=98)\n"
          ]
        },
        {
          "output_type": "stream",
          "name": "stdout",
          "text": [
            "85952ENG\n",
            "85882ENG\n",
            "85883ENG\n",
            "85884ENG\n",
            "85953ENG\n",
            "85890ENG\n",
            "85886ENG\n",
            "85866ENG\n",
            "85981ENG\n",
            "85806ENG\n",
            "81810ENG\n"
          ]
        },
        {
          "output_type": "stream",
          "name": "stderr",
          "text": [
            "Your max_length is set to 200, but your input_length is only 176. Since this is a summarization task, where outputs shorter than the input are typically wanted, you might consider decreasing max_length manually, e.g. summarizer('...', max_length=88)\n"
          ]
        },
        {
          "output_type": "stream",
          "name": "stdout",
          "text": [
            "85798ENG\n"
          ]
        },
        {
          "output_type": "stream",
          "name": "stderr",
          "text": [
            "Your max_length is set to 200, but your input_length is only 152. Since this is a summarization task, where outputs shorter than the input are typically wanted, you might consider decreasing max_length manually, e.g. summarizer('...', max_length=76)\n"
          ]
        },
        {
          "output_type": "stream",
          "name": "stdout",
          "text": [
            "83876ENG\n",
            "85670ENG\n",
            "85669ENG\n",
            "85668ENG\n",
            "85347ENG\n",
            "84979ENG\n"
          ]
        },
        {
          "output_type": "stream",
          "name": "stderr",
          "text": [
            "Your max_length is set to 200, but your input_length is only 157. Since this is a summarization task, where outputs shorter than the input are typically wanted, you might consider decreasing max_length manually, e.g. summarizer('...', max_length=78)\n"
          ]
        },
        {
          "output_type": "stream",
          "name": "stdout",
          "text": [
            "82861ENG\n",
            "83558ENG\n",
            "83566ENG\n",
            "86053ENG\n",
            "7477eng\n",
            "70262ENG\n",
            "37105ENG\n"
          ]
        },
        {
          "output_type": "stream",
          "name": "stderr",
          "text": [
            "Your max_length is set to 200, but your input_length is only 149. Since this is a summarization task, where outputs shorter than the input are typically wanted, you might consider decreasing max_length manually, e.g. summarizer('...', max_length=74)\n"
          ]
        },
        {
          "output_type": "stream",
          "name": "stdout",
          "text": [
            "37772eng\n"
          ]
        },
        {
          "output_type": "stream",
          "name": "stderr",
          "text": [
            "Your max_length is set to 200, but your input_length is only 107. Since this is a summarization task, where outputs shorter than the input are typically wanted, you might consider decreasing max_length manually, e.g. summarizer('...', max_length=53)\n"
          ]
        },
        {
          "output_type": "stream",
          "name": "stdout",
          "text": [
            "37425eng\n"
          ]
        },
        {
          "output_type": "stream",
          "name": "stderr",
          "text": [
            "Your max_length is set to 200, but your input_length is only 165. Since this is a summarization task, where outputs shorter than the input are typically wanted, you might consider decreasing max_length manually, e.g. summarizer('...', max_length=82)\n"
          ]
        },
        {
          "output_type": "stream",
          "name": "stdout",
          "text": [
            "83102ENG\n",
            "85469ENG\n"
          ]
        },
        {
          "output_type": "stream",
          "name": "stderr",
          "text": [
            "Your max_length is set to 200, but your input_length is only 130. Since this is a summarization task, where outputs shorter than the input are typically wanted, you might consider decreasing max_length manually, e.g. summarizer('...', max_length=65)\n"
          ]
        },
        {
          "output_type": "stream",
          "name": "stdout",
          "text": [
            "85287ENG\n"
          ]
        },
        {
          "output_type": "stream",
          "name": "stderr",
          "text": [
            "Your max_length is set to 200, but your input_length is only 108. Since this is a summarization task, where outputs shorter than the input are typically wanted, you might consider decreasing max_length manually, e.g. summarizer('...', max_length=54)\n"
          ]
        },
        {
          "output_type": "stream",
          "name": "stdout",
          "text": [
            "03742eng\n",
            "37325eng\n",
            "82027ENG\n",
            "85722ENG\n",
            "37422eng\n"
          ]
        },
        {
          "output_type": "stream",
          "name": "stderr",
          "text": [
            "Your max_length is set to 200, but your input_length is only 151. Since this is a summarization task, where outputs shorter than the input are typically wanted, you might consider decreasing max_length manually, e.g. summarizer('...', max_length=75)\n"
          ]
        },
        {
          "output_type": "stream",
          "name": "stdout",
          "text": [
            "83474ENG\n"
          ]
        },
        {
          "output_type": "stream",
          "name": "stderr",
          "text": [
            "Your max_length is set to 200, but your input_length is only 155. Since this is a summarization task, where outputs shorter than the input are typically wanted, you might consider decreasing max_length manually, e.g. summarizer('...', max_length=77)\n"
          ]
        },
        {
          "output_type": "stream",
          "name": "stdout",
          "text": [
            "85742ENG\n",
            "85496ENG\n",
            "37296eng\n"
          ]
        },
        {
          "output_type": "stream",
          "name": "stderr",
          "text": [
            "Your max_length is set to 200, but your input_length is only 148. Since this is a summarization task, where outputs shorter than the input are typically wanted, you might consider decreasing max_length manually, e.g. summarizer('...', max_length=74)\n"
          ]
        },
        {
          "output_type": "stream",
          "name": "stdout",
          "text": [
            "82905ENG\n",
            "85524ENG\n",
            "37556eng\n",
            "85384ENG\n"
          ]
        },
        {
          "output_type": "stream",
          "name": "stderr",
          "text": [
            "Your max_length is set to 200, but your input_length is only 82. Since this is a summarization task, where outputs shorter than the input are typically wanted, you might consider decreasing max_length manually, e.g. summarizer('...', max_length=41)\n"
          ]
        },
        {
          "output_type": "stream",
          "name": "stdout",
          "text": [
            "7461eng\n",
            "85510ENG\n"
          ]
        },
        {
          "output_type": "stream",
          "name": "stderr",
          "text": [
            "Your max_length is set to 200, but your input_length is only 140. Since this is a summarization task, where outputs shorter than the input are typically wanted, you might consider decreasing max_length manually, e.g. summarizer('...', max_length=70)\n"
          ]
        },
        {
          "output_type": "stream",
          "name": "stdout",
          "text": [
            "03743eng\n",
            "37943eng\n",
            "37259eng\n",
            "83132ENG\n",
            "83134ENG\n",
            "70936eng\n",
            "83135ENG\n",
            "83133ENG\n",
            "83131ENG\n",
            "71905eng\n"
          ]
        },
        {
          "output_type": "stream",
          "name": "stderr",
          "text": [
            "Your max_length is set to 200, but your input_length is only 161. Since this is a summarization task, where outputs shorter than the input are typically wanted, you might consider decreasing max_length manually, e.g. summarizer('...', max_length=80)\n"
          ]
        },
        {
          "output_type": "stream",
          "name": "stdout",
          "text": [
            "85592ENG\n"
          ]
        },
        {
          "output_type": "stream",
          "name": "stderr",
          "text": [
            "Your max_length is set to 200, but your input_length is only 127. Since this is a summarization task, where outputs shorter than the input are typically wanted, you might consider decreasing max_length manually, e.g. summarizer('...', max_length=63)\n"
          ]
        },
        {
          "output_type": "stream",
          "name": "stdout",
          "text": [
            "80416ENG\n"
          ]
        },
        {
          "output_type": "stream",
          "name": "stderr",
          "text": [
            "Your max_length is set to 200, but your input_length is only 165. Since this is a summarization task, where outputs shorter than the input are typically wanted, you might consider decreasing max_length manually, e.g. summarizer('...', max_length=82)\n"
          ]
        },
        {
          "output_type": "stream",
          "name": "stdout",
          "text": [
            "81567ENG\n"
          ]
        },
        {
          "output_type": "stream",
          "name": "stderr",
          "text": [
            "Your max_length is set to 200, but your input_length is only 139. Since this is a summarization task, where outputs shorter than the input are typically wanted, you might consider decreasing max_length manually, e.g. summarizer('...', max_length=69)\n"
          ]
        },
        {
          "output_type": "stream",
          "name": "stdout",
          "text": [
            "85770ENG\n",
            "83935ENG\n"
          ]
        },
        {
          "output_type": "stream",
          "name": "stderr",
          "text": [
            "Your max_length is set to 200, but your input_length is only 134. Since this is a summarization task, where outputs shorter than the input are typically wanted, you might consider decreasing max_length manually, e.g. summarizer('...', max_length=67)\n"
          ]
        },
        {
          "output_type": "stream",
          "name": "stdout",
          "text": [
            "85771ENG\n",
            "83936ENG\n",
            "84064ENG\n",
            "80305ENG\n",
            "85830ENG\n",
            "85560ENG\n"
          ]
        },
        {
          "output_type": "stream",
          "name": "stderr",
          "text": [
            "Your max_length is set to 200, but your input_length is only 150. Since this is a summarization task, where outputs shorter than the input are typically wanted, you might consider decreasing max_length manually, e.g. summarizer('...', max_length=75)\n"
          ]
        },
        {
          "output_type": "stream",
          "name": "stdout",
          "text": [
            "85231ENG\n"
          ]
        },
        {
          "output_type": "stream",
          "name": "stderr",
          "text": [
            "Your max_length is set to 200, but your input_length is only 196. Since this is a summarization task, where outputs shorter than the input are typically wanted, you might consider decreasing max_length manually, e.g. summarizer('...', max_length=98)\n"
          ]
        },
        {
          "output_type": "stream",
          "name": "stdout",
          "text": [
            "84953ENG\n",
            "84710ENG\n",
            "84709ENG\n",
            "84713ENG\n",
            "84708ENG\n",
            "84702ENG\n"
          ]
        },
        {
          "output_type": "stream",
          "name": "stderr",
          "text": [
            "Your max_length is set to 200, but your input_length is only 154. Since this is a summarization task, where outputs shorter than the input are typically wanted, you might consider decreasing max_length manually, e.g. summarizer('...', max_length=77)\n"
          ]
        },
        {
          "output_type": "stream",
          "name": "stdout",
          "text": [
            "84711ENG\n"
          ]
        },
        {
          "output_type": "stream",
          "name": "stderr",
          "text": [
            "Your max_length is set to 200, but your input_length is only 188. Since this is a summarization task, where outputs shorter than the input are typically wanted, you might consider decreasing max_length manually, e.g. summarizer('...', max_length=94)\n"
          ]
        },
        {
          "output_type": "stream",
          "name": "stdout",
          "text": [
            "85056ENG\n"
          ]
        },
        {
          "output_type": "stream",
          "name": "stderr",
          "text": [
            "Your max_length is set to 200, but your input_length is only 188. Since this is a summarization task, where outputs shorter than the input are typically wanted, you might consider decreasing max_length manually, e.g. summarizer('...', max_length=94)\n"
          ]
        },
        {
          "output_type": "stream",
          "name": "stdout",
          "text": [
            "85055ENG\n"
          ]
        },
        {
          "output_type": "stream",
          "name": "stderr",
          "text": [
            "Your max_length is set to 200, but your input_length is only 197. Since this is a summarization task, where outputs shorter than the input are typically wanted, you might consider decreasing max_length manually, e.g. summarizer('...', max_length=98)\n"
          ]
        },
        {
          "output_type": "stream",
          "name": "stdout",
          "text": [
            "84707ENG\n"
          ]
        },
        {
          "output_type": "stream",
          "name": "stderr",
          "text": [
            "Your max_length is set to 200, but your input_length is only 120. Since this is a summarization task, where outputs shorter than the input are typically wanted, you might consider decreasing max_length manually, e.g. summarizer('...', max_length=60)\n"
          ]
        },
        {
          "output_type": "stream",
          "name": "stdout",
          "text": [
            "83488ENG\n",
            "80059eng\n",
            "80498eng\n"
          ]
        },
        {
          "output_type": "stream",
          "name": "stderr",
          "text": [
            "Your max_length is set to 200, but your input_length is only 196. Since this is a summarization task, where outputs shorter than the input are typically wanted, you might consider decreasing max_length manually, e.g. summarizer('...', max_length=98)\n"
          ]
        },
        {
          "output_type": "stream",
          "name": "stdout",
          "text": [
            "82045ENG\n"
          ]
        },
        {
          "output_type": "stream",
          "name": "stderr",
          "text": [
            "Your max_length is set to 200, but your input_length is only 159. Since this is a summarization task, where outputs shorter than the input are typically wanted, you might consider decreasing max_length manually, e.g. summarizer('...', max_length=79)\n"
          ]
        },
        {
          "output_type": "stream",
          "name": "stdout",
          "text": [
            "83823ENG\n"
          ]
        },
        {
          "output_type": "stream",
          "name": "stderr",
          "text": [
            "Your max_length is set to 200, but your input_length is only 179. Since this is a summarization task, where outputs shorter than the input are typically wanted, you might consider decreasing max_length manually, e.g. summarizer('...', max_length=89)\n"
          ]
        },
        {
          "output_type": "stream",
          "name": "stdout",
          "text": [
            "83839ENG\n",
            "83868ENG\n",
            "83867ENG\n"
          ]
        },
        {
          "output_type": "stream",
          "name": "stderr",
          "text": [
            "Your max_length is set to 200, but your input_length is only 169. Since this is a summarization task, where outputs shorter than the input are typically wanted, you might consider decreasing max_length manually, e.g. summarizer('...', max_length=84)\n"
          ]
        },
        {
          "output_type": "stream",
          "name": "stdout",
          "text": [
            "83827ENG\n",
            "85243ENG\n"
          ]
        },
        {
          "output_type": "stream",
          "name": "stderr",
          "text": [
            "Your max_length is set to 200, but your input_length is only 183. Since this is a summarization task, where outputs shorter than the input are typically wanted, you might consider decreasing max_length manually, e.g. summarizer('...', max_length=91)\n"
          ]
        },
        {
          "output_type": "stream",
          "name": "stdout",
          "text": [
            "82044ENG\n"
          ]
        },
        {
          "output_type": "stream",
          "name": "stderr",
          "text": [
            "Your max_length is set to 200, but your input_length is only 157. Since this is a summarization task, where outputs shorter than the input are typically wanted, you might consider decreasing max_length manually, e.g. summarizer('...', max_length=78)\n"
          ]
        },
        {
          "output_type": "stream",
          "name": "stdout",
          "text": [
            "80379ENG\n",
            "84755ENG\n"
          ]
        },
        {
          "output_type": "stream",
          "name": "stderr",
          "text": [
            "Your max_length is set to 200, but your input_length is only 134. Since this is a summarization task, where outputs shorter than the input are typically wanted, you might consider decreasing max_length manually, e.g. summarizer('...', max_length=67)\n"
          ]
        },
        {
          "output_type": "stream",
          "name": "stdout",
          "text": [
            "84687ENG\n",
            "85395ENG\n",
            "85415ENG\n",
            "85416ENG\n",
            "83101ENG\n"
          ]
        },
        {
          "output_type": "stream",
          "name": "stderr",
          "text": [
            "Your max_length is set to 200, but your input_length is only 171. Since this is a summarization task, where outputs shorter than the input are typically wanted, you might consider decreasing max_length manually, e.g. summarizer('...', max_length=85)\n"
          ]
        },
        {
          "output_type": "stream",
          "name": "stdout",
          "text": [
            "83856ENG\n",
            "37478eng\n",
            "84735ENG\n"
          ]
        },
        {
          "output_type": "stream",
          "name": "stderr",
          "text": [
            "Your max_length is set to 200, but your input_length is only 136. Since this is a summarization task, where outputs shorter than the input are typically wanted, you might consider decreasing max_length manually, e.g. summarizer('...', max_length=68)\n"
          ]
        },
        {
          "output_type": "stream",
          "name": "stdout",
          "text": [
            "80274eng\n"
          ]
        },
        {
          "output_type": "stream",
          "name": "stderr",
          "text": [
            "Your max_length is set to 200, but your input_length is only 179. Since this is a summarization task, where outputs shorter than the input are typically wanted, you might consider decreasing max_length manually, e.g. summarizer('...', max_length=89)\n"
          ]
        },
        {
          "output_type": "stream",
          "name": "stdout",
          "text": [
            "7373eng\n"
          ]
        },
        {
          "output_type": "stream",
          "name": "stderr",
          "text": [
            "Your max_length is set to 200, but your input_length is only 196. Since this is a summarization task, where outputs shorter than the input are typically wanted, you might consider decreasing max_length manually, e.g. summarizer('...', max_length=98)\n"
          ]
        },
        {
          "output_type": "stream",
          "name": "stdout",
          "text": [
            "80408ENG\n"
          ]
        },
        {
          "output_type": "stream",
          "name": "stderr",
          "text": [
            "Your max_length is set to 200, but your input_length is only 168. Since this is a summarization task, where outputs shorter than the input are typically wanted, you might consider decreasing max_length manually, e.g. summarizer('...', max_length=84)\n"
          ]
        },
        {
          "output_type": "stream",
          "name": "stdout",
          "text": [
            "82504ENG\n",
            "7355ENG\n"
          ]
        },
        {
          "output_type": "stream",
          "name": "stderr",
          "text": [
            "Your max_length is set to 200, but your input_length is only 150. Since this is a summarization task, where outputs shorter than the input are typically wanted, you might consider decreasing max_length manually, e.g. summarizer('...', max_length=75)\n"
          ]
        },
        {
          "output_type": "stream",
          "name": "stdout",
          "text": [
            "81162eng\n",
            "71839eng\n",
            "7100eng\n"
          ]
        },
        {
          "output_type": "stream",
          "name": "stderr",
          "text": [
            "Your max_length is set to 200, but your input_length is only 184. Since this is a summarization task, where outputs shorter than the input are typically wanted, you might consider decreasing max_length manually, e.g. summarizer('...', max_length=92)\n"
          ]
        },
        {
          "output_type": "stream",
          "name": "stdout",
          "text": [
            "70671ENG\n",
            "71842eng\n"
          ]
        },
        {
          "output_type": "stream",
          "name": "stderr",
          "text": [
            "Your max_length is set to 200, but your input_length is only 166. Since this is a summarization task, where outputs shorter than the input are typically wanted, you might consider decreasing max_length manually, e.g. summarizer('...', max_length=83)\n"
          ]
        },
        {
          "output_type": "stream",
          "name": "stdout",
          "text": [
            "71483eng\n"
          ]
        },
        {
          "output_type": "stream",
          "name": "stderr",
          "text": [
            "Your max_length is set to 200, but your input_length is only 163. Since this is a summarization task, where outputs shorter than the input are typically wanted, you might consider decreasing max_length manually, e.g. summarizer('...', max_length=81)\n"
          ]
        },
        {
          "output_type": "stream",
          "name": "stdout",
          "text": [
            "71509ENG\n"
          ]
        },
        {
          "output_type": "stream",
          "name": "stderr",
          "text": [
            "Your max_length is set to 200, but your input_length is only 144. Since this is a summarization task, where outputs shorter than the input are typically wanted, you might consider decreasing max_length manually, e.g. summarizer('...', max_length=72)\n"
          ]
        },
        {
          "output_type": "stream",
          "name": "stdout",
          "text": [
            "81059eng\n"
          ]
        },
        {
          "output_type": "stream",
          "name": "stderr",
          "text": [
            "Your max_length is set to 200, but your input_length is only 140. Since this is a summarization task, where outputs shorter than the input are typically wanted, you might consider decreasing max_length manually, e.g. summarizer('...', max_length=70)\n"
          ]
        },
        {
          "output_type": "stream",
          "name": "stdout",
          "text": [
            "81060eng\n"
          ]
        },
        {
          "output_type": "stream",
          "name": "stderr",
          "text": [
            "Your max_length is set to 200, but your input_length is only 161. Since this is a summarization task, where outputs shorter than the input are typically wanted, you might consider decreasing max_length manually, e.g. summarizer('...', max_length=80)\n"
          ]
        },
        {
          "output_type": "stream",
          "name": "stdout",
          "text": [
            "81058eng\n"
          ]
        },
        {
          "output_type": "stream",
          "name": "stderr",
          "text": [
            "Your max_length is set to 200, but your input_length is only 192. Since this is a summarization task, where outputs shorter than the input are typically wanted, you might consider decreasing max_length manually, e.g. summarizer('...', max_length=96)\n"
          ]
        },
        {
          "output_type": "stream",
          "name": "stdout",
          "text": [
            "82071ENG\n",
            "82070ENG\n",
            "82069ENG\n",
            "80539ENG\n",
            "80534ENG\n",
            "81122eng\n"
          ]
        },
        {
          "output_type": "stream",
          "name": "stderr",
          "text": [
            "Your max_length is set to 200, but your input_length is only 172. Since this is a summarization task, where outputs shorter than the input are typically wanted, you might consider decreasing max_length manually, e.g. summarizer('...', max_length=86)\n"
          ]
        },
        {
          "output_type": "stream",
          "name": "stdout",
          "text": [
            "83776ENG\n"
          ]
        },
        {
          "output_type": "stream",
          "name": "stderr",
          "text": [
            "Your max_length is set to 200, but your input_length is only 127. Since this is a summarization task, where outputs shorter than the input are typically wanted, you might consider decreasing max_length manually, e.g. summarizer('...', max_length=63)\n"
          ]
        },
        {
          "output_type": "stream",
          "name": "stdout",
          "text": [
            "80576eng\n",
            "84786ENG\n"
          ]
        },
        {
          "output_type": "stream",
          "name": "stderr",
          "text": [
            "Your max_length is set to 200, but your input_length is only 111. Since this is a summarization task, where outputs shorter than the input are typically wanted, you might consider decreasing max_length manually, e.g. summarizer('...', max_length=55)\n"
          ]
        },
        {
          "output_type": "stream",
          "name": "stdout",
          "text": [
            "82231ENG\n",
            "7076eng\n"
          ]
        },
        {
          "output_type": "stream",
          "name": "stderr",
          "text": [
            "Your max_length is set to 200, but your input_length is only 147. Since this is a summarization task, where outputs shorter than the input are typically wanted, you might consider decreasing max_length manually, e.g. summarizer('...', max_length=73)\n"
          ]
        },
        {
          "output_type": "stream",
          "name": "stdout",
          "text": [
            "81158eng\n",
            "71836eng\n",
            "81808ENG\n",
            "81802ENG\n"
          ]
        },
        {
          "output_type": "stream",
          "name": "stderr",
          "text": [
            "Your max_length is set to 200, but your input_length is only 184. Since this is a summarization task, where outputs shorter than the input are typically wanted, you might consider decreasing max_length manually, e.g. summarizer('...', max_length=92)\n"
          ]
        },
        {
          "output_type": "stream",
          "name": "stdout",
          "text": [
            "72004eng\n"
          ]
        },
        {
          "output_type": "stream",
          "name": "stderr",
          "text": [
            "Your max_length is set to 200, but your input_length is only 170. Since this is a summarization task, where outputs shorter than the input are typically wanted, you might consider decreasing max_length manually, e.g. summarizer('...', max_length=85)\n"
          ]
        },
        {
          "output_type": "stream",
          "name": "stdout",
          "text": [
            "71999eng\n"
          ]
        },
        {
          "output_type": "stream",
          "name": "stderr",
          "text": [
            "Your max_length is set to 200, but your input_length is only 61. Since this is a summarization task, where outputs shorter than the input are typically wanted, you might consider decreasing max_length manually, e.g. summarizer('...', max_length=30)\n"
          ]
        },
        {
          "output_type": "stream",
          "name": "stdout",
          "text": [
            "81114eng\n"
          ]
        },
        {
          "output_type": "stream",
          "name": "stderr",
          "text": [
            "Your max_length is set to 200, but your input_length is only 59. Since this is a summarization task, where outputs shorter than the input are typically wanted, you might consider decreasing max_length manually, e.g. summarizer('...', max_length=29)\n"
          ]
        },
        {
          "output_type": "stream",
          "name": "stdout",
          "text": [
            "37821eng\n",
            "81987ENG\n",
            "7413eng\n",
            "82261ENG\n"
          ]
        },
        {
          "output_type": "stream",
          "name": "stderr",
          "text": [
            "Your max_length is set to 200, but your input_length is only 47. Since this is a summarization task, where outputs shorter than the input are typically wanted, you might consider decreasing max_length manually, e.g. summarizer('...', max_length=23)\n"
          ]
        },
        {
          "output_type": "stream",
          "name": "stdout",
          "text": [
            "80858eng\n"
          ]
        },
        {
          "output_type": "stream",
          "name": "stderr",
          "text": [
            "Your max_length is set to 200, but your input_length is only 120. Since this is a summarization task, where outputs shorter than the input are typically wanted, you might consider decreasing max_length manually, e.g. summarizer('...', max_length=60)\n"
          ]
        },
        {
          "output_type": "stream",
          "name": "stdout",
          "text": [
            "80573eng\n"
          ]
        },
        {
          "output_type": "stream",
          "name": "stderr",
          "text": [
            "Your max_length is set to 200, but your input_length is only 128. Since this is a summarization task, where outputs shorter than the input are typically wanted, you might consider decreasing max_length manually, e.g. summarizer('...', max_length=64)\n"
          ]
        },
        {
          "output_type": "stream",
          "name": "stdout",
          "text": [
            "80503eng\n",
            "83913ENG\n",
            "84997ENG\n",
            "83910ENG\n",
            "83906ENG\n",
            "81884ENG\n",
            "81885ENG\n",
            "80330eng\n",
            "81886ENG\n",
            "71533eng\n"
          ]
        },
        {
          "output_type": "stream",
          "name": "stderr",
          "text": [
            "Your max_length is set to 200, but your input_length is only 43. Since this is a summarization task, where outputs shorter than the input are typically wanted, you might consider decreasing max_length manually, e.g. summarizer('...', max_length=21)\n"
          ]
        },
        {
          "output_type": "stream",
          "name": "stdout",
          "text": [
            "37631ENG\n"
          ]
        },
        {
          "output_type": "stream",
          "name": "stderr",
          "text": [
            "Your max_length is set to 200, but your input_length is only 48. Since this is a summarization task, where outputs shorter than the input are typically wanted, you might consider decreasing max_length manually, e.g. summarizer('...', max_length=24)\n"
          ]
        },
        {
          "output_type": "stream",
          "name": "stdout",
          "text": [
            "03756ENG\n"
          ]
        },
        {
          "output_type": "stream",
          "name": "stderr",
          "text": [
            "Your max_length is set to 200, but your input_length is only 46. Since this is a summarization task, where outputs shorter than the input are typically wanted, you might consider decreasing max_length manually, e.g. summarizer('...', max_length=23)\n"
          ]
        },
        {
          "output_type": "stream",
          "name": "stdout",
          "text": [
            "70926ENG\n",
            "80032eng\n",
            "83887ENG\n",
            "81911ENG\n"
          ]
        },
        {
          "output_type": "stream",
          "name": "stderr",
          "text": [
            "Your max_length is set to 200, but your input_length is only 193. Since this is a summarization task, where outputs shorter than the input are typically wanted, you might consider decreasing max_length manually, e.g. summarizer('...', max_length=96)\n"
          ]
        },
        {
          "output_type": "stream",
          "name": "stdout",
          "text": [
            "82039ENG\n"
          ]
        },
        {
          "output_type": "stream",
          "name": "stderr",
          "text": [
            "Your max_length is set to 200, but your input_length is only 186. Since this is a summarization task, where outputs shorter than the input are typically wanted, you might consider decreasing max_length manually, e.g. summarizer('...', max_length=93)\n"
          ]
        },
        {
          "output_type": "stream",
          "name": "stdout",
          "text": [
            "80278eng\n"
          ]
        },
        {
          "output_type": "stream",
          "name": "stderr",
          "text": [
            "Your max_length is set to 200, but your input_length is only 35. Since this is a summarization task, where outputs shorter than the input are typically wanted, you might consider decreasing max_length manually, e.g. summarizer('...', max_length=17)\n"
          ]
        },
        {
          "output_type": "stream",
          "name": "stdout",
          "text": [
            "70956eng\n",
            "83908ENG\n",
            "84307ENG\n"
          ]
        },
        {
          "output_type": "stream",
          "name": "stderr",
          "text": [
            "Your max_length is set to 200, but your input_length is only 63. Since this is a summarization task, where outputs shorter than the input are typically wanted, you might consider decreasing max_length manually, e.g. summarizer('...', max_length=31)\n"
          ]
        },
        {
          "output_type": "stream",
          "name": "stdout",
          "text": [
            "37476ENG\n"
          ]
        },
        {
          "output_type": "stream",
          "name": "stderr",
          "text": [
            "Your max_length is set to 200, but your input_length is only 46. Since this is a summarization task, where outputs shorter than the input are typically wanted, you might consider decreasing max_length manually, e.g. summarizer('...', max_length=23)\n"
          ]
        },
        {
          "output_type": "stream",
          "name": "stdout",
          "text": [
            "70945eng\n"
          ]
        },
        {
          "output_type": "stream",
          "name": "stderr",
          "text": [
            "Your max_length is set to 200, but your input_length is only 51. Since this is a summarization task, where outputs shorter than the input are typically wanted, you might consider decreasing max_length manually, e.g. summarizer('...', max_length=25)\n"
          ]
        },
        {
          "output_type": "stream",
          "name": "stdout",
          "text": [
            "37132ENG\n",
            "70979eng\n"
          ]
        },
        {
          "output_type": "stream",
          "name": "stderr",
          "text": [
            "Your max_length is set to 200, but your input_length is only 53. Since this is a summarization task, where outputs shorter than the input are typically wanted, you might consider decreasing max_length manually, e.g. summarizer('...', max_length=26)\n"
          ]
        },
        {
          "output_type": "stream",
          "name": "stdout",
          "text": [
            "60011ENG\n",
            "37263eng\n"
          ]
        },
        {
          "output_type": "stream",
          "name": "stderr",
          "text": [
            "Your max_length is set to 200, but your input_length is only 43. Since this is a summarization task, where outputs shorter than the input are typically wanted, you might consider decreasing max_length manually, e.g. summarizer('...', max_length=21)\n"
          ]
        },
        {
          "output_type": "stream",
          "name": "stdout",
          "text": [
            "60043ENG\n",
            "83368ENG\n",
            "82324ENG\n",
            "71835eng\n"
          ]
        },
        {
          "output_type": "stream",
          "name": "stderr",
          "text": [
            "Your max_length is set to 200, but your input_length is only 44. Since this is a summarization task, where outputs shorter than the input are typically wanted, you might consider decreasing max_length manually, e.g. summarizer('...', max_length=22)\n"
          ]
        },
        {
          "output_type": "stream",
          "name": "stdout",
          "text": [
            "37931eng\n",
            "81491ENG\n"
          ]
        },
        {
          "output_type": "stream",
          "name": "stderr",
          "text": [
            "Your max_length is set to 200, but your input_length is only 117. Since this is a summarization task, where outputs shorter than the input are typically wanted, you might consider decreasing max_length manually, e.g. summarizer('...', max_length=58)\n"
          ]
        },
        {
          "output_type": "stream",
          "name": "stdout",
          "text": [
            "80006eng\n"
          ]
        },
        {
          "output_type": "stream",
          "name": "stderr",
          "text": [
            "Your max_length is set to 200, but your input_length is only 184. Since this is a summarization task, where outputs shorter than the input are typically wanted, you might consider decreasing max_length manually, e.g. summarizer('...', max_length=92)\n"
          ]
        },
        {
          "output_type": "stream",
          "name": "stdout",
          "text": [
            "82374ENG\n",
            "82375ENG\n"
          ]
        },
        {
          "output_type": "stream",
          "name": "stderr",
          "text": [
            "Your max_length is set to 200, but your input_length is only 145. Since this is a summarization task, where outputs shorter than the input are typically wanted, you might consider decreasing max_length manually, e.g. summarizer('...', max_length=72)\n"
          ]
        },
        {
          "output_type": "stream",
          "name": "stdout",
          "text": [
            "82369ENG\n"
          ]
        },
        {
          "output_type": "stream",
          "name": "stderr",
          "text": [
            "Your max_length is set to 200, but your input_length is only 176. Since this is a summarization task, where outputs shorter than the input are typically wanted, you might consider decreasing max_length manually, e.g. summarizer('...', max_length=88)\n"
          ]
        },
        {
          "output_type": "stream",
          "name": "stdout",
          "text": [
            "82371ENG\n",
            "83406ENG\n",
            "80101eng\n",
            "71456eng\n"
          ]
        },
        {
          "output_type": "stream",
          "name": "stderr",
          "text": [
            "Your max_length is set to 200, but your input_length is only 128. Since this is a summarization task, where outputs shorter than the input are typically wanted, you might consider decreasing max_length manually, e.g. summarizer('...', max_length=64)\n"
          ]
        },
        {
          "output_type": "stream",
          "name": "stdout",
          "text": [
            "70789eng\n"
          ]
        },
        {
          "output_type": "stream",
          "name": "stderr",
          "text": [
            "Your max_length is set to 200, but your input_length is only 123. Since this is a summarization task, where outputs shorter than the input are typically wanted, you might consider decreasing max_length manually, e.g. summarizer('...', max_length=61)\n"
          ]
        },
        {
          "output_type": "stream",
          "name": "stdout",
          "text": [
            "71457eng\n",
            "83109ENG\n",
            "7516eng\n"
          ]
        },
        {
          "output_type": "stream",
          "name": "stderr",
          "text": [
            "Your max_length is set to 200, but your input_length is only 198. Since this is a summarization task, where outputs shorter than the input are typically wanted, you might consider decreasing max_length manually, e.g. summarizer('...', max_length=99)\n"
          ]
        },
        {
          "output_type": "stream",
          "name": "stdout",
          "text": [
            "70802eng\n",
            "84672ENG\n",
            "37621eng\n",
            "83325ENG\n",
            "80099eng\n"
          ]
        },
        {
          "output_type": "stream",
          "name": "stderr",
          "text": [
            "Your max_length is set to 200, but your input_length is only 177. Since this is a summarization task, where outputs shorter than the input are typically wanted, you might consider decreasing max_length manually, e.g. summarizer('...', max_length=88)\n"
          ]
        },
        {
          "output_type": "stream",
          "name": "stdout",
          "text": [
            "00377eng\n",
            "71840eng\n",
            "72002eng\n",
            "37281eng\n",
            "70846eng\n",
            "80324eng\n",
            "83141ENG\n"
          ]
        },
        {
          "output_type": "stream",
          "name": "stderr",
          "text": [
            "Your max_length is set to 200, but your input_length is only 146. Since this is a summarization task, where outputs shorter than the input are typically wanted, you might consider decreasing max_length manually, e.g. summarizer('...', max_length=73)\n"
          ]
        },
        {
          "output_type": "stream",
          "name": "stdout",
          "text": [
            "81163eng\n",
            "83403ENG\n",
            "80100eng\n",
            "37215eng\n"
          ]
        },
        {
          "output_type": "stream",
          "name": "stderr",
          "text": [
            "Your max_length is set to 200, but your input_length is only 6. Since this is a summarization task, where outputs shorter than the input are typically wanted, you might consider decreasing max_length manually, e.g. summarizer('...', max_length=3)\n"
          ]
        },
        {
          "output_type": "stream",
          "name": "stdout",
          "text": [
            "81606ENG\n",
            "Skipping table 81606ENG due to error: Downloading table '81606ENG' failed. 403 Client Error: Table 81606ENG not available (Withdrawn) for url: https://opendata.cbs.nl/ODataFeed/odata/81606ENG/DataProperties?%24format=json\n",
            "82675ENG\n",
            "84303ENG\n",
            "84343ENG\n",
            "82436ENG\n",
            "82435ENG\n",
            "82437ENG\n"
          ]
        },
        {
          "output_type": "stream",
          "name": "stderr",
          "text": [
            "Your max_length is set to 200, but your input_length is only 191. Since this is a summarization task, where outputs shorter than the input are typically wanted, you might consider decreasing max_length manually, e.g. summarizer('...', max_length=95)\n"
          ]
        },
        {
          "output_type": "stream",
          "name": "stdout",
          "text": [
            "82851ENG\n",
            "81238eng\n"
          ]
        },
        {
          "output_type": "stream",
          "name": "stderr",
          "text": [
            "Your max_length is set to 200, but your input_length is only 179. Since this is a summarization task, where outputs shorter than the input are typically wanted, you might consider decreasing max_length manually, e.g. summarizer('...', max_length=89)\n"
          ]
        },
        {
          "output_type": "stream",
          "name": "stdout",
          "text": [
            "84287ENG\n",
            "37463eng\n"
          ]
        },
        {
          "output_type": "stream",
          "name": "stderr",
          "text": [
            "Your max_length is set to 200, but your input_length is only 157. Since this is a summarization task, where outputs shorter than the input are typically wanted, you might consider decreasing max_length manually, e.g. summarizer('...', max_length=78)\n"
          ]
        },
        {
          "output_type": "stream",
          "name": "stdout",
          "text": [
            "80045eng\n"
          ]
        },
        {
          "output_type": "stream",
          "name": "stderr",
          "text": [
            "Your max_length is set to 200, but your input_length is only 134. Since this is a summarization task, where outputs shorter than the input are typically wanted, you might consider decreasing max_length manually, e.g. summarizer('...', max_length=67)\n"
          ]
        },
        {
          "output_type": "stream",
          "name": "stdout",
          "text": [
            "37289eng\n"
          ]
        },
        {
          "output_type": "stream",
          "name": "stderr",
          "text": [
            "Your max_length is set to 200, but your input_length is only 189. Since this is a summarization task, where outputs shorter than the input are typically wanted, you might consider decreasing max_length manually, e.g. summarizer('...', max_length=94)\n"
          ]
        },
        {
          "output_type": "stream",
          "name": "stdout",
          "text": [
            "37729eng\n"
          ]
        },
        {
          "output_type": "stream",
          "name": "stderr",
          "text": [
            "Your max_length is set to 200, but your input_length is only 104. Since this is a summarization task, where outputs shorter than the input are typically wanted, you might consider decreasing max_length manually, e.g. summarizer('...', max_length=52)\n"
          ]
        },
        {
          "output_type": "stream",
          "name": "stdout",
          "text": [
            "84034ENG\n"
          ]
        },
        {
          "output_type": "stream",
          "name": "stderr",
          "text": [
            "Your max_length is set to 200, but your input_length is only 129. Since this is a summarization task, where outputs shorter than the input are typically wanted, you might consider decreasing max_length manually, e.g. summarizer('...', max_length=64)\n"
          ]
        },
        {
          "output_type": "stream",
          "name": "stdout",
          "text": [
            "80158eng\n",
            "81179eng\n"
          ]
        },
        {
          "output_type": "stream",
          "name": "stderr",
          "text": [
            "Your max_length is set to 200, but your input_length is only 156. Since this is a summarization task, where outputs shorter than the input are typically wanted, you might consider decreasing max_length manually, e.g. summarizer('...', max_length=78)\n"
          ]
        },
        {
          "output_type": "stream",
          "name": "stdout",
          "text": [
            "82011ENG\n"
          ]
        },
        {
          "output_type": "stream",
          "name": "stderr",
          "text": [
            "Your max_length is set to 200, but your input_length is only 158. Since this is a summarization task, where outputs shorter than the input are typically wanted, you might consider decreasing max_length manually, e.g. summarizer('...', max_length=79)\n"
          ]
        },
        {
          "output_type": "stream",
          "name": "stdout",
          "text": [
            "82010ENG\n"
          ]
        },
        {
          "output_type": "stream",
          "name": "stderr",
          "text": [
            "Your max_length is set to 200, but your input_length is only 167. Since this is a summarization task, where outputs shorter than the input are typically wanted, you might consider decreasing max_length manually, e.g. summarizer('...', max_length=83)\n"
          ]
        },
        {
          "output_type": "stream",
          "name": "stdout",
          "text": [
            "80335eng\n"
          ]
        },
        {
          "output_type": "stream",
          "name": "stderr",
          "text": [
            "Your max_length is set to 200, but your input_length is only 153. Since this is a summarization task, where outputs shorter than the input are typically wanted, you might consider decreasing max_length manually, e.g. summarizer('...', max_length=76)\n"
          ]
        },
        {
          "output_type": "stream",
          "name": "stdout",
          "text": [
            "80336eng\n"
          ]
        },
        {
          "output_type": "stream",
          "name": "stderr",
          "text": [
            "Your max_length is set to 200, but your input_length is only 167. Since this is a summarization task, where outputs shorter than the input are typically wanted, you might consider decreasing max_length manually, e.g. summarizer('...', max_length=83)\n"
          ]
        },
        {
          "output_type": "stream",
          "name": "stdout",
          "text": [
            "80337eng\n"
          ]
        },
        {
          "output_type": "stream",
          "name": "stderr",
          "text": [
            "Your max_length is set to 200, but your input_length is only 154. Since this is a summarization task, where outputs shorter than the input are typically wanted, you might consider decreasing max_length manually, e.g. summarizer('...', max_length=77)\n"
          ]
        },
        {
          "output_type": "stream",
          "name": "stdout",
          "text": [
            "80427eng\n",
            "80813eng\n",
            "80825eng\n",
            "80826eng\n",
            "81923ENG\n",
            "80439eng\n",
            "71156eng\n",
            "71159eng\n",
            "71160eng\n"
          ]
        },
        {
          "output_type": "stream",
          "name": "stderr",
          "text": [
            "Your max_length is set to 200, but your input_length is only 199. Since this is a summarization task, where outputs shorter than the input are typically wanted, you might consider decreasing max_length manually, e.g. summarizer('...', max_length=99)\n"
          ]
        },
        {
          "output_type": "stream",
          "name": "stdout",
          "text": [
            "71157eng\n"
          ]
        },
        {
          "output_type": "stream",
          "name": "stderr",
          "text": [
            "Your max_length is set to 200, but your input_length is only 199. Since this is a summarization task, where outputs shorter than the input are typically wanted, you might consider decreasing max_length manually, e.g. summarizer('...', max_length=99)\n"
          ]
        },
        {
          "output_type": "stream",
          "name": "stdout",
          "text": [
            "71158eng\n",
            "71163eng\n"
          ]
        },
        {
          "output_type": "stream",
          "name": "stderr",
          "text": [
            "Your max_length is set to 200, but your input_length is only 188. Since this is a summarization task, where outputs shorter than the input are typically wanted, you might consider decreasing max_length manually, e.g. summarizer('...', max_length=94)\n"
          ]
        },
        {
          "output_type": "stream",
          "name": "stdout",
          "text": [
            "71166eng\n",
            "71162eng\n"
          ]
        },
        {
          "output_type": "stream",
          "name": "stderr",
          "text": [
            "Your max_length is set to 200, but your input_length is only 156. Since this is a summarization task, where outputs shorter than the input are typically wanted, you might consider decreasing max_length manually, e.g. summarizer('...', max_length=78)\n"
          ]
        },
        {
          "output_type": "stream",
          "name": "stdout",
          "text": [
            "71155eng\n"
          ]
        },
        {
          "output_type": "stream",
          "name": "stderr",
          "text": [
            "Your max_length is set to 200, but your input_length is only 188. Since this is a summarization task, where outputs shorter than the input are typically wanted, you might consider decreasing max_length manually, e.g. summarizer('...', max_length=94)\n"
          ]
        },
        {
          "output_type": "stream",
          "name": "stdout",
          "text": [
            "71164eng\n",
            "71161eng\n"
          ]
        },
        {
          "output_type": "stream",
          "name": "stderr",
          "text": [
            "Your max_length is set to 200, but your input_length is only 193. Since this is a summarization task, where outputs shorter than the input are typically wanted, you might consider decreasing max_length manually, e.g. summarizer('...', max_length=96)\n"
          ]
        },
        {
          "output_type": "stream",
          "name": "stdout",
          "text": [
            "71454eng\n",
            "71445eng\n",
            "71447eng\n",
            "71167eng\n",
            "71165eng\n"
          ]
        },
        {
          "output_type": "stream",
          "name": "stderr",
          "text": [
            "Your max_length is set to 200, but your input_length is only 166. Since this is a summarization task, where outputs shorter than the input are typically wanted, you might consider decreasing max_length manually, e.g. summarizer('...', max_length=83)\n"
          ]
        },
        {
          "output_type": "stream",
          "name": "stdout",
          "text": [
            "70074eng\n",
            "80233eng\n",
            "80232eng\n",
            "80231eng\n",
            "80234eng\n"
          ]
        },
        {
          "output_type": "stream",
          "name": "stderr",
          "text": [
            "Your max_length is set to 200, but your input_length is only 38. Since this is a summarization task, where outputs shorter than the input are typically wanted, you might consider decreasing max_length manually, e.g. summarizer('...', max_length=19)\n"
          ]
        },
        {
          "output_type": "stream",
          "name": "stdout",
          "text": [
            "07223ENG\n",
            "80555eng\n",
            "83854ENG\n"
          ]
        },
        {
          "output_type": "stream",
          "name": "stderr",
          "text": [
            "Your max_length is set to 200, but your input_length is only 177. Since this is a summarization task, where outputs shorter than the input are typically wanted, you might consider decreasing max_length manually, e.g. summarizer('...', max_length=88)\n"
          ]
        },
        {
          "output_type": "stream",
          "name": "stdout",
          "text": [
            "81819ENG\n",
            "83858ENG\n",
            "82438ENG\n"
          ]
        },
        {
          "output_type": "stream",
          "name": "stderr",
          "text": [
            "Your max_length is set to 200, but your input_length is only 65. Since this is a summarization task, where outputs shorter than the input are typically wanted, you might consider decreasing max_length manually, e.g. summarizer('...', max_length=32)\n"
          ]
        },
        {
          "output_type": "stream",
          "name": "stdout",
          "text": [
            "7275eng\n",
            "81801ENG\n"
          ]
        },
        {
          "output_type": "stream",
          "name": "stderr",
          "text": [
            "Your max_length is set to 200, but your input_length is only 180. Since this is a summarization task, where outputs shorter than the input are typically wanted, you might consider decreasing max_length manually, e.g. summarizer('...', max_length=90)\n"
          ]
        },
        {
          "output_type": "stream",
          "name": "stdout",
          "text": [
            "81820ENG\n"
          ]
        },
        {
          "output_type": "stream",
          "name": "stderr",
          "text": [
            "Your max_length is set to 200, but your input_length is only 65. Since this is a summarization task, where outputs shorter than the input are typically wanted, you might consider decreasing max_length manually, e.g. summarizer('...', max_length=32)\n"
          ]
        },
        {
          "output_type": "stream",
          "name": "stdout",
          "text": [
            "7274ENG\n",
            "81530ENG\n",
            "71821eng\n",
            "83760ENG\n",
            "83853ENG\n",
            "81818ENG\n",
            "82962ENG\n"
          ]
        },
        {
          "output_type": "stream",
          "name": "stderr",
          "text": [
            "Your max_length is set to 200, but your input_length is only 133. Since this is a summarization task, where outputs shorter than the input are typically wanted, you might consider decreasing max_length manually, e.g. summarizer('...', max_length=66)\n"
          ]
        },
        {
          "output_type": "stream",
          "name": "stdout",
          "text": [
            "70043eng\n",
            "82921ENG\n"
          ]
        },
        {
          "output_type": "stream",
          "name": "stderr",
          "text": [
            "Your max_length is set to 200, but your input_length is only 157. Since this is a summarization task, where outputs shorter than the input are typically wanted, you might consider decreasing max_length manually, e.g. summarizer('...', max_length=78)\n"
          ]
        },
        {
          "output_type": "stream",
          "name": "stdout",
          "text": [
            "70054eng\n",
            "83112ENG\n",
            "82827ENG\n"
          ]
        },
        {
          "output_type": "stream",
          "name": "stderr",
          "text": [
            "Your max_length is set to 200, but your input_length is only 182. Since this is a summarization task, where outputs shorter than the input are typically wanted, you might consider decreasing max_length manually, e.g. summarizer('...', max_length=91)\n"
          ]
        },
        {
          "output_type": "stream",
          "name": "stdout",
          "text": [
            "37512eng\n",
            "82826ENG\n"
          ]
        },
        {
          "output_type": "stream",
          "name": "stderr",
          "text": [
            "Your max_length is set to 200, but your input_length is only 186. Since this is a summarization task, where outputs shorter than the input are typically wanted, you might consider decreasing max_length manually, e.g. summarizer('...', max_length=93)\n"
          ]
        },
        {
          "output_type": "stream",
          "name": "stdout",
          "text": [
            "70684eng\n",
            "82929ENG\n"
          ]
        },
        {
          "output_type": "stream",
          "name": "stderr",
          "text": [
            "Your max_length is set to 200, but your input_length is only 164. Since this is a summarization task, where outputs shorter than the input are typically wanted, you might consider decreasing max_length manually, e.g. summarizer('...', max_length=82)\n"
          ]
        },
        {
          "output_type": "stream",
          "name": "stdout",
          "text": [
            "70140eng\n"
          ]
        },
        {
          "output_type": "stream",
          "name": "stderr",
          "text": [
            "Your max_length is set to 200, but your input_length is only 186. Since this is a summarization task, where outputs shorter than the input are typically wanted, you might consider decreasing max_length manually, e.g. summarizer('...', max_length=93)\n"
          ]
        },
        {
          "output_type": "stream",
          "name": "stdout",
          "text": [
            "70645eng\n",
            "70044eng\n",
            "82825ENG\n",
            "83113ENG\n",
            "82824ENG\n",
            "71843eng\n"
          ]
        },
        {
          "output_type": "stream",
          "name": "stderr",
          "text": [
            "Your max_length is set to 200, but your input_length is only 146. Since this is a summarization task, where outputs shorter than the input are typically wanted, you might consider decreasing max_length manually, e.g. summarizer('...', max_length=73)\n"
          ]
        },
        {
          "output_type": "stream",
          "name": "stdout",
          "text": [
            "81165eng\n",
            "71846eng\n",
            "82372ENG\n",
            "82593ENG\n",
            "82561ENG\n",
            "82373ENG\n"
          ]
        },
        {
          "output_type": "stream",
          "name": "stderr",
          "text": [
            "Your max_length is set to 200, but your input_length is only 149. Since this is a summarization task, where outputs shorter than the input are typically wanted, you might consider decreasing max_length manually, e.g. summarizer('...', max_length=74)\n"
          ]
        },
        {
          "output_type": "stream",
          "name": "stdout",
          "text": [
            "37278ENG\n",
            "84114ENG\n",
            "82560ENG\n",
            "81242ENG\n",
            "84121ENG\n",
            "82269ENG\n",
            "84665ENG\n"
          ]
        },
        {
          "output_type": "stream",
          "name": "stderr",
          "text": [
            "Your max_length is set to 200, but your input_length is only 38. Since this is a summarization task, where outputs shorter than the input are typically wanted, you might consider decreasing max_length manually, e.g. summarizer('...', max_length=19)\n"
          ]
        },
        {
          "output_type": "stream",
          "name": "stdout",
          "text": [
            "60028eng\n",
            "82892ENG\n",
            "80106eng\n",
            "60012eng\n",
            "70122eng\n",
            "84043ENG\n",
            "83073ENG\n",
            "84078ENG\n",
            "83074ENG\n",
            "84035ENG\n",
            "83072ENG\n"
          ]
        },
        {
          "output_type": "stream",
          "name": "stderr",
          "text": [
            "Your max_length is set to 200, but your input_length is only 106. Since this is a summarization task, where outputs shorter than the input are typically wanted, you might consider decreasing max_length manually, e.g. summarizer('...', max_length=53)\n"
          ]
        },
        {
          "output_type": "stream",
          "name": "stdout",
          "text": [
            "83005ENG\n"
          ]
        },
        {
          "output_type": "stream",
          "name": "stderr",
          "text": [
            "Your max_length is set to 200, but your input_length is only 170. Since this is a summarization task, where outputs shorter than the input are typically wanted, you might consider decreasing max_length manually, e.g. summarizer('...', max_length=85)\n"
          ]
        },
        {
          "output_type": "stream",
          "name": "stdout",
          "text": [
            "81174ENG\n"
          ]
        },
        {
          "output_type": "stream",
          "name": "stderr",
          "text": [
            "Your max_length is set to 200, but your input_length is only 122. Since this is a summarization task, where outputs shorter than the input are typically wanted, you might consider decreasing max_length manually, e.g. summarizer('...', max_length=61)\n"
          ]
        },
        {
          "output_type": "stream",
          "name": "stdout",
          "text": [
            "03799eng\n",
            "81177eng\n"
          ]
        },
        {
          "output_type": "stream",
          "name": "stderr",
          "text": [
            "Your max_length is set to 200, but your input_length is only 188. Since this is a summarization task, where outputs shorter than the input are typically wanted, you might consider decreasing max_length manually, e.g. summarizer('...', max_length=94)\n"
          ]
        },
        {
          "output_type": "stream",
          "name": "stdout",
          "text": [
            "81175eng\n",
            "81178ENG\n"
          ]
        },
        {
          "output_type": "stream",
          "name": "stderr",
          "text": [
            "Your max_length is set to 200, but your input_length is only 48. Since this is a summarization task, where outputs shorter than the input are typically wanted, you might consider decreasing max_length manually, e.g. summarizer('...', max_length=24)\n"
          ]
        },
        {
          "output_type": "stream",
          "name": "stdout",
          "text": [
            "7068eng\n"
          ]
        },
        {
          "output_type": "stream",
          "name": "stderr",
          "text": [
            "Your max_length is set to 200, but your input_length is only 116. Since this is a summarization task, where outputs shorter than the input are typically wanted, you might consider decreasing max_length manually, e.g. summarizer('...', max_length=58)\n"
          ]
        },
        {
          "output_type": "stream",
          "name": "stdout",
          "text": [
            "7042eng\n",
            "81505ENG\n",
            "82634ENG\n",
            "81465ENG\n",
            "81467ENG\n",
            "81471ENG\n",
            "81466ENG\n",
            "81265ENG\n",
            "81469ENG\n"
          ]
        },
        {
          "output_type": "stream",
          "name": "stderr",
          "text": [
            "Your max_length is set to 200, but your input_length is only 147. Since this is a summarization task, where outputs shorter than the input are typically wanted, you might consider decreasing max_length manually, e.g. summarizer('...', max_length=73)\n"
          ]
        },
        {
          "output_type": "stream",
          "name": "stdout",
          "text": [
            "81470ENG\n",
            "81468ENG\n"
          ]
        },
        {
          "output_type": "stream",
          "name": "stderr",
          "text": [
            "Your max_length is set to 200, but your input_length is only 50. Since this is a summarization task, where outputs shorter than the input are typically wanted, you might consider decreasing max_length manually, e.g. summarizer('...', max_length=25)\n"
          ]
        },
        {
          "output_type": "stream",
          "name": "stdout",
          "text": [
            "7069eng\n",
            "81452ENG\n",
            "81453ENG\n",
            "81893ENG\n",
            "81894ENG\n",
            "81892ENG\n",
            "71914eng\n"
          ]
        },
        {
          "output_type": "stream",
          "name": "stderr",
          "text": [
            "Your max_length is set to 200, but your input_length is only 165. Since this is a summarization task, where outputs shorter than the input are typically wanted, you might consider decreasing max_length manually, e.g. summarizer('...', max_length=82)\n"
          ]
        },
        {
          "output_type": "stream",
          "name": "stdout",
          "text": [
            "81173ENG\n"
          ]
        },
        {
          "output_type": "stream",
          "name": "stderr",
          "text": [
            "Your max_length is set to 200, but your input_length is only 154. Since this is a summarization task, where outputs shorter than the input are typically wanted, you might consider decreasing max_length manually, e.g. summarizer('...', max_length=77)\n"
          ]
        },
        {
          "output_type": "stream",
          "name": "stdout",
          "text": [
            "71106eng\n"
          ]
        },
        {
          "output_type": "stream",
          "name": "stderr",
          "text": [
            "Your max_length is set to 200, but your input_length is only 106. Since this is a summarization task, where outputs shorter than the input are typically wanted, you might consider decreasing max_length manually, e.g. summarizer('...', max_length=53)\n"
          ]
        },
        {
          "output_type": "stream",
          "name": "stdout",
          "text": [
            "83021ENG\n",
            "81027ENG\n"
          ]
        },
        {
          "output_type": "stream",
          "name": "stderr",
          "text": [
            "Your max_length is set to 200, but your input_length is only 58. Since this is a summarization task, where outputs shorter than the input are typically wanted, you might consider decreasing max_length manually, e.g. summarizer('...', max_length=29)\n"
          ]
        },
        {
          "output_type": "stream",
          "name": "stdout",
          "text": [
            "70812eng\n"
          ]
        },
        {
          "output_type": "stream",
          "name": "stderr",
          "text": [
            "Your max_length is set to 200, but your input_length is only 134. Since this is a summarization task, where outputs shorter than the input are typically wanted, you might consider decreasing max_length manually, e.g. summarizer('...', max_length=67)\n"
          ]
        },
        {
          "output_type": "stream",
          "name": "stdout",
          "text": [
            "80511ENG\n",
            "81451ENG\n"
          ]
        },
        {
          "output_type": "stream",
          "name": "stderr",
          "text": [
            "Your max_length is set to 200, but your input_length is only 6. Since this is a summarization task, where outputs shorter than the input are typically wanted, you might consider decreasing max_length manually, e.g. summarizer('...', max_length=3)\n"
          ]
        },
        {
          "output_type": "stream",
          "name": "stdout",
          "text": [
            "70636eng\n"
          ]
        },
        {
          "output_type": "stream",
          "name": "stderr",
          "text": [
            "Your max_length is set to 200, but your input_length is only 57. Since this is a summarization task, where outputs shorter than the input are typically wanted, you might consider decreasing max_length manually, e.g. summarizer('...', max_length=28)\n"
          ]
        },
        {
          "output_type": "stream",
          "name": "stdout",
          "text": [
            "Skipping table 70636eng due to error: Downloading table '70636eng' failed. 403 Client Error: Table 70636eng not available (Withdrawn) for url: https://opendata.cbs.nl/ODataFeed/odata/70636eng/DataProperties?%24format=json\n",
            "7330eng\n"
          ]
        },
        {
          "output_type": "stream",
          "name": "stderr",
          "text": [
            "Your max_length is set to 200, but your input_length is only 37. Since this is a summarization task, where outputs shorter than the input are typically wanted, you might consider decreasing max_length manually, e.g. summarizer('...', max_length=18)\n"
          ]
        },
        {
          "output_type": "stream",
          "name": "stdout",
          "text": [
            "70187eng\n"
          ]
        },
        {
          "output_type": "stream",
          "name": "stderr",
          "text": [
            "Your max_length is set to 200, but your input_length is only 149. Since this is a summarization task, where outputs shorter than the input are typically wanted, you might consider decreasing max_length manually, e.g. summarizer('...', max_length=74)\n"
          ]
        },
        {
          "output_type": "stream",
          "name": "stdout",
          "text": [
            "7388eng\n",
            "82608ENG\n"
          ]
        },
        {
          "output_type": "stream",
          "name": "stderr",
          "text": [
            "Your max_length is set to 200, but your input_length is only 63. Since this is a summarization task, where outputs shorter than the input are typically wanted, you might consider decreasing max_length manually, e.g. summarizer('...', max_length=31)\n"
          ]
        },
        {
          "output_type": "stream",
          "name": "stdout",
          "text": [
            "71052eng\n"
          ]
        },
        {
          "output_type": "stream",
          "name": "stderr",
          "text": [
            "Your max_length is set to 200, but your input_length is only 144. Since this is a summarization task, where outputs shorter than the input are typically wanted, you might consider decreasing max_length manually, e.g. summarizer('...', max_length=72)\n"
          ]
        },
        {
          "output_type": "stream",
          "name": "stdout",
          "text": [
            "60046eng\n",
            "83946ENG\n"
          ]
        },
        {
          "output_type": "stream",
          "name": "stderr",
          "text": [
            "Your max_length is set to 200, but your input_length is only 46. Since this is a summarization task, where outputs shorter than the input are typically wanted, you might consider decreasing max_length manually, e.g. summarizer('...', max_length=23)\n"
          ]
        },
        {
          "output_type": "stream",
          "name": "stdout",
          "text": [
            "37505ENG\n"
          ]
        },
        {
          "output_type": "stream",
          "name": "stderr",
          "text": [
            "Your max_length is set to 200, but your input_length is only 149. Since this is a summarization task, where outputs shorter than the input are typically wanted, you might consider decreasing max_length manually, e.g. summarizer('...', max_length=74)\n"
          ]
        },
        {
          "output_type": "stream",
          "name": "stdout",
          "text": [
            "83819ENG\n"
          ]
        },
        {
          "output_type": "stream",
          "name": "stderr",
          "text": [
            "Your max_length is set to 200, but your input_length is only 187. Since this is a summarization task, where outputs shorter than the input are typically wanted, you might consider decreasing max_length manually, e.g. summarizer('...', max_length=93)\n"
          ]
        },
        {
          "output_type": "stream",
          "name": "stdout",
          "text": [
            "83926ENG\n"
          ]
        },
        {
          "output_type": "stream",
          "name": "stderr",
          "text": [
            "Your max_length is set to 200, but your input_length is only 176. Since this is a summarization task, where outputs shorter than the input are typically wanted, you might consider decreasing max_length manually, e.g. summarizer('...', max_length=88)\n"
          ]
        },
        {
          "output_type": "stream",
          "name": "stdout",
          "text": [
            "83929ENG\n"
          ]
        },
        {
          "output_type": "stream",
          "name": "stderr",
          "text": [
            "Your max_length is set to 200, but your input_length is only 108. Since this is a summarization task, where outputs shorter than the input are typically wanted, you might consider decreasing max_length manually, e.g. summarizer('...', max_length=54)\n"
          ]
        },
        {
          "output_type": "stream",
          "name": "stdout",
          "text": [
            "80414eng\n",
            "7137eng\n"
          ]
        },
        {
          "output_type": "stream",
          "name": "stderr",
          "text": [
            "Your max_length is set to 200, but your input_length is only 197. Since this is a summarization task, where outputs shorter than the input are typically wanted, you might consider decreasing max_length manually, e.g. summarizer('...', max_length=98)\n"
          ]
        },
        {
          "output_type": "stream",
          "name": "stdout",
          "text": [
            "70017eng\n"
          ]
        },
        {
          "output_type": "stream",
          "name": "stderr",
          "text": [
            "Your max_length is set to 200, but your input_length is only 146. Since this is a summarization task, where outputs shorter than the input are typically wanted, you might consider decreasing max_length manually, e.g. summarizer('...', max_length=73)\n"
          ]
        },
        {
          "output_type": "stream",
          "name": "stdout",
          "text": [
            "37952eng\n",
            "84264ENG\n",
            "82605ENG\n"
          ]
        },
        {
          "output_type": "stream",
          "name": "stderr",
          "text": [
            "Your max_length is set to 200, but your input_length is only 174. Since this is a summarization task, where outputs shorter than the input are typically wanted, you might consider decreasing max_length manually, e.g. summarizer('...', max_length=87)\n"
          ]
        },
        {
          "output_type": "stream",
          "name": "stdout",
          "text": [
            "81949ENG\n",
            "84265ENG\n",
            "82606ENG\n"
          ]
        },
        {
          "output_type": "stream",
          "name": "stderr",
          "text": [
            "Your max_length is set to 200, but your input_length is only 168. Since this is a summarization task, where outputs shorter than the input are typically wanted, you might consider decreasing max_length manually, e.g. summarizer('...', max_length=84)\n"
          ]
        },
        {
          "output_type": "stream",
          "name": "stdout",
          "text": [
            "81950ENG\n",
            "70992eng\n"
          ]
        },
        {
          "output_type": "stream",
          "name": "stderr",
          "text": [
            "Your max_length is set to 200, but your input_length is only 189. Since this is a summarization task, where outputs shorter than the input are typically wanted, you might consider decreasing max_length manually, e.g. summarizer('...', max_length=94)\n"
          ]
        },
        {
          "output_type": "stream",
          "name": "stdout",
          "text": [
            "71728eng\n",
            "82616ENG\n",
            "84060ENG\n"
          ]
        },
        {
          "output_type": "stream",
          "name": "stderr",
          "text": [
            "Your max_length is set to 200, but your input_length is only 190. Since this is a summarization task, where outputs shorter than the input are typically wanted, you might consider decreasing max_length manually, e.g. summarizer('...', max_length=95)\n"
          ]
        },
        {
          "output_type": "stream",
          "name": "stdout",
          "text": [
            "84164ENG\n"
          ]
        },
        {
          "output_type": "stream",
          "name": "stderr",
          "text": [
            "Your max_length is set to 200, but your input_length is only 181. Since this is a summarization task, where outputs shorter than the input are typically wanted, you might consider decreasing max_length manually, e.g. summarizer('...', max_length=90)\n"
          ]
        },
        {
          "output_type": "stream",
          "name": "stdout",
          "text": [
            "82579ENG\n",
            "84166ENG\n"
          ]
        },
        {
          "output_type": "stream",
          "name": "stderr",
          "text": [
            "Your max_length is set to 200, but your input_length is only 191. Since this is a summarization task, where outputs shorter than the input are typically wanted, you might consider decreasing max_length manually, e.g. summarizer('...', max_length=95)\n"
          ]
        },
        {
          "output_type": "stream",
          "name": "stdout",
          "text": [
            "82575ENG\n",
            "84310ENG\n",
            "84750ENG\n",
            "84165ENG\n",
            "82578ENG\n",
            "84163ENG\n",
            "82577ENG\n"
          ]
        },
        {
          "output_type": "stream",
          "name": "stderr",
          "text": [
            "Your max_length is set to 200, but your input_length is only 194. Since this is a summarization task, where outputs shorter than the input are typically wanted, you might consider decreasing max_length manually, e.g. summarizer('...', max_length=97)\n"
          ]
        },
        {
          "output_type": "stream",
          "name": "stdout",
          "text": [
            "84428ENG\n",
            "37462eng\n"
          ]
        },
        {
          "output_type": "stream",
          "name": "stderr",
          "text": [
            "Your max_length is set to 200, but your input_length is only 47. Since this is a summarization task, where outputs shorter than the input are typically wanted, you might consider decreasing max_length manually, e.g. summarizer('...', max_length=23)\n"
          ]
        },
        {
          "output_type": "stream",
          "name": "stdout",
          "text": [
            "37756eng\n"
          ]
        },
        {
          "output_type": "stream",
          "name": "stderr",
          "text": [
            "Your max_length is set to 200, but your input_length is only 50. Since this is a summarization task, where outputs shorter than the input are typically wanted, you might consider decreasing max_length manually, e.g. summarizer('...', max_length=25)\n"
          ]
        },
        {
          "output_type": "stream",
          "name": "stdout",
          "text": [
            "37518eng\n"
          ]
        },
        {
          "output_type": "stream",
          "name": "stderr",
          "text": [
            "Your max_length is set to 200, but your input_length is only 184. Since this is a summarization task, where outputs shorter than the input are typically wanted, you might consider decreasing max_length manually, e.g. summarizer('...', max_length=92)\n"
          ]
        },
        {
          "output_type": "stream",
          "name": "stdout",
          "text": [
            "83816ENG\n"
          ]
        },
        {
          "output_type": "stream",
          "name": "stderr",
          "text": [
            "Your max_length is set to 200, but your input_length is only 137. Since this is a summarization task, where outputs shorter than the input are typically wanted, you might consider decreasing max_length manually, e.g. summarizer('...', max_length=68)\n"
          ]
        },
        {
          "output_type": "stream",
          "name": "stdout",
          "text": [
            "81108eng\n"
          ]
        },
        {
          "output_type": "stream",
          "name": "stderr",
          "text": [
            "Your max_length is set to 200, but your input_length is only 150. Since this is a summarization task, where outputs shorter than the input are typically wanted, you might consider decreasing max_length manually, e.g. summarizer('...', max_length=75)\n"
          ]
        },
        {
          "output_type": "stream",
          "name": "stdout",
          "text": [
            "81095eng\n"
          ]
        },
        {
          "output_type": "stream",
          "name": "stderr",
          "text": [
            "Your max_length is set to 200, but your input_length is only 179. Since this is a summarization task, where outputs shorter than the input are typically wanted, you might consider decreasing max_length manually, e.g. summarizer('...', max_length=89)\n"
          ]
        },
        {
          "output_type": "stream",
          "name": "stdout",
          "text": [
            "70173eng\n",
            "80718eng\n",
            "37914eng\n",
            "37948eng\n",
            "80719eng\n"
          ]
        },
        {
          "output_type": "stream",
          "name": "stderr",
          "text": [
            "Your max_length is set to 200, but your input_length is only 38. Since this is a summarization task, where outputs shorter than the input are typically wanted, you might consider decreasing max_length manually, e.g. summarizer('...', max_length=19)\n"
          ]
        },
        {
          "output_type": "stream",
          "name": "stdout",
          "text": [
            "70066eng\n"
          ]
        },
        {
          "output_type": "stream",
          "name": "stderr",
          "text": [
            "Your max_length is set to 200, but your input_length is only 39. Since this is a summarization task, where outputs shorter than the input are typically wanted, you might consider decreasing max_length manually, e.g. summarizer('...', max_length=19)\n"
          ]
        },
        {
          "output_type": "stream",
          "name": "stdout",
          "text": [
            "37840ENG\n",
            "71822eng\n"
          ]
        },
        {
          "output_type": "stream",
          "name": "stderr",
          "text": [
            "Your max_length is set to 200, but your input_length is only 161. Since this is a summarization task, where outputs shorter than the input are typically wanted, you might consider decreasing max_length manually, e.g. summarizer('...', max_length=80)\n"
          ]
        },
        {
          "output_type": "stream",
          "name": "stdout",
          "text": [
            "71958eng\n",
            "71882eng\n"
          ]
        },
        {
          "output_type": "stream",
          "name": "stderr",
          "text": [
            "Your max_length is set to 200, but your input_length is only 37. Since this is a summarization task, where outputs shorter than the input are typically wanted, you might consider decreasing max_length manually, e.g. summarizer('...', max_length=18)\n"
          ]
        },
        {
          "output_type": "stream",
          "name": "stdout",
          "text": [
            "70085eng\n",
            "71855eng\n",
            "82309ENG\n"
          ]
        },
        {
          "output_type": "stream",
          "name": "stderr",
          "text": [
            "Your max_length is set to 200, but your input_length is only 77. Since this is a summarization task, where outputs shorter than the input are typically wanted, you might consider decreasing max_length manually, e.g. summarizer('...', max_length=38)\n"
          ]
        },
        {
          "output_type": "stream",
          "name": "stdout",
          "text": [
            "37940ENG\n",
            "70640eng\n"
          ]
        },
        {
          "output_type": "stream",
          "name": "stderr",
          "text": [
            "Your max_length is set to 200, but your input_length is only 173. Since this is a summarization task, where outputs shorter than the input are typically wanted, you might consider decreasing max_length manually, e.g. summarizer('...', max_length=86)\n"
          ]
        },
        {
          "output_type": "stream",
          "name": "stdout",
          "text": [
            "81096eng\n"
          ]
        },
        {
          "output_type": "stream",
          "name": "stderr",
          "text": [
            "Your max_length is set to 200, but your input_length is only 153. Since this is a summarization task, where outputs shorter than the input are typically wanted, you might consider decreasing max_length manually, e.g. summarizer('...', max_length=76)\n"
          ]
        },
        {
          "output_type": "stream",
          "name": "stdout",
          "text": [
            "81111eng\n",
            "84183ENG\n"
          ]
        },
        {
          "output_type": "stream",
          "name": "stderr",
          "text": [
            "Your max_length is set to 200, but your input_length is only 127. Since this is a summarization task, where outputs shorter than the input are typically wanted, you might consider decreasing max_length manually, e.g. summarizer('...', max_length=63)\n"
          ]
        },
        {
          "output_type": "stream",
          "name": "stdout",
          "text": [
            "81280ENG\n"
          ]
        },
        {
          "output_type": "stream",
          "name": "stderr",
          "text": [
            "Your max_length is set to 200, but your input_length is only 182. Since this is a summarization task, where outputs shorter than the input are typically wanted, you might consider decreasing max_length manually, e.g. summarizer('...', max_length=91)\n"
          ]
        },
        {
          "output_type": "stream",
          "name": "stdout",
          "text": [
            "82679ENG\n"
          ]
        },
        {
          "output_type": "stream",
          "name": "stderr",
          "text": [
            "Your max_length is set to 200, but your input_length is only 182. Since this is a summarization task, where outputs shorter than the input are typically wanted, you might consider decreasing max_length manually, e.g. summarizer('...', max_length=91)\n"
          ]
        },
        {
          "output_type": "stream",
          "name": "stdout",
          "text": [
            "70052eng\n"
          ]
        },
        {
          "output_type": "stream",
          "name": "stderr",
          "text": [
            "Your max_length is set to 200, but your input_length is only 66. Since this is a summarization task, where outputs shorter than the input are typically wanted, you might consider decreasing max_length manually, e.g. summarizer('...', max_length=33)\n"
          ]
        },
        {
          "output_type": "stream",
          "name": "stdout",
          "text": [
            "37847eng\n",
            "37638eng\n"
          ]
        },
        {
          "output_type": "stream",
          "name": "stderr",
          "text": [
            "Your max_length is set to 200, but your input_length is only 54. Since this is a summarization task, where outputs shorter than the input are typically wanted, you might consider decreasing max_length manually, e.g. summarizer('...', max_length=27)\n"
          ]
        },
        {
          "output_type": "stream",
          "name": "stdout",
          "text": [
            "37527eng\n"
          ]
        },
        {
          "output_type": "stream",
          "name": "stderr",
          "text": [
            "Your max_length is set to 200, but your input_length is only 50. Since this is a summarization task, where outputs shorter than the input are typically wanted, you might consider decreasing max_length manually, e.g. summarizer('...', max_length=25)\n"
          ]
        },
        {
          "output_type": "stream",
          "name": "stdout",
          "text": [
            "03774eng\n"
          ]
        },
        {
          "output_type": "stream",
          "name": "stderr",
          "text": [
            "Your max_length is set to 200, but your input_length is only 41. Since this is a summarization task, where outputs shorter than the input are typically wanted, you might consider decreasing max_length manually, e.g. summarizer('...', max_length=20)\n"
          ]
        },
        {
          "output_type": "stream",
          "name": "stdout",
          "text": [
            "37740eng\n"
          ]
        },
        {
          "output_type": "stream",
          "name": "stderr",
          "text": [
            "Your max_length is set to 200, but your input_length is only 39. Since this is a summarization task, where outputs shorter than the input are typically wanted, you might consider decreasing max_length manually, e.g. summarizer('...', max_length=19)\n"
          ]
        },
        {
          "output_type": "stream",
          "name": "stdout",
          "text": [
            "37879eng\n"
          ]
        },
        {
          "output_type": "stream",
          "name": "stderr",
          "text": [
            "Your max_length is set to 200, but your input_length is only 124. Since this is a summarization task, where outputs shorter than the input are typically wanted, you might consider decreasing max_length manually, e.g. summarizer('...', max_length=62)\n"
          ]
        },
        {
          "output_type": "stream",
          "name": "stdout",
          "text": [
            "37506eng\n",
            "85538ENG\n",
            "85296ENG\n"
          ]
        },
        {
          "output_type": "stream",
          "name": "stderr",
          "text": [
            "Your max_length is set to 200, but your input_length is only 171. Since this is a summarization task, where outputs shorter than the input are typically wanted, you might consider decreasing max_length manually, e.g. summarizer('...', max_length=85)\n"
          ]
        },
        {
          "output_type": "stream",
          "name": "stdout",
          "text": [
            "84998ENG\n"
          ]
        },
        {
          "output_type": "stream",
          "name": "stderr",
          "text": [
            "Your max_length is set to 200, but your input_length is only 168. Since this is a summarization task, where outputs shorter than the input are typically wanted, you might consider decreasing max_length manually, e.g. summarizer('...', max_length=84)\n"
          ]
        },
        {
          "output_type": "stream",
          "name": "stdout",
          "text": [
            "84486ENG\n"
          ]
        },
        {
          "output_type": "stream",
          "name": "stderr",
          "text": [
            "Your max_length is set to 200, but your input_length is only 172. Since this is a summarization task, where outputs shorter than the input are typically wanted, you might consider decreasing max_length manually, e.g. summarizer('...', max_length=86)\n"
          ]
        },
        {
          "output_type": "stream",
          "name": "stdout",
          "text": [
            "83970ENG\n"
          ]
        },
        {
          "output_type": "stream",
          "name": "stderr",
          "text": [
            "Your max_length is set to 200, but your input_length is only 160. Since this is a summarization task, where outputs shorter than the input are typically wanted, you might consider decreasing max_length manually, e.g. summarizer('...', max_length=80)\n"
          ]
        },
        {
          "output_type": "stream",
          "name": "stdout",
          "text": [
            "83721ENG\n"
          ]
        },
        {
          "output_type": "stream",
          "name": "stderr",
          "text": [
            "Your max_length is set to 200, but your input_length is only 171. Since this is a summarization task, where outputs shorter than the input are typically wanted, you might consider decreasing max_length manually, e.g. summarizer('...', max_length=85)\n"
          ]
        },
        {
          "output_type": "stream",
          "name": "stdout",
          "text": [
            "84775ENG\n"
          ]
        },
        {
          "output_type": "stream",
          "name": "stderr",
          "text": [
            "Your max_length is set to 200, but your input_length is only 49. Since this is a summarization task, where outputs shorter than the input are typically wanted, you might consider decreasing max_length manually, e.g. summarizer('...', max_length=24)\n"
          ]
        },
        {
          "output_type": "stream",
          "name": "stdout",
          "text": [
            "7089eng\n",
            "7433eng\n",
            "7408eng\n",
            "7083eng\n"
          ]
        },
        {
          "output_type": "stream",
          "name": "stderr",
          "text": [
            "Your max_length is set to 200, but your input_length is only 126. Since this is a summarization task, where outputs shorter than the input are typically wanted, you might consider decreasing max_length manually, e.g. summarizer('...', max_length=63)\n"
          ]
        },
        {
          "output_type": "stream",
          "name": "stdout",
          "text": [
            "7193eng\n"
          ]
        },
        {
          "output_type": "stream",
          "name": "stderr",
          "text": [
            "Your max_length is set to 200, but your input_length is only 101. Since this is a summarization task, where outputs shorter than the input are typically wanted, you might consider decreasing max_length manually, e.g. summarizer('...', max_length=50)\n"
          ]
        },
        {
          "output_type": "stream",
          "name": "stdout",
          "text": [
            "70025eng\n"
          ]
        },
        {
          "output_type": "stream",
          "name": "stderr",
          "text": [
            "Your max_length is set to 200, but your input_length is only 153. Since this is a summarization task, where outputs shorter than the input are typically wanted, you might consider decreasing max_length manually, e.g. summarizer('...', max_length=76)\n"
          ]
        },
        {
          "output_type": "stream",
          "name": "stdout",
          "text": [
            "70024eng\n"
          ]
        },
        {
          "output_type": "stream",
          "name": "stderr",
          "text": [
            "Your max_length is set to 200, but your input_length is only 141. Since this is a summarization task, where outputs shorter than the input are typically wanted, you might consider decreasing max_length manually, e.g. summarizer('...', max_length=70)\n"
          ]
        },
        {
          "output_type": "stream",
          "name": "stdout",
          "text": [
            "70021eng\n"
          ]
        },
        {
          "output_type": "stream",
          "name": "stderr",
          "text": [
            "Your max_length is set to 200, but your input_length is only 123. Since this is a summarization task, where outputs shorter than the input are typically wanted, you might consider decreasing max_length manually, e.g. summarizer('...', max_length=61)\n"
          ]
        },
        {
          "output_type": "stream",
          "name": "stdout",
          "text": [
            "70666eng\n"
          ]
        },
        {
          "output_type": "stream",
          "name": "stderr",
          "text": [
            "Your max_length is set to 200, but your input_length is only 110. Since this is a summarization task, where outputs shorter than the input are typically wanted, you might consider decreasing max_length manually, e.g. summarizer('...', max_length=55)\n"
          ]
        },
        {
          "output_type": "stream",
          "name": "stdout",
          "text": [
            "70023eng\n"
          ]
        },
        {
          "output_type": "stream",
          "name": "stderr",
          "text": [
            "Your max_length is set to 200, but your input_length is only 146. Since this is a summarization task, where outputs shorter than the input are typically wanted, you might consider decreasing max_length manually, e.g. summarizer('...', max_length=73)\n"
          ]
        },
        {
          "output_type": "stream",
          "name": "stdout",
          "text": [
            "70022eng\n"
          ]
        },
        {
          "output_type": "stream",
          "name": "stderr",
          "text": [
            "Your max_length is set to 200, but your input_length is only 101. Since this is a summarization task, where outputs shorter than the input are typically wanted, you might consider decreasing max_length manually, e.g. summarizer('...', max_length=50)\n"
          ]
        },
        {
          "output_type": "stream",
          "name": "stdout",
          "text": [
            "7194eng\n"
          ]
        },
        {
          "output_type": "stream",
          "name": "stderr",
          "text": [
            "Your max_length is set to 200, but your input_length is only 106. Since this is a summarization task, where outputs shorter than the input are typically wanted, you might consider decreasing max_length manually, e.g. summarizer('...', max_length=53)\n"
          ]
        },
        {
          "output_type": "stream",
          "name": "stdout",
          "text": [
            "70026eng\n",
            "83466ENG\n",
            "84284ENG\n",
            "82670ENG\n",
            "82303ENG\n",
            "84285ENG\n",
            "82671ENG\n"
          ]
        },
        {
          "output_type": "stream",
          "name": "stderr",
          "text": [
            "Your max_length is set to 200, but your input_length is only 195. Since this is a summarization task, where outputs shorter than the input are typically wanted, you might consider decreasing max_length manually, e.g. summarizer('...', max_length=97)\n"
          ]
        },
        {
          "output_type": "stream",
          "name": "stdout",
          "text": [
            "82304ENG\n"
          ]
        },
        {
          "output_type": "stream",
          "name": "stderr",
          "text": [
            "Your max_length is set to 200, but your input_length is only 150. Since this is a summarization task, where outputs shorter than the input are typically wanted, you might consider decreasing max_length manually, e.g. summarizer('...', max_length=75)\n"
          ]
        },
        {
          "output_type": "stream",
          "name": "stdout",
          "text": [
            "7101eng\n"
          ]
        },
        {
          "output_type": "stream",
          "name": "stderr",
          "text": [
            "Your max_length is set to 200, but your input_length is only 40. Since this is a summarization task, where outputs shorter than the input are typically wanted, you might consider decreasing max_length manually, e.g. summarizer('...', max_length=20)\n"
          ]
        },
        {
          "output_type": "stream",
          "name": "stdout",
          "text": [
            "37881eng\n",
            "83804ENG\n",
            "70220eng\n"
          ]
        },
        {
          "output_type": "stream",
          "name": "stderr",
          "text": [
            "Your max_length is set to 200, but your input_length is only 84. Since this is a summarization task, where outputs shorter than the input are typically wanted, you might consider decreasing max_length manually, e.g. summarizer('...', max_length=42)\n"
          ]
        },
        {
          "output_type": "stream",
          "name": "stdout",
          "text": [
            "60029eng\n",
            "60027eng\n"
          ]
        },
        {
          "output_type": "stream",
          "name": "stderr",
          "text": [
            "Your max_length is set to 200, but your input_length is only 68. Since this is a summarization task, where outputs shorter than the input are typically wanted, you might consider decreasing max_length manually, e.g. summarizer('...', max_length=34)\n"
          ]
        },
        {
          "output_type": "stream",
          "name": "stdout",
          "text": [
            "70631eng\n",
            "7116eng\n"
          ]
        },
        {
          "output_type": "stream",
          "name": "stderr",
          "text": [
            "Your max_length is set to 200, but your input_length is only 128. Since this is a summarization task, where outputs shorter than the input are typically wanted, you might consider decreasing max_length manually, e.g. summarizer('...', max_length=64)\n"
          ]
        },
        {
          "output_type": "stream",
          "name": "stdout",
          "text": [
            "82219ENG\n",
            "7462eng\n",
            "82873ENG\n",
            "81395ENG\n",
            "82805ENG\n",
            "82804ENG\n",
            "82955ENG\n",
            "81384ENG\n",
            "83605ENG\n",
            "82238ENG\n",
            "81343ENG\n",
            "81398ENG\n",
            "81409eng\n",
            "71585eng\n",
            "82264ENG\n",
            "81400ENG\n",
            "82273ENG\n",
            "81385ENG\n"
          ]
        },
        {
          "output_type": "stream",
          "name": "stderr",
          "text": [
            "Your max_length is set to 200, but your input_length is only 181. Since this is a summarization task, where outputs shorter than the input are typically wanted, you might consider decreasing max_length manually, e.g. summarizer('...', max_length=90)\n"
          ]
        },
        {
          "output_type": "stream",
          "name": "stdout",
          "text": [
            "81383ENG\n"
          ]
        },
        {
          "output_type": "stream",
          "name": "stderr",
          "text": [
            "Your max_length is set to 200, but your input_length is only 186. Since this is a summarization task, where outputs shorter than the input are typically wanted, you might consider decreasing max_length manually, e.g. summarizer('...', max_length=93)\n"
          ]
        },
        {
          "output_type": "stream",
          "name": "stdout",
          "text": [
            "80601ENG\n",
            "83128ENG\n",
            "83126ENG\n",
            "84093ENG\n"
          ]
        },
        {
          "output_type": "stream",
          "name": "stderr",
          "text": [
            "Your max_length is set to 200, but your input_length is only 192. Since this is a summarization task, where outputs shorter than the input are typically wanted, you might consider decreasing max_length manually, e.g. summarizer('...', max_length=96)\n"
          ]
        },
        {
          "output_type": "stream",
          "name": "stdout",
          "text": [
            "83069ENG\n"
          ]
        },
        {
          "output_type": "stream",
          "name": "stderr",
          "text": [
            "Your max_length is set to 200, but your input_length is only 197. Since this is a summarization task, where outputs shorter than the input are typically wanted, you might consider decreasing max_length manually, e.g. summarizer('...', max_length=98)\n"
          ]
        },
        {
          "output_type": "stream",
          "name": "stdout",
          "text": [
            "84094ENG\n"
          ]
        },
        {
          "output_type": "stream",
          "name": "stderr",
          "text": [
            "Your max_length is set to 200, but your input_length is only 196. Since this is a summarization task, where outputs shorter than the input are typically wanted, you might consider decreasing max_length manually, e.g. summarizer('...', max_length=98)\n"
          ]
        },
        {
          "output_type": "stream",
          "name": "stdout",
          "text": [
            "83071ENG\n"
          ]
        },
        {
          "output_type": "stream",
          "name": "stderr",
          "text": [
            "Your max_length is set to 200, but your input_length is only 199. Since this is a summarization task, where outputs shorter than the input are typically wanted, you might consider decreasing max_length manually, e.g. summarizer('...', max_length=99)\n"
          ]
        },
        {
          "output_type": "stream",
          "name": "stdout",
          "text": [
            "84096ENG\n"
          ]
        },
        {
          "output_type": "stream",
          "name": "stderr",
          "text": [
            "Your max_length is set to 200, but your input_length is only 188. Since this is a summarization task, where outputs shorter than the input are typically wanted, you might consider decreasing max_length manually, e.g. summarizer('...', max_length=94)\n"
          ]
        },
        {
          "output_type": "stream",
          "name": "stdout",
          "text": [
            "83088ENG\n"
          ]
        },
        {
          "output_type": "stream",
          "name": "stderr",
          "text": [
            "Your max_length is set to 200, but your input_length is only 176. Since this is a summarization task, where outputs shorter than the input are typically wanted, you might consider decreasing max_length manually, e.g. summarizer('...', max_length=88)\n"
          ]
        },
        {
          "output_type": "stream",
          "name": "stdout",
          "text": [
            "82572ENG\n",
            "84090ENG\n",
            "82599ENG\n",
            "84091ENG\n",
            "82600ENG\n",
            "82604ENG\n",
            "84340ENG\n",
            "84095ENG\n"
          ]
        },
        {
          "output_type": "stream",
          "name": "stderr",
          "text": [
            "Your max_length is set to 200, but your input_length is only 194. Since this is a summarization task, where outputs shorter than the input are typically wanted, you might consider decreasing max_length manually, e.g. summarizer('...', max_length=97)\n"
          ]
        },
        {
          "output_type": "stream",
          "name": "stdout",
          "text": [
            "83087ENG\n",
            "84178ENG\n"
          ]
        },
        {
          "output_type": "stream",
          "name": "stderr",
          "text": [
            "Your max_length is set to 200, but your input_length is only 190. Since this is a summarization task, where outputs shorter than the input are typically wanted, you might consider decreasing max_length manually, e.g. summarizer('...', max_length=95)\n"
          ]
        },
        {
          "output_type": "stream",
          "name": "stdout",
          "text": [
            "84088ENG\n",
            "84092ENG\n",
            "83068ENG\n",
            "84087ENG\n",
            "82262ENG\n",
            "84089ENG\n",
            "82239ENG\n"
          ]
        },
        {
          "output_type": "stream",
          "name": "stderr",
          "text": [
            "Your max_length is set to 200, but your input_length is only 181. Since this is a summarization task, where outputs shorter than the input are typically wanted, you might consider decreasing max_length manually, e.g. summarizer('...', max_length=90)\n"
          ]
        },
        {
          "output_type": "stream",
          "name": "stdout",
          "text": [
            "84106ENG\n",
            "82602ENG\n"
          ]
        },
        {
          "output_type": "stream",
          "name": "stderr",
          "text": [
            "Your max_length is set to 200, but your input_length is only 197. Since this is a summarization task, where outputs shorter than the input are typically wanted, you might consider decreasing max_length manually, e.g. summarizer('...', max_length=98)\n"
          ]
        },
        {
          "output_type": "stream",
          "name": "stdout",
          "text": [
            "84105ENG\n",
            "82601ENG\n",
            "81119eng\n",
            "81171eng\n",
            "81170eng\n"
          ]
        },
        {
          "output_type": "stream",
          "name": "stderr",
          "text": [
            "Your max_length is set to 200, but your input_length is only 139. Since this is a summarization task, where outputs shorter than the input are typically wanted, you might consider decreasing max_length manually, e.g. summarizer('...', max_length=69)\n"
          ]
        },
        {
          "output_type": "stream",
          "name": "stdout",
          "text": [
            "71541eng\n",
            "82801ENG\n",
            "81356eng\n",
            "82800ENG\n"
          ]
        },
        {
          "output_type": "stream",
          "name": "stderr",
          "text": [
            "Your max_length is set to 200, but your input_length is only 51. Since this is a summarization task, where outputs shorter than the input are typically wanted, you might consider decreasing max_length manually, e.g. summarizer('...', max_length=25)\n"
          ]
        },
        {
          "output_type": "stream",
          "name": "stdout",
          "text": [
            "37054ENG\n"
          ]
        },
        {
          "output_type": "stream",
          "name": "stderr",
          "text": [
            "Your max_length is set to 200, but your input_length is only 50. Since this is a summarization task, where outputs shorter than the input are typically wanted, you might consider decreasing max_length manually, e.g. summarizer('...', max_length=25)\n"
          ]
        },
        {
          "output_type": "stream",
          "name": "stdout",
          "text": [
            "71154ENG\n"
          ]
        },
        {
          "output_type": "stream",
          "name": "stderr",
          "text": [
            "Your max_length is set to 200, but your input_length is only 43. Since this is a summarization task, where outputs shorter than the input are typically wanted, you might consider decreasing max_length manually, e.g. summarizer('...', max_length=21)\n"
          ]
        },
        {
          "output_type": "stream",
          "name": "stdout",
          "text": [
            "70090ENG\n",
            "82934ENG\n"
          ]
        },
        {
          "output_type": "stream",
          "name": "stderr",
          "text": [
            "Your max_length is set to 200, but your input_length is only 47. Since this is a summarization task, where outputs shorter than the input are typically wanted, you might consider decreasing max_length manually, e.g. summarizer('...', max_length=23)\n"
          ]
        },
        {
          "output_type": "stream",
          "name": "stdout",
          "text": [
            "71105eng\n",
            "82935ENG\n"
          ]
        },
        {
          "output_type": "stream",
          "name": "stderr",
          "text": [
            "Your max_length is set to 200, but your input_length is only 187. Since this is a summarization task, where outputs shorter than the input are typically wanted, you might consider decreasing max_length manually, e.g. summarizer('...', max_length=93)\n"
          ]
        },
        {
          "output_type": "stream",
          "name": "stdout",
          "text": [
            "82936ENG\n",
            "82797ENG\n",
            "71542eng\n"
          ]
        },
        {
          "output_type": "stream",
          "name": "stderr",
          "text": [
            "Your max_length is set to 200, but your input_length is only 46. Since this is a summarization task, where outputs shorter than the input are typically wanted, you might consider decreasing max_length manually, e.g. summarizer('...', max_length=23)\n"
          ]
        },
        {
          "output_type": "stream",
          "name": "stdout",
          "text": [
            "37925eng\n",
            "81476eng\n"
          ]
        },
        {
          "output_type": "stream",
          "name": "stderr",
          "text": [
            "Your max_length is set to 200, but your input_length is only 180. Since this is a summarization task, where outputs shorter than the input are typically wanted, you might consider decreasing max_length manually, e.g. summarizer('...', max_length=90)\n"
          ]
        },
        {
          "output_type": "stream",
          "name": "stdout",
          "text": [
            "81475eng\n"
          ]
        },
        {
          "output_type": "stream",
          "name": "stderr",
          "text": [
            "Your max_length is set to 200, but your input_length is only 94. Since this is a summarization task, where outputs shorter than the input are typically wanted, you might consider decreasing max_length manually, e.g. summarizer('...', max_length=47)\n"
          ]
        },
        {
          "output_type": "stream",
          "name": "stdout",
          "text": [
            "37514eng\n",
            "37590eng\n",
            "81355eng\n"
          ]
        },
        {
          "output_type": "stream",
          "name": "stderr",
          "text": [
            "Your max_length is set to 200, but your input_length is only 151. Since this is a summarization task, where outputs shorter than the input are typically wanted, you might consider decreasing max_length manually, e.g. summarizer('...', max_length=75)\n"
          ]
        },
        {
          "output_type": "stream",
          "name": "stdout",
          "text": [
            "81917ENG\n"
          ]
        },
        {
          "output_type": "stream",
          "name": "stderr",
          "text": [
            "Your max_length is set to 200, but your input_length is only 45. Since this is a summarization task, where outputs shorter than the input are typically wanted, you might consider decreasing max_length manually, e.g. summarizer('...', max_length=22)\n"
          ]
        },
        {
          "output_type": "stream",
          "name": "stdout",
          "text": [
            "3731ENG\n"
          ]
        },
        {
          "output_type": "stream",
          "name": "stderr",
          "text": [
            "Your max_length is set to 200, but your input_length is only 46. Since this is a summarization task, where outputs shorter than the input are typically wanted, you might consider decreasing max_length manually, e.g. summarizer('...', max_length=23)\n"
          ]
        },
        {
          "output_type": "stream",
          "name": "stdout",
          "text": [
            "7124ENG\n"
          ]
        },
        {
          "output_type": "stream",
          "name": "stderr",
          "text": [
            "Your max_length is set to 200, but your input_length is only 38. Since this is a summarization task, where outputs shorter than the input are typically wanted, you might consider decreasing max_length manually, e.g. summarizer('...', max_length=19)\n"
          ]
        },
        {
          "output_type": "stream",
          "name": "stdout",
          "text": [
            "71103ENG\n"
          ]
        },
        {
          "output_type": "stream",
          "name": "stderr",
          "text": [
            "Your max_length is set to 200, but your input_length is only 46. Since this is a summarization task, where outputs shorter than the input are typically wanted, you might consider decreasing max_length manually, e.g. summarizer('...', max_length=23)\n"
          ]
        },
        {
          "output_type": "stream",
          "name": "stdout",
          "text": [
            "71053ENG\n"
          ]
        },
        {
          "output_type": "stream",
          "name": "stderr",
          "text": [
            "Your max_length is set to 200, but your input_length is only 178. Since this is a summarization task, where outputs shorter than the input are typically wanted, you might consider decreasing max_length manually, e.g. summarizer('...', max_length=89)\n"
          ]
        },
        {
          "output_type": "stream",
          "name": "stdout",
          "text": [
            "82958ENG\n"
          ]
        },
        {
          "output_type": "stream",
          "name": "stderr",
          "text": [
            "Your max_length is set to 200, but your input_length is only 165. Since this is a summarization task, where outputs shorter than the input are typically wanted, you might consider decreasing max_length manually, e.g. summarizer('...', max_length=82)\n"
          ]
        },
        {
          "output_type": "stream",
          "name": "stdout",
          "text": [
            "82959ENG\n"
          ]
        },
        {
          "output_type": "stream",
          "name": "stderr",
          "text": [
            "Your max_length is set to 200, but your input_length is only 165. Since this is a summarization task, where outputs shorter than the input are typically wanted, you might consider decreasing max_length manually, e.g. summarizer('...', max_length=82)\n"
          ]
        },
        {
          "output_type": "stream",
          "name": "stdout",
          "text": [
            "82960ENG\n"
          ]
        },
        {
          "output_type": "stream",
          "name": "stderr",
          "text": [
            "Your max_length is set to 200, but your input_length is only 179. Since this is a summarization task, where outputs shorter than the input are typically wanted, you might consider decreasing max_length manually, e.g. summarizer('...', max_length=89)\n"
          ]
        },
        {
          "output_type": "stream",
          "name": "stdout",
          "text": [
            "84328ENG\n",
            "84098ENG\n",
            "82595ENG\n",
            "84099ENG\n",
            "82596ENG\n",
            "84100ENG\n",
            "83205ENG\n"
          ]
        },
        {
          "output_type": "stream",
          "name": "stderr",
          "text": [
            "Your max_length is set to 200, but your input_length is only 178. Since this is a summarization task, where outputs shorter than the input are typically wanted, you might consider decreasing max_length manually, e.g. summarizer('...', max_length=89)\n"
          ]
        },
        {
          "output_type": "stream",
          "name": "stdout",
          "text": [
            "81120eng\n",
            "84097ENG\n",
            "82594ENG\n",
            "82643ENG\n"
          ]
        },
        {
          "output_type": "stream",
          "name": "stderr",
          "text": [
            "Your max_length is set to 200, but your input_length is only 189. Since this is a summarization task, where outputs shorter than the input are typically wanted, you might consider decreasing max_length manually, e.g. summarizer('...', max_length=94)\n"
          ]
        },
        {
          "output_type": "stream",
          "name": "stdout",
          "text": [
            "85373ENG\n",
            "84550ENG\n",
            "82641ENG\n",
            "81642ENG\n",
            "81641ENG\n"
          ]
        },
        {
          "output_type": "stream",
          "name": "stderr",
          "text": [
            "Your max_length is set to 200, but your input_length is only 175. Since this is a summarization task, where outputs shorter than the input are typically wanted, you might consider decreasing max_length manually, e.g. summarizer('...', max_length=87)\n"
          ]
        },
        {
          "output_type": "stream",
          "name": "stdout",
          "text": [
            "81640ENG\n",
            "84101ENG\n",
            "83803ENG\n",
            "84086ENG\n",
            "82265ENG\n",
            "82640ENG\n",
            "83193ENG\n",
            "81117eng\n",
            "37891nre\n",
            "37720nre\n"
          ]
        },
        {
          "output_type": "stream",
          "name": "stderr",
          "text": [
            "Your max_length is set to 200, but your input_length is only 51. Since this is a summarization task, where outputs shorter than the input are typically wanted, you might consider decreasing max_length manually, e.g. summarizer('...', max_length=25)\n"
          ]
        },
        {
          "output_type": "stream",
          "name": "stdout",
          "text": [
            "03751eng\n"
          ]
        },
        {
          "output_type": "stream",
          "name": "stderr",
          "text": [
            "Your max_length is set to 200, but your input_length is only 51. Since this is a summarization task, where outputs shorter than the input are typically wanted, you might consider decreasing max_length manually, e.g. summarizer('...', max_length=25)\n"
          ]
        },
        {
          "output_type": "stream",
          "name": "stdout",
          "text": [
            "37595eng\n",
            "81118eng\n"
          ]
        },
        {
          "output_type": "stream",
          "name": "stderr",
          "text": [
            "Your max_length is set to 200, but your input_length is only 45. Since this is a summarization task, where outputs shorter than the input are typically wanted, you might consider decreasing max_length manually, e.g. summarizer('...', max_length=22)\n"
          ]
        },
        {
          "output_type": "stream",
          "name": "stdout",
          "text": [
            "7478eng\n",
            "70699eng\n"
          ]
        },
        {
          "output_type": "stream",
          "name": "stderr",
          "text": [
            "Your max_length is set to 200, but your input_length is only 44. Since this is a summarization task, where outputs shorter than the input are typically wanted, you might consider decreasing max_length manually, e.g. summarizer('...', max_length=22)\n"
          ]
        },
        {
          "output_type": "stream",
          "name": "stdout",
          "text": [
            "7336eng\n"
          ]
        },
        {
          "output_type": "stream",
          "name": "stderr",
          "text": [
            "Your max_length is set to 200, but your input_length is only 158. Since this is a summarization task, where outputs shorter than the input are typically wanted, you might consider decreasing max_length manually, e.g. summarizer('...', max_length=79)\n"
          ]
        },
        {
          "output_type": "stream",
          "name": "stdout",
          "text": [
            "81228ENG\n"
          ]
        },
        {
          "output_type": "stream",
          "name": "stderr",
          "text": [
            "Your max_length is set to 200, but your input_length is only 51. Since this is a summarization task, where outputs shorter than the input are typically wanted, you might consider decreasing max_length manually, e.g. summarizer('...', max_length=25)\n"
          ]
        },
        {
          "output_type": "stream",
          "name": "stdout",
          "text": [
            "71250ENG\n",
            "03744eng\n",
            "71837eng\n",
            "72000eng\n"
          ]
        },
        {
          "output_type": "stream",
          "name": "stderr",
          "text": [
            "Your max_length is set to 200, but your input_length is only 61. Since this is a summarization task, where outputs shorter than the input are typically wanted, you might consider decreasing max_length manually, e.g. summarizer('...', max_length=30)\n"
          ]
        },
        {
          "output_type": "stream",
          "name": "stdout",
          "text": [
            "7055eng\n",
            "80092eng\n",
            "83838ENG\n"
          ]
        },
        {
          "output_type": "stream",
          "name": "stderr",
          "text": [
            "Your max_length is set to 200, but your input_length is only 155. Since this is a summarization task, where outputs shorter than the input are typically wanted, you might consider decreasing max_length manually, e.g. summarizer('...', max_length=77)\n"
          ]
        },
        {
          "output_type": "stream",
          "name": "stdout",
          "text": [
            "81984ENG\n"
          ]
        },
        {
          "output_type": "stream",
          "name": "stderr",
          "text": [
            "Your max_length is set to 200, but your input_length is only 145. Since this is a summarization task, where outputs shorter than the input are typically wanted, you might consider decreasing max_length manually, e.g. summarizer('...', max_length=72)\n"
          ]
        },
        {
          "output_type": "stream",
          "name": "stdout",
          "text": [
            "81166eng\n"
          ]
        },
        {
          "output_type": "stream",
          "name": "stderr",
          "text": [
            "Your max_length is set to 200, but your input_length is only 148. Since this is a summarization task, where outputs shorter than the input are typically wanted, you might consider decreasing max_length manually, e.g. summarizer('...', max_length=74)\n"
          ]
        },
        {
          "output_type": "stream",
          "name": "stdout",
          "text": [
            "81159eng\n"
          ]
        },
        {
          "output_type": "stream",
          "name": "stderr",
          "text": [
            "Your max_length is set to 200, but your input_length is only 129. Since this is a summarization task, where outputs shorter than the input are typically wanted, you might consider decreasing max_length manually, e.g. summarizer('...', max_length=64)\n"
          ]
        },
        {
          "output_type": "stream",
          "name": "stdout",
          "text": [
            "82444ENG\n"
          ]
        },
        {
          "output_type": "stream",
          "name": "stderr",
          "text": [
            "Your max_length is set to 200, but your input_length is only 49. Since this is a summarization task, where outputs shorter than the input are typically wanted, you might consider decreasing max_length manually, e.g. summarizer('...', max_length=24)\n"
          ]
        },
        {
          "output_type": "stream",
          "name": "stdout",
          "text": [
            "37991eng\n"
          ]
        },
        {
          "output_type": "stream",
          "name": "stderr",
          "text": [
            "Your max_length is set to 200, but your input_length is only 57. Since this is a summarization task, where outputs shorter than the input are typically wanted, you might consider decreasing max_length manually, e.g. summarizer('...', max_length=28)\n"
          ]
        },
        {
          "output_type": "stream",
          "name": "stdout",
          "text": [
            "37350ENG\n"
          ]
        },
        {
          "output_type": "stream",
          "name": "stderr",
          "text": [
            "Your max_length is set to 200, but your input_length is only 59. Since this is a summarization task, where outputs shorter than the input are typically wanted, you might consider decreasing max_length manually, e.g. summarizer('...', max_length=29)\n"
          ]
        },
        {
          "output_type": "stream",
          "name": "stdout",
          "text": [
            "70696eng\n"
          ]
        },
        {
          "output_type": "stream",
          "name": "stderr",
          "text": [
            "Your max_length is set to 200, but your input_length is only 141. Since this is a summarization task, where outputs shorter than the input are typically wanted, you might consider decreasing max_length manually, e.g. summarizer('...', max_length=70)\n"
          ]
        },
        {
          "output_type": "stream",
          "name": "stdout",
          "text": [
            "37807eng\n"
          ]
        },
        {
          "output_type": "stream",
          "name": "stderr",
          "text": [
            "Your max_length is set to 200, but your input_length is only 155. Since this is a summarization task, where outputs shorter than the input are typically wanted, you might consider decreasing max_length manually, e.g. summarizer('...', max_length=77)\n"
          ]
        },
        {
          "output_type": "stream",
          "name": "stdout",
          "text": [
            "81183eng\n",
            "80370eng\n",
            "81010eng\n",
            "80447eng\n",
            "70946eng\n",
            "70947eng\n",
            "37221eng\n",
            "80448eng\n"
          ]
        },
        {
          "output_type": "stream",
          "name": "stderr",
          "text": [
            "Your max_length is set to 200, but your input_length is only 170. Since this is a summarization task, where outputs shorter than the input are typically wanted, you might consider decreasing max_length manually, e.g. summarizer('...', max_length=85)\n"
          ]
        },
        {
          "output_type": "stream",
          "name": "stdout",
          "text": [
            "83390ENG\n"
          ]
        },
        {
          "output_type": "stream",
          "name": "stderr",
          "text": [
            "Your max_length is set to 200, but your input_length is only 185. Since this is a summarization task, where outputs shorter than the input are typically wanted, you might consider decreasing max_length manually, e.g. summarizer('...', max_length=92)\n"
          ]
        },
        {
          "output_type": "stream",
          "name": "stdout",
          "text": [
            "7063eng\n"
          ]
        },
        {
          "output_type": "stream",
          "name": "stderr",
          "text": [
            "Your max_length is set to 200, but your input_length is only 134. Since this is a summarization task, where outputs shorter than the input are typically wanted, you might consider decreasing max_length manually, e.g. summarizer('...', max_length=67)\n"
          ]
        },
        {
          "output_type": "stream",
          "name": "stdout",
          "text": [
            "7467eng\n",
            "80138eng\n"
          ]
        },
        {
          "output_type": "stream",
          "name": "stderr",
          "text": [
            "Your max_length is set to 200, but your input_length is only 60. Since this is a summarization task, where outputs shorter than the input are typically wanted, you might consider decreasing max_length manually, e.g. summarizer('...', max_length=30)\n"
          ]
        },
        {
          "output_type": "stream",
          "name": "stdout",
          "text": [
            "37687eng\n"
          ]
        },
        {
          "output_type": "stream",
          "name": "stderr",
          "text": [
            "Your max_length is set to 200, but your input_length is only 33. Since this is a summarization task, where outputs shorter than the input are typically wanted, you might consider decreasing max_length manually, e.g. summarizer('...', max_length=16)\n"
          ]
        },
        {
          "output_type": "stream",
          "name": "stdout",
          "text": [
            "37970eng\n",
            "81478eng\n"
          ]
        },
        {
          "output_type": "stream",
          "name": "stderr",
          "text": [
            "Your max_length is set to 200, but your input_length is only 104. Since this is a summarization task, where outputs shorter than the input are typically wanted, you might consider decreasing max_length manually, e.g. summarizer('...', max_length=52)\n"
          ]
        },
        {
          "output_type": "stream",
          "name": "stdout",
          "text": [
            "37591eng\n"
          ]
        },
        {
          "output_type": "stream",
          "name": "stderr",
          "text": [
            "Your max_length is set to 200, but your input_length is only 125. Since this is a summarization task, where outputs shorter than the input are typically wanted, you might consider decreasing max_length manually, e.g. summarizer('...', max_length=62)\n"
          ]
        },
        {
          "output_type": "stream",
          "name": "stdout",
          "text": [
            "03740eng\n"
          ]
        },
        {
          "output_type": "stream",
          "name": "stderr",
          "text": [
            "Your max_length is set to 200, but your input_length is only 108. Since this is a summarization task, where outputs shorter than the input are typically wanted, you might consider decreasing max_length manually, e.g. summarizer('...', max_length=54)\n"
          ]
        },
        {
          "output_type": "stream",
          "name": "stdout",
          "text": [
            "37312eng\n"
          ]
        },
        {
          "output_type": "stream",
          "name": "stderr",
          "text": [
            "Your max_length is set to 200, but your input_length is only 133. Since this is a summarization task, where outputs shorter than the input are typically wanted, you might consider decreasing max_length manually, e.g. summarizer('...', max_length=66)\n"
          ]
        },
        {
          "output_type": "stream",
          "name": "stdout",
          "text": [
            "37744eng\n"
          ]
        },
        {
          "output_type": "stream",
          "name": "stderr",
          "text": [
            "Your max_length is set to 200, but your input_length is only 180. Since this is a summarization task, where outputs shorter than the input are typically wanted, you might consider decreasing max_length manually, e.g. summarizer('...', max_length=90)\n"
          ]
        },
        {
          "output_type": "stream",
          "name": "stdout",
          "text": [
            "84871ENG\n"
          ]
        },
        {
          "output_type": "stream",
          "name": "stderr",
          "text": [
            "Your max_length is set to 200, but your input_length is only 182. Since this is a summarization task, where outputs shorter than the input are typically wanted, you might consider decreasing max_length manually, e.g. summarizer('...', max_length=91)\n"
          ]
        },
        {
          "output_type": "stream",
          "name": "stdout",
          "text": [
            "83783ENG\n"
          ]
        },
        {
          "output_type": "stream",
          "name": "stderr",
          "text": [
            "Your max_length is set to 200, but your input_length is only 182. Since this is a summarization task, where outputs shorter than the input are typically wanted, you might consider decreasing max_length manually, e.g. summarizer('...', max_length=91)\n"
          ]
        },
        {
          "output_type": "stream",
          "name": "stdout",
          "text": [
            "82683ENG\n"
          ]
        },
        {
          "output_type": "stream",
          "name": "stderr",
          "text": [
            "Your max_length is set to 200, but your input_length is only 134. Since this is a summarization task, where outputs shorter than the input are typically wanted, you might consider decreasing max_length manually, e.g. summarizer('...', max_length=67)\n"
          ]
        },
        {
          "output_type": "stream",
          "name": "stdout",
          "text": [
            "81593ENG\n"
          ]
        },
        {
          "output_type": "stream",
          "name": "stderr",
          "text": [
            "Your max_length is set to 200, but your input_length is only 36. Since this is a summarization task, where outputs shorter than the input are typically wanted, you might consider decreasing max_length manually, e.g. summarizer('...', max_length=18)\n"
          ]
        },
        {
          "output_type": "stream",
          "name": "stdout",
          "text": [
            "70851eng\n"
          ]
        },
        {
          "output_type": "stream",
          "name": "stderr",
          "text": [
            "Your max_length is set to 200, but your input_length is only 81. Since this is a summarization task, where outputs shorter than the input are typically wanted, you might consider decreasing max_length manually, e.g. summarizer('...', max_length=40)\n"
          ]
        },
        {
          "output_type": "stream",
          "name": "stdout",
          "text": [
            "03766eng\n"
          ]
        },
        {
          "output_type": "stream",
          "name": "stderr",
          "text": [
            "Your max_length is set to 200, but your input_length is only 138. Since this is a summarization task, where outputs shorter than the input are typically wanted, you might consider decreasing max_length manually, e.g. summarizer('...', max_length=69)\n"
          ]
        },
        {
          "output_type": "stream",
          "name": "stdout",
          "text": [
            "80346eng\n"
          ]
        },
        {
          "output_type": "stream",
          "name": "stderr",
          "text": [
            "Your max_length is set to 200, but your input_length is only 135. Since this is a summarization task, where outputs shorter than the input are typically wanted, you might consider decreasing max_length manually, e.g. summarizer('...', max_length=67)\n"
          ]
        },
        {
          "output_type": "stream",
          "name": "stdout",
          "text": [
            "80345eng\n"
          ]
        },
        {
          "output_type": "stream",
          "name": "stderr",
          "text": [
            "Your max_length is set to 200, but your input_length is only 47. Since this is a summarization task, where outputs shorter than the input are typically wanted, you might consider decreasing max_length manually, e.g. summarizer('...', max_length=23)\n"
          ]
        },
        {
          "output_type": "stream",
          "name": "stdout",
          "text": [
            "70145ENG\n"
          ]
        },
        {
          "output_type": "stream",
          "name": "stderr",
          "text": [
            "Your max_length is set to 200, but your input_length is only 42. Since this is a summarization task, where outputs shorter than the input are typically wanted, you might consider decreasing max_length manually, e.g. summarizer('...', max_length=21)\n"
          ]
        },
        {
          "output_type": "stream",
          "name": "stdout",
          "text": [
            "70746ENG\n",
            "71311eng\n",
            "81135eng\n",
            "71313eng\n"
          ]
        },
        {
          "output_type": "stream",
          "name": "stderr",
          "text": [
            "Your max_length is set to 200, but your input_length is only 57. Since this is a summarization task, where outputs shorter than the input are typically wanted, you might consider decreasing max_length manually, e.g. summarizer('...', max_length=28)\n"
          ]
        },
        {
          "output_type": "stream",
          "name": "stdout",
          "text": [
            "7197ENG\n"
          ]
        },
        {
          "output_type": "stream",
          "name": "stderr",
          "text": [
            "Your max_length is set to 200, but your input_length is only 47. Since this is a summarization task, where outputs shorter than the input are typically wanted, you might consider decreasing max_length manually, e.g. summarizer('...', max_length=23)\n"
          ]
        },
        {
          "output_type": "stream",
          "name": "stdout",
          "text": [
            "7198ENG\n"
          ]
        },
        {
          "output_type": "stream",
          "name": "stderr",
          "text": [
            "Your max_length is set to 200, but your input_length is only 39. Since this is a summarization task, where outputs shorter than the input are typically wanted, you might consider decreasing max_length manually, e.g. summarizer('...', max_length=19)\n"
          ]
        },
        {
          "output_type": "stream",
          "name": "stdout",
          "text": [
            "7196ENG\n",
            "80087eng\n"
          ]
        },
        {
          "output_type": "stream",
          "name": "stderr",
          "text": [
            "Your max_length is set to 200, but your input_length is only 158. Since this is a summarization task, where outputs shorter than the input are typically wanted, you might consider decreasing max_length manually, e.g. summarizer('...', max_length=79)\n"
          ]
        },
        {
          "output_type": "stream",
          "name": "stdout",
          "text": [
            "71099eng\n"
          ]
        },
        {
          "output_type": "stream",
          "name": "stderr",
          "text": [
            "Your max_length is set to 200, but your input_length is only 54. Since this is a summarization task, where outputs shorter than the input are typically wanted, you might consider decreasing max_length manually, e.g. summarizer('...', max_length=27)\n"
          ]
        },
        {
          "output_type": "stream",
          "name": "stdout",
          "text": [
            "7242ENG\n"
          ]
        },
        {
          "output_type": "stream",
          "name": "stderr",
          "text": [
            "Your max_length is set to 200, but your input_length is only 192. Since this is a summarization task, where outputs shorter than the input are typically wanted, you might consider decreasing max_length manually, e.g. summarizer('...', max_length=96)\n"
          ]
        },
        {
          "output_type": "stream",
          "name": "stdout",
          "text": [
            "81974ENG\n"
          ]
        },
        {
          "output_type": "stream",
          "name": "stderr",
          "text": [
            "Your max_length is set to 200, but your input_length is only 166. Since this is a summarization task, where outputs shorter than the input are typically wanted, you might consider decreasing max_length manually, e.g. summarizer('...', max_length=83)\n"
          ]
        },
        {
          "output_type": "stream",
          "name": "stdout",
          "text": [
            "71934eng\n"
          ]
        },
        {
          "output_type": "stream",
          "name": "stderr",
          "text": [
            "Your max_length is set to 200, but your input_length is only 147. Since this is a summarization task, where outputs shorter than the input are typically wanted, you might consider decreasing max_length manually, e.g. summarizer('...', max_length=73)\n"
          ]
        },
        {
          "output_type": "stream",
          "name": "stdout",
          "text": [
            "71935eng\n"
          ]
        },
        {
          "output_type": "stream",
          "name": "stderr",
          "text": [
            "Your max_length is set to 200, but your input_length is only 47. Since this is a summarization task, where outputs shorter than the input are typically wanted, you might consider decreasing max_length manually, e.g. summarizer('...', max_length=23)\n"
          ]
        },
        {
          "output_type": "stream",
          "name": "stdout",
          "text": [
            "70753eng\n"
          ]
        },
        {
          "output_type": "stream",
          "name": "stderr",
          "text": [
            "Your max_length is set to 200, but your input_length is only 47. Since this is a summarization task, where outputs shorter than the input are typically wanted, you might consider decreasing max_length manually, e.g. summarizer('...', max_length=23)\n"
          ]
        },
        {
          "output_type": "stream",
          "name": "stdout",
          "text": [
            "70752eng\n",
            "81975ENG\n"
          ]
        },
        {
          "output_type": "stream",
          "name": "stderr",
          "text": [
            "Your max_length is set to 200, but your input_length is only 167. Since this is a summarization task, where outputs shorter than the input are typically wanted, you might consider decreasing max_length manually, e.g. summarizer('...', max_length=83)\n"
          ]
        },
        {
          "output_type": "stream",
          "name": "stdout",
          "text": [
            "81860ENG\n"
          ]
        },
        {
          "output_type": "stream",
          "name": "stderr",
          "text": [
            "Your max_length is set to 200, but your input_length is only 167. Since this is a summarization task, where outputs shorter than the input are typically wanted, you might consider decreasing max_length manually, e.g. summarizer('...', max_length=83)\n"
          ]
        },
        {
          "output_type": "stream",
          "name": "stdout",
          "text": [
            "71534eng\n"
          ]
        },
        {
          "output_type": "stream",
          "name": "stderr",
          "text": [
            "Your max_length is set to 200, but your input_length is only 154. Since this is a summarization task, where outputs shorter than the input are typically wanted, you might consider decreasing max_length manually, e.g. summarizer('...', max_length=77)\n"
          ]
        },
        {
          "output_type": "stream",
          "name": "stdout",
          "text": [
            "80426eng\n",
            "71482eng\n"
          ]
        },
        {
          "output_type": "stream",
          "name": "stderr",
          "text": [
            "Your max_length is set to 200, but your input_length is only 169. Since this is a summarization task, where outputs shorter than the input are typically wanted, you might consider decreasing max_length manually, e.g. summarizer('...', max_length=84)\n"
          ]
        },
        {
          "output_type": "stream",
          "name": "stdout",
          "text": [
            "72007eng\n"
          ]
        },
        {
          "output_type": "stream",
          "name": "stderr",
          "text": [
            "Your max_length is set to 200, but your input_length is only 176. Since this is a summarization task, where outputs shorter than the input are typically wanted, you might consider decreasing max_length manually, e.g. summarizer('...', max_length=88)\n"
          ]
        },
        {
          "output_type": "stream",
          "name": "stdout",
          "text": [
            "81435ENG\n"
          ]
        },
        {
          "output_type": "stream",
          "name": "stderr",
          "text": [
            "Your max_length is set to 200, but your input_length is only 94. Since this is a summarization task, where outputs shorter than the input are typically wanted, you might consider decreasing max_length manually, e.g. summarizer('...', max_length=47)\n"
          ]
        },
        {
          "output_type": "stream",
          "name": "stdout",
          "text": [
            "71961eng\n"
          ]
        },
        {
          "output_type": "stream",
          "name": "stderr",
          "text": [
            "Your max_length is set to 200, but your input_length is only 159. Since this is a summarization task, where outputs shorter than the input are typically wanted, you might consider decreasing max_length manually, e.g. summarizer('...', max_length=79)\n"
          ]
        },
        {
          "output_type": "stream",
          "name": "stdout",
          "text": [
            "71925eng\n"
          ]
        },
        {
          "output_type": "stream",
          "name": "stderr",
          "text": [
            "Your max_length is set to 200, but your input_length is only 54. Since this is a summarization task, where outputs shorter than the input are typically wanted, you might consider decreasing max_length manually, e.g. summarizer('...', max_length=27)\n"
          ]
        },
        {
          "output_type": "stream",
          "name": "stdout",
          "text": [
            "71715eng\n"
          ]
        },
        {
          "output_type": "stream",
          "name": "stderr",
          "text": [
            "Your max_length is set to 200, but your input_length is only 89. Since this is a summarization task, where outputs shorter than the input are typically wanted, you might consider decreasing max_length manually, e.g. summarizer('...', max_length=44)\n"
          ]
        },
        {
          "output_type": "stream",
          "name": "stdout",
          "text": [
            "71924eng\n",
            "37615eng\n",
            "37441eng\n",
            "37511eng\n"
          ]
        },
        {
          "output_type": "stream",
          "name": "stderr",
          "text": [
            "Your max_length is set to 200, but your input_length is only 48. Since this is a summarization task, where outputs shorter than the input are typically wanted, you might consider decreasing max_length manually, e.g. summarizer('...', max_length=24)\n"
          ]
        },
        {
          "output_type": "stream",
          "name": "stdout",
          "text": [
            "37775eng\n"
          ]
        },
        {
          "output_type": "stream",
          "name": "stderr",
          "text": [
            "Your max_length is set to 200, but your input_length is only 49. Since this is a summarization task, where outputs shorter than the input are typically wanted, you might consider decreasing max_length manually, e.g. summarizer('...', max_length=24)\n"
          ]
        },
        {
          "output_type": "stream",
          "name": "stdout",
          "text": [
            "37957ENG\n",
            "37340eng\n"
          ]
        },
        {
          "output_type": "stream",
          "name": "stderr",
          "text": [
            "Your max_length is set to 200, but your input_length is only 50. Since this is a summarization task, where outputs shorter than the input are typically wanted, you might consider decreasing max_length manually, e.g. summarizer('...', max_length=25)\n"
          ]
        },
        {
          "output_type": "stream",
          "name": "stdout",
          "text": [
            "37167eng\n",
            "37632eng\n"
          ]
        },
        {
          "output_type": "stream",
          "name": "stderr",
          "text": [
            "Your max_length is set to 200, but your input_length is only 51. Since this is a summarization task, where outputs shorter than the input are typically wanted, you might consider decreasing max_length manually, e.g. summarizer('...', max_length=25)\n"
          ]
        },
        {
          "output_type": "stream",
          "name": "stdout",
          "text": [
            "37488eng\n"
          ]
        },
        {
          "output_type": "stream",
          "name": "stderr",
          "text": [
            "Your max_length is set to 200, but your input_length is only 47. Since this is a summarization task, where outputs shorter than the input are typically wanted, you might consider decreasing max_length manually, e.g. summarizer('...', max_length=23)\n"
          ]
        },
        {
          "output_type": "stream",
          "name": "stdout",
          "text": [
            "37685ENG\n"
          ]
        },
        {
          "output_type": "stream",
          "name": "stderr",
          "text": [
            "Your max_length is set to 200, but your input_length is only 154. Since this is a summarization task, where outputs shorter than the input are typically wanted, you might consider decreasing max_length manually, e.g. summarizer('...', max_length=77)\n"
          ]
        },
        {
          "output_type": "stream",
          "name": "stdout",
          "text": [
            "81799ENG\n",
            "71997eng\n"
          ]
        },
        {
          "output_type": "stream",
          "name": "stderr",
          "text": [
            "Your max_length is set to 200, but your input_length is only 179. Since this is a summarization task, where outputs shorter than the input are typically wanted, you might consider decreasing max_length manually, e.g. summarizer('...', max_length=89)\n"
          ]
        },
        {
          "output_type": "stream",
          "name": "stdout",
          "text": [
            "81817ENG\n"
          ]
        },
        {
          "output_type": "stream",
          "name": "stderr",
          "text": [
            "Your max_length is set to 200, but your input_length is only 194. Since this is a summarization task, where outputs shorter than the input are typically wanted, you might consider decreasing max_length manually, e.g. summarizer('...', max_length=97)\n"
          ]
        },
        {
          "output_type": "stream",
          "name": "stdout",
          "text": [
            "80020eng\n"
          ]
        },
        {
          "output_type": "stream",
          "name": "stderr",
          "text": [
            "Your max_length is set to 200, but your input_length is only 150. Since this is a summarization task, where outputs shorter than the input are typically wanted, you might consider decreasing max_length manually, e.g. summarizer('...', max_length=75)\n"
          ]
        },
        {
          "output_type": "stream",
          "name": "stdout",
          "text": [
            "81160eng\n",
            "83862ENG\n",
            "81811ENG\n",
            "82439ENG\n"
          ]
        },
        {
          "output_type": "stream",
          "name": "stderr",
          "text": [
            "Your max_length is set to 200, but your input_length is only 147. Since this is a summarization task, where outputs shorter than the input are typically wanted, you might consider decreasing max_length manually, e.g. summarizer('...', max_length=73)\n"
          ]
        },
        {
          "output_type": "stream",
          "name": "stdout",
          "text": [
            "81161eng\n",
            "71838eng\n",
            "81804ENG\n",
            "82893ENG\n",
            "72001eng\n"
          ]
        },
        {
          "output_type": "stream",
          "name": "stderr",
          "text": [
            "Your max_length is set to 200, but your input_length is only 67. Since this is a summarization task, where outputs shorter than the input are typically wanted, you might consider decreasing max_length manually, e.g. summarizer('...', max_length=33)\n"
          ]
        },
        {
          "output_type": "stream",
          "name": "stdout",
          "text": [
            "70700eng\n",
            "72006eng\n"
          ]
        },
        {
          "output_type": "stream",
          "name": "stderr",
          "text": [
            "Your max_length is set to 200, but your input_length is only 47. Since this is a summarization task, where outputs shorter than the input are typically wanted, you might consider decreasing max_length manually, e.g. summarizer('...', max_length=23)\n"
          ]
        },
        {
          "output_type": "stream",
          "name": "stdout",
          "text": [
            "37456eng\n"
          ]
        },
        {
          "output_type": "stream",
          "name": "stderr",
          "text": [
            "Your max_length is set to 200, but your input_length is only 156. Since this is a summarization task, where outputs shorter than the input are typically wanted, you might consider decreasing max_length manually, e.g. summarizer('...', max_length=78)\n"
          ]
        },
        {
          "output_type": "stream",
          "name": "stdout",
          "text": [
            "81822ENG\n"
          ]
        },
        {
          "output_type": "stream",
          "name": "stderr",
          "text": [
            "Your max_length is set to 200, but your input_length is only 148. Since this is a summarization task, where outputs shorter than the input are typically wanted, you might consider decreasing max_length manually, e.g. summarizer('...', max_length=74)\n"
          ]
        },
        {
          "output_type": "stream",
          "name": "stdout",
          "text": [
            "81164eng\n",
            "71841eng\n"
          ]
        },
        {
          "output_type": "stream",
          "name": "stderr",
          "text": [
            "Your max_length is set to 200, but your input_length is only 167. Since this is a summarization task, where outputs shorter than the input are typically wanted, you might consider decreasing max_length manually, e.g. summarizer('...', max_length=83)\n"
          ]
        },
        {
          "output_type": "stream",
          "name": "stdout",
          "text": [
            "81807ENG\n",
            "72003eng\n"
          ]
        },
        {
          "output_type": "stream",
          "name": "stderr",
          "text": [
            "Your max_length is set to 200, but your input_length is only 52. Since this is a summarization task, where outputs shorter than the input are typically wanted, you might consider decreasing max_length manually, e.g. summarizer('...', max_length=26)\n"
          ]
        },
        {
          "output_type": "stream",
          "name": "stdout",
          "text": [
            "80884ENG\n"
          ]
        },
        {
          "output_type": "stream",
          "name": "stderr",
          "text": [
            "Your max_length is set to 200, but your input_length is only 61. Since this is a summarization task, where outputs shorter than the input are typically wanted, you might consider decreasing max_length manually, e.g. summarizer('...', max_length=30)\n"
          ]
        },
        {
          "output_type": "stream",
          "name": "stdout",
          "text": [
            "7224ENG\n",
            "80302ENG\n",
            "80392ENG\n",
            "84651ENG\n"
          ]
        },
        {
          "output_type": "stream",
          "name": "stderr",
          "text": [
            "Your max_length is set to 200, but your input_length is only 7. Since this is a summarization task, where outputs shorter than the input are typically wanted, you might consider decreasing max_length manually, e.g. summarizer('...', max_length=3)\n"
          ]
        },
        {
          "output_type": "stream",
          "name": "stdout",
          "text": [
            "37255ENG\n"
          ]
        },
        {
          "output_type": "stream",
          "name": "stderr",
          "text": [
            "Your max_length is set to 200, but your input_length is only 7. Since this is a summarization task, where outputs shorter than the input are typically wanted, you might consider decreasing max_length manually, e.g. summarizer('...', max_length=3)\n"
          ]
        },
        {
          "output_type": "stream",
          "name": "stdout",
          "text": [
            "37612ENG\n"
          ]
        },
        {
          "output_type": "stream",
          "name": "stderr",
          "text": [
            "Your max_length is set to 200, but your input_length is only 52. Since this is a summarization task, where outputs shorter than the input are typically wanted, you might consider decreasing max_length manually, e.g. summarizer('...', max_length=26)\n"
          ]
        },
        {
          "output_type": "stream",
          "name": "stdout",
          "text": [
            "37674ENG\n"
          ]
        },
        {
          "output_type": "stream",
          "name": "stderr",
          "text": [
            "Your max_length is set to 200, but your input_length is only 148. Since this is a summarization task, where outputs shorter than the input are typically wanted, you might consider decreasing max_length manually, e.g. summarizer('...', max_length=74)\n"
          ]
        },
        {
          "output_type": "stream",
          "name": "stdout",
          "text": [
            "70071eng\n"
          ]
        },
        {
          "output_type": "stream",
          "name": "stderr",
          "text": [
            "Your max_length is set to 200, but your input_length is only 7. Since this is a summarization task, where outputs shorter than the input are typically wanted, you might consider decreasing max_length manually, e.g. summarizer('...', max_length=3)\n"
          ]
        },
        {
          "output_type": "stream",
          "name": "stdout",
          "text": [
            "37112ENG\n"
          ]
        },
        {
          "output_type": "stream",
          "name": "stderr",
          "text": [
            "Your max_length is set to 200, but your input_length is only 173. Since this is a summarization task, where outputs shorter than the input are typically wanted, you might consider decreasing max_length manually, e.g. summarizer('...', max_length=86)\n"
          ]
        },
        {
          "output_type": "stream",
          "name": "stdout",
          "text": [
            "81821ENG\n",
            "80079eng\n"
          ]
        },
        {
          "output_type": "stream",
          "name": "stderr",
          "text": [
            "Your max_length is set to 200, but your input_length is only 149. Since this is a summarization task, where outputs shorter than the input are typically wanted, you might consider decreasing max_length manually, e.g. summarizer('...', max_length=74)\n"
          ]
        },
        {
          "output_type": "stream",
          "name": "stdout",
          "text": [
            "81157eng\n",
            "71844eng\n",
            "Example Table Embeddings:\n",
            "Table ID: 80783eng\n",
            "Table Embedding: tensor([ 3.3498e-02, -2.1545e-01, -3.7267e-02, -1.3228e-01,  1.4134e-01,\n",
            "        -4.4189e-02, -3.3582e-01, -2.7006e-01,  2.7065e-02,  2.0547e-01,\n",
            "         1.3194e-01, -6.0072e-02, -8.6440e-02, -7.4068e-02, -1.1227e-01,\n",
            "        -2.4221e-01,  3.8034e-02, -6.9142e-02,  1.2743e-01, -3.8545e-02,\n",
            "         8.5777e-02,  1.0851e-01, -2.8092e-01, -2.5289e-01,  1.3022e-01,\n",
            "        -6.7360e-02, -2.9629e-01, -4.0961e-02, -7.0552e-02, -3.1285e-01,\n",
            "         1.3497e-01,  1.5457e-01,  2.6439e-01,  1.6314e-01, -4.5641e-02,\n",
            "        -6.0478e-02, -2.8252e-02, -1.6465e-01,  1.8010e-01,  3.2562e-01,\n",
            "         7.3208e-02, -3.7041e-01,  2.5351e-01, -1.7549e-01,  1.2327e-02,\n",
            "         3.4843e-01, -2.1140e-01, -5.3973e-02, -3.8470e-02,  7.6663e-02,\n",
            "        -3.0450e-01,  1.4997e-01, -5.8637e-02, -2.3188e-01,  6.8207e-02,\n",
            "        -1.3918e-01,  5.3255e-02, -2.0161e-01, -2.3913e-01, -1.8370e-01,\n",
            "         1.0635e-01,  2.1791e-01, -1.3700e-02,  1.4534e-01,  6.6743e-02,\n",
            "        -2.0819e-01,  1.8853e-01,  3.6871e-01,  3.4587e-01, -3.5971e-01,\n",
            "         1.1239e-01,  2.1476e-01, -4.1485e-01, -1.1796e-01, -4.3588e-01,\n",
            "         1.5450e-01, -1.3308e-01, -1.6227e-01,  3.4033e-01, -3.5839e-01,\n",
            "         3.4978e-02,  3.5300e-01,  7.9493e-02,  1.3238e-02,  8.4315e-02,\n",
            "        -1.4237e-01, -5.2829e-02,  1.7083e-01, -1.3549e-02, -9.0523e-02,\n",
            "         5.6865e-01, -2.1629e-01, -6.6356e-02, -1.7414e-01,  2.0710e-01,\n",
            "         2.2164e-01, -3.4000e-02, -2.1407e-01,  8.6955e-02, -7.7476e-02,\n",
            "        -1.5127e-01, -3.1375e-01, -1.0517e-01, -1.2962e-01, -1.2298e-01,\n",
            "         2.1521e-02, -4.4028e-01,  1.7580e-01,  2.4892e-01, -2.7761e-02,\n",
            "        -3.9913e-01,  1.0371e-01, -5.0662e-01, -1.1451e-01,  3.2921e-03,\n",
            "        -2.2941e-01, -8.2117e-02, -2.4463e-01, -8.1920e-02,  1.0582e-01,\n",
            "         4.6561e-02, -3.4419e-01,  3.0321e-01,  2.3861e-01,  1.3623e-01,\n",
            "         2.3017e-01, -2.1053e-01,  1.0171e-02, -8.1157e-02, -3.6182e-01,\n",
            "         2.0877e-01, -2.3049e-01, -9.8701e-02, -2.2141e-01, -1.2629e-01,\n",
            "        -1.5574e-01,  4.1459e-01, -7.2619e-02,  2.4774e-01,  2.1420e-01,\n",
            "         1.1712e-01, -1.8274e-01,  6.1305e-02,  9.2181e-02,  1.6705e-01,\n",
            "         1.4499e-01,  2.2907e-01,  9.5471e-02, -7.7951e-02, -5.5682e-02,\n",
            "         4.3199e-01,  1.4873e-01, -6.6027e-02,  7.5080e-02, -1.0252e-01,\n",
            "        -9.3162e-02, -2.6449e-02,  2.7292e-01,  4.3663e-01,  5.7457e-02,\n",
            "        -1.0762e-01,  1.4655e-01, -5.0684e-02,  4.5486e-03,  2.9501e-01,\n",
            "        -1.9095e-01, -2.3923e-01, -2.4312e-02,  2.4442e-01,  2.8319e-02,\n",
            "         2.8362e-01,  6.9963e-02,  1.2172e-02, -2.8408e-01,  3.3166e-02,\n",
            "         2.7963e-01,  5.0951e-02,  1.9310e-01, -2.4834e-02,  2.7348e-01,\n",
            "         1.9471e-02, -9.6256e-02,  1.4113e-01,  2.8028e-01,  8.6956e-02,\n",
            "        -9.5967e-02, -6.4919e-02,  1.0375e-01, -1.1363e-01,  1.6685e-01,\n",
            "         1.7648e-02, -9.8728e-02, -2.4483e-02, -3.4675e-01, -1.1949e-01,\n",
            "        -6.1488e-02,  1.4154e-01,  2.2546e-01,  2.8235e-01, -2.7157e-01,\n",
            "        -5.4843e-02,  1.2900e-01, -1.6377e-01,  1.4193e-01,  5.6060e-02,\n",
            "        -1.0314e-02,  8.3744e-02, -1.4258e-01, -5.6586e-02,  4.9787e-01,\n",
            "         3.6164e-02,  1.9448e-01, -3.6945e-01,  5.9426e-02,  2.0839e-01,\n",
            "         1.3029e-01,  3.5790e-01,  9.3068e-02, -1.0034e-01, -1.5251e-02,\n",
            "        -4.6305e-01, -4.4238e-01,  1.9258e-01, -1.2540e-01, -3.8308e-01,\n",
            "         3.2315e-01, -2.3703e-01,  4.1778e-02, -3.1348e-02, -9.5279e-02,\n",
            "         3.0910e-01, -8.0550e-02,  2.8613e-01,  4.3347e-02, -2.5723e-01,\n",
            "        -6.5494e-02, -1.6309e-01, -1.7073e-02,  1.3801e-01,  8.2882e-02,\n",
            "        -1.5115e-01, -2.2115e-01, -3.3272e-01,  1.1972e-01, -3.3168e-01,\n",
            "         3.0824e-01,  8.8809e-02,  2.3905e-01, -1.8595e-01,  4.1898e-02,\n",
            "        -4.8798e-01, -2.5515e-02,  1.0296e-01, -2.2076e-01, -1.5685e-02,\n",
            "        -3.7639e-01,  1.5596e-03,  3.2193e-01, -5.6735e-02, -3.6034e-02,\n",
            "         4.2717e-01, -6.7846e-02,  1.8971e-01,  2.0033e-01,  2.8619e-01,\n",
            "        -9.3221e-02, -1.0437e-01,  2.4269e-01, -1.8367e-01, -6.0615e-02,\n",
            "        -3.3293e-01,  7.0423e-02,  4.3197e-01,  1.2443e-01,  2.3690e-01,\n",
            "        -1.0441e-01,  1.4345e-01, -2.0961e-01,  8.0140e-02,  1.0304e-01,\n",
            "         1.8884e-01,  1.4398e-01, -1.9651e-01,  2.7984e-01, -1.7854e-02,\n",
            "         1.6643e-01, -1.1652e-01,  1.7528e-01, -1.5656e-01,  1.1638e-01,\n",
            "         1.4516e-01, -7.1714e-02, -2.9150e-01, -7.2590e-02, -2.4846e-01,\n",
            "        -5.0767e-02,  4.6336e-02, -1.6360e-01,  1.7736e-02,  1.2571e-01,\n",
            "        -5.0384e-02,  1.4660e-02,  3.3924e-01, -1.2204e-01, -2.8697e-01,\n",
            "        -1.8647e-01,  3.6031e-01,  8.0185e-02,  1.3380e-01, -1.6740e-01,\n",
            "         1.4369e-02, -1.4054e-01,  2.2733e-01, -5.7342e-03, -6.4889e-02,\n",
            "        -5.4895e-02, -5.0313e-01,  2.3664e-01,  2.7259e-01,  3.2839e-02,\n",
            "        -7.1039e-02, -5.0226e-02,  1.8624e-01,  3.5228e-02,  1.9337e-01,\n",
            "         1.2716e-01, -1.3993e-01, -1.2064e-02,  2.8764e-01,  3.5299e-01,\n",
            "        -1.2425e-01,  2.8260e-02, -2.8912e-01, -1.0698e-01,  1.8465e-02,\n",
            "        -1.3887e-01, -5.3851e-02,  1.5250e-01, -1.9380e-01, -8.5274e-02,\n",
            "        -2.0849e-01,  9.6910e-02, -1.5989e-01,  1.0084e-02,  6.2954e-02,\n",
            "        -1.3253e-01, -2.6259e-02,  7.0676e-01, -7.3365e-02, -6.0938e-02,\n",
            "         1.9888e-01,  1.7012e-01, -1.1434e-01, -4.1411e-02,  2.7259e-01,\n",
            "         2.2974e-01, -1.3723e-01, -1.3595e-01, -4.4944e-02, -1.0045e-01,\n",
            "        -1.6176e-01,  2.3602e-01, -4.1507e-04,  4.5581e-02,  2.6100e-01,\n",
            "         9.3476e-02, -2.4484e-01, -1.5504e-02,  3.8317e-01, -3.3980e-01,\n",
            "        -4.1071e-01, -3.9203e-02, -2.3353e-02,  8.7817e-02, -2.0255e-01,\n",
            "         1.9218e-02,  1.9058e-01, -2.1036e-01,  6.2587e-01,  2.4796e-02,\n",
            "        -2.5857e-01, -2.0266e-01,  1.2062e-01, -1.0144e-01], device='cuda:0')\n",
            "Table ID: 80784eng\n",
            "Table Embedding: tensor([ 1.3688e-01, -1.6512e-01,  6.6647e-02, -7.7696e-02,  1.7908e-01,\n",
            "        -9.8864e-02, -2.8641e-01, -3.2101e-01,  3.3449e-01,  2.0346e-02,\n",
            "         2.8341e-01, -3.9089e-01, -1.7242e-01, -1.8230e-01, -3.2523e-01,\n",
            "        -1.6839e-01,  1.1695e-01, -2.4199e-01,  2.1935e-01, -2.6446e-01,\n",
            "        -8.5296e-02,  1.9329e-01, -7.6232e-02, -1.3866e-01,  1.3040e-01,\n",
            "         7.9824e-03, -3.4275e-01,  1.0485e-01,  9.6921e-04, -1.9650e-01,\n",
            "         7.4277e-02, -1.0284e-01,  2.6309e-03,  9.4540e-02,  3.4659e-02,\n",
            "        -1.0292e-01,  1.2315e-01, -1.6340e-02,  1.3918e-01,  2.2598e-01,\n",
            "         8.0759e-02, -5.5740e-01,  2.9308e-01, -2.2316e-01,  8.3520e-02,\n",
            "         4.6613e-01, -2.1926e-01, -6.5107e-02, -1.6697e-01,  1.8923e-01,\n",
            "        -2.3197e-01,  5.1766e-02, -9.4144e-02, -7.4455e-02,  2.2538e-01,\n",
            "        -8.2770e-02, -2.6093e-03, -2.1436e-01, -1.7079e-02, -2.0855e-01,\n",
            "         8.6822e-02,  2.0589e-01,  7.0739e-02,  1.6462e-01,  5.9584e-02,\n",
            "        -2.0916e-01,  1.0059e-01,  8.6722e-02,  6.9540e-04, -3.0253e-01,\n",
            "         2.2836e-01,  4.2130e-02, -3.5639e-01, -9.1688e-02, -3.1801e-01,\n",
            "         3.4533e-01, -6.5311e-02, -6.5084e-02,  2.5802e-01, -2.8767e-01,\n",
            "        -8.8644e-02,  2.4126e-01,  2.1400e-02,  1.6571e-01,  4.6589e-02,\n",
            "        -9.7057e-03,  4.1516e-02,  3.4509e-01, -4.7164e-02,  8.9192e-02,\n",
            "         5.4498e-01, -1.6895e-01, -3.4406e-02,  1.0195e-02,  2.4926e-01,\n",
            "         1.9795e-01, -1.7623e-01, -1.0474e-01,  1.9029e-01, -1.0731e-01,\n",
            "        -2.4408e-01,  3.7019e-02, -1.9575e-01,  1.0654e-01, -3.1946e-01,\n",
            "        -1.8349e-01, -3.6217e-01,  1.2288e-01,  3.1375e-01, -4.5736e-02,\n",
            "        -4.2295e-01, -1.1485e-01, -3.6277e-01,  4.7881e-02, -1.7362e-02,\n",
            "        -2.8539e-01, -2.2270e-01,  5.7893e-02,  1.4692e-02,  7.7658e-02,\n",
            "         1.9463e-01,  3.1458e-02,  1.5198e-01,  7.9565e-02,  1.2566e-01,\n",
            "         1.5858e-01, -1.2888e-01,  8.5550e-02, -9.2640e-02, -3.9381e-01,\n",
            "         5.1509e-01, -1.2529e-01, -3.8251e-02, -3.3285e-01, -1.1828e-01,\n",
            "        -2.6427e-02,  3.8682e-01,  4.8727e-02,  1.2966e-02,  2.4573e-01,\n",
            "         1.5180e-01, -2.0745e-01,  1.6121e-02,  1.1302e-01,  1.9032e-01,\n",
            "         1.8997e-01,  2.5773e-01,  8.8307e-02, -7.5205e-02, -2.5435e-01,\n",
            "         2.2538e-01, -5.5542e-02, -1.2693e-01,  1.7493e-01, -2.9700e-01,\n",
            "        -2.5234e-01,  5.6329e-02,  2.7684e-01,  4.9365e-01,  6.7310e-02,\n",
            "        -2.3989e-01,  1.0261e-03,  2.1052e-02, -1.2682e-01,  4.5128e-01,\n",
            "        -2.8849e-01, -7.8557e-02,  3.3261e-02,  2.8683e-01,  1.3041e-01,\n",
            "         8.8835e-02,  7.6209e-02,  1.5036e-01, -2.0492e-01,  3.7312e-01,\n",
            "         1.2621e-01,  1.9905e-01,  3.1744e-01, -2.8225e-02,  2.2621e-01,\n",
            "         3.4257e-02, -3.5716e-01,  1.9264e-01,  2.0657e-01,  1.6425e-01,\n",
            "         7.0435e-02, -1.8943e-01, -8.5820e-03, -2.3649e-01,  2.8469e-01,\n",
            "         1.0006e-01, -1.3459e-01,  1.3701e-01, -2.0043e-01, -1.0631e-01,\n",
            "         2.9102e-02,  2.0806e-01,  2.6598e-01,  1.8246e-01, -1.8768e-01,\n",
            "        -2.7217e-01, -8.3276e-02, -4.8984e-02, -5.2029e-02,  6.1213e-02,\n",
            "        -7.1922e-02, -1.6209e-01, -7.0337e-02, -1.5693e-01,  6.4472e-01,\n",
            "        -5.0359e-02, -4.2519e-02, -2.5585e-02, -8.9468e-03,  3.8942e-01,\n",
            "         3.1973e-01,  3.9681e-01, -3.1753e-02,  1.0124e-01,  2.1843e-02,\n",
            "        -6.8392e-01, -2.9604e-01,  2.2304e-01, -2.2338e-01, -3.2364e-01,\n",
            "         8.6748e-03, -2.6999e-01, -1.0099e-01, -1.6907e-02, -2.3220e-01,\n",
            "         4.4643e-01,  2.8723e-01,  3.3844e-01,  2.2124e-01, -2.4496e-01,\n",
            "        -1.3983e-01, -8.9013e-02, -1.4338e-01,  7.5555e-02, -4.4872e-02,\n",
            "        -1.0421e-01,  1.5344e-01, -1.5241e-01, -1.4105e-01, -2.8997e-01,\n",
            "         3.7155e-01,  8.0920e-02,  1.3030e-01, -1.3467e-01,  3.4495e-01,\n",
            "        -4.4529e-01,  9.0967e-02, -1.5421e-01, -3.2332e-01, -2.6971e-02,\n",
            "        -3.3481e-01,  1.2662e-01,  4.4252e-01, -9.2189e-02, -5.6813e-03,\n",
            "         3.8413e-01, -1.8622e-01,  2.4311e-01,  9.6563e-02,  1.8895e-01,\n",
            "        -9.1547e-02, -1.7458e-01,  3.0218e-01, -3.0030e-01, -3.8387e-02,\n",
            "        -2.2041e-01,  1.7353e-01,  4.8155e-01,  3.6215e-02,  2.1751e-01,\n",
            "         1.4869e-01,  1.6582e-01, -2.4999e-01,  5.9635e-02,  5.4795e-02,\n",
            "        -1.8917e-02, -2.1206e-01, -1.1862e-01,  1.9229e-01, -8.5951e-02,\n",
            "        -1.0522e-02,  1.6366e-02,  1.2463e-01, -1.0031e-01, -3.3619e-02,\n",
            "         4.4100e-02,  1.8997e-02, -1.5117e-01, -1.9789e-01, -1.0420e-01,\n",
            "        -5.2898e-02,  1.2186e-01, -3.0115e-01, -8.9668e-02, -6.6401e-02,\n",
            "        -9.6173e-02,  4.0238e-02,  2.2786e-01, -2.4951e-01, -3.0775e-01,\n",
            "        -1.7989e-01,  3.4648e-01, -8.9560e-02,  5.0232e-02, -6.3574e-02,\n",
            "         1.0617e-02,  1.3118e-01,  3.8283e-01, -6.7824e-02,  4.4292e-02,\n",
            "        -2.7612e-03, -2.9148e-01,  2.4540e-01,  3.4327e-01,  9.1663e-02,\n",
            "         4.0911e-02, -4.6400e-02,  1.9417e-01,  2.8830e-01,  4.4409e-02,\n",
            "         3.7589e-02, -1.7913e-01,  8.0790e-02,  2.6292e-01,  3.1199e-01,\n",
            "        -1.9289e-02,  9.1298e-03, -2.1864e-01,  7.4598e-02,  2.0692e-01,\n",
            "         4.4337e-02, -4.7858e-02,  3.7267e-02, -2.6452e-01, -1.3036e-01,\n",
            "        -1.7833e-01,  2.0835e-02, -2.9997e-02, -1.1387e-01, -6.5392e-02,\n",
            "        -6.8982e-02, -1.3554e-01,  4.3706e-01, -1.7314e-01, -2.0991e-01,\n",
            "         1.5998e-01,  4.9758e-02, -3.4701e-02, -1.5495e-01, -8.7656e-02,\n",
            "         2.6519e-01, -3.7153e-01, -2.8967e-02, -1.2028e-02, -3.9991e-01,\n",
            "        -4.3550e-03,  9.4333e-02, -5.5087e-02,  1.8849e-01,  2.4601e-01,\n",
            "         2.3325e-01, -1.9440e-01,  2.5715e-01,  1.3715e-01, -7.3678e-01,\n",
            "        -4.6582e-01, -2.1170e-01, -1.1043e-02, -7.5889e-02,  6.0215e-03,\n",
            "        -1.0781e-01,  1.1813e-02, -2.4569e-01,  4.8281e-01,  9.0577e-02,\n",
            "        -1.4333e-01, -1.4311e-01,  2.5148e-01, -2.5897e-01], device='cuda:0')\n",
            "Table ID: 85636ENG\n",
            "Table Embedding: tensor([ 0.1912,  0.1062, -0.2716, -0.1916,  0.2294,  0.1712, -0.2635, -0.2734,\n",
            "        -0.3706,  0.3061,  0.4008, -0.4084,  0.2657, -0.1470, -0.0255,  0.0707,\n",
            "        -0.0277, -0.1513,  0.1057, -0.4366,  0.2870,  0.2675, -0.0338, -0.0851,\n",
            "         0.5273, -0.2102,  0.0697, -0.2034, -0.0149, -0.3736, -0.1153,  0.6275,\n",
            "         0.2535,  0.5464,  0.0945,  0.1331, -0.0482, -0.0423,  0.3594,  0.0705,\n",
            "         0.0239, -0.4932,  0.0324, -0.2081, -0.2454,  0.1236,  0.0122,  0.0415,\n",
            "        -0.0440,  0.1176, -0.0781, -0.0096,  0.1909, -0.6314,  0.3478, -0.1017,\n",
            "         0.1236,  0.0352,  0.1409, -0.1418, -0.0881, -0.1031, -0.2102, -0.1433,\n",
            "         0.0610, -0.0322, -0.0432,  0.0892,  0.2896, -0.2525, -0.0616,  0.3255,\n",
            "        -0.4965, -0.3409, -0.6970,  0.0152,  0.0111, -0.0296, -0.0212, -0.2533,\n",
            "        -0.2678,  0.3680, -0.0625,  0.0866,  0.0091, -0.3599, -0.0742,  0.4022,\n",
            "         0.0352,  0.1048,  0.4120,  0.0755, -0.4713, -0.0795, -0.0597,  0.0956,\n",
            "         0.0096, -0.5345,  0.3245,  0.0533,  0.0819, -0.1550,  0.0567, -0.2909,\n",
            "        -0.2412, -0.1497, -0.3564,  0.0026,  0.0169,  0.0116, -0.2049,  0.2233,\n",
            "        -0.3649,  0.0235, -0.0930,  0.0407,  0.4660, -0.4855, -0.0490, -0.0205,\n",
            "         0.1770,  0.1090,  0.5292,  0.2869, -0.3047,  0.1544,  0.0852,  0.0292,\n",
            "        -0.0308, -0.2129,  0.3537, -0.1204, -0.2899, -0.3141,  0.1604, -0.0558,\n",
            "         0.3190, -0.2955, -0.0951,  0.0292, -0.0742,  0.0084,  0.1214,  0.1439,\n",
            "         0.1680,  0.1670,  0.0919,  0.2708, -0.1628, -0.5511, -0.0116, -0.4399,\n",
            "         0.1681, -0.1357,  0.5295, -0.2551, -0.1297,  0.1469,  0.7822,  0.0422,\n",
            "        -0.0685, -0.1695, -0.3491,  0.1307, -0.3390,  0.1253, -0.1082, -0.1404,\n",
            "         0.2494,  0.0906,  0.4432, -0.0388, -0.0348,  0.0335, -0.1149,  0.1982,\n",
            "         0.3295,  0.1837,  0.2177,  0.3182,  0.2339,  0.0020,  0.3736,  0.1958,\n",
            "         0.0881, -0.2139,  0.0118,  0.2163,  0.1175,  0.2908, -0.2510,  0.0994,\n",
            "        -0.3591,  0.1372, -0.2265,  0.1824,  0.2055,  0.0521,  0.2519, -0.1683,\n",
            "         0.0289,  0.0830, -0.1153,  0.2512,  0.0331, -0.0336,  0.0703, -0.0956,\n",
            "         0.2599,  0.3801,  0.2116, -0.2788, -0.2974,  0.1728, -0.0444,  0.4503,\n",
            "         0.3445,  0.3056, -0.2683, -0.0945, -0.1839, -0.3090,  0.5624, -0.1076,\n",
            "         0.0272,  0.2762, -0.0384, -0.2607,  0.5053, -0.1977, -0.0676,  0.0267,\n",
            "        -0.1035,  0.0607, -0.2953, -0.0593,  0.0537, -0.1138,  0.1774,  0.0903,\n",
            "         0.0432,  0.2095,  0.1142,  0.2118, -0.3522,  0.1266,  0.1543, -0.0639,\n",
            "        -0.1296, -0.1468, -0.1387, -0.0246, -0.2755, -0.2672,  0.2862, -0.5951,\n",
            "        -0.1390,  0.6278, -0.1582,  0.0938,  0.0239, -0.3520,  0.1126,  0.4724,\n",
            "         0.0513,  0.1083,  0.1560,  0.0551, -0.2808, -0.0285,  0.0739,  0.2524,\n",
            "        -0.0663, -0.2649,  0.1784,  0.1907, -0.1854, -0.1904,  0.4255,  0.1045,\n",
            "         0.2165,  0.3052, -0.2380,  0.0475, -0.2430,  0.1254,  0.0445, -0.1599,\n",
            "        -0.2192, -0.1006,  0.1972, -0.1115,  0.0354,  0.0177, -0.0050,  0.2415,\n",
            "        -0.0957,  0.0515,  0.1412,  0.3568, -0.3954,  0.1807,  0.0425, -0.1302,\n",
            "        -0.2393,  0.1847,  0.0058,  0.0167,  0.1372,  0.0383,  0.0760, -0.3348,\n",
            "         0.1563,  0.2854, -0.3509,  0.0188, -0.6427,  0.3582,  0.1446,  0.0383,\n",
            "        -0.2431,  0.0301, -0.0677,  0.3831,  0.0501,  0.2344,  0.2006, -0.1148,\n",
            "         0.1259, -0.1104, -0.4431, -0.1801, -0.0541,  0.2421, -0.4069, -0.1481,\n",
            "         0.0180,  0.0689, -0.1093, -0.2021, -0.0128, -0.1212,  0.0077,  0.0297,\n",
            "        -0.0629,  0.0306, -0.1099,  0.0725, -0.0707,  0.2723,  0.3821,  0.0640,\n",
            "        -0.0730, -0.1867, -0.0552,  0.0522, -0.2360, -0.0569, -0.0116,  0.0205,\n",
            "        -0.1958, -0.0748,  0.1025,  0.0758, -0.2144, -0.0973, -0.4308, -0.1187,\n",
            "         0.0889,  0.0487, -0.0432, -0.3680, -0.0987,  0.0217,  0.1295, -0.0219,\n",
            "         0.1560, -0.5998,  0.3257, -0.0760, -0.1150, -0.2449,  0.0234,  0.0587],\n",
            "       device='cuda:0')\n",
            "\n",
            "Example Column Embeddings:\n",
            "Table ID: 80783eng\n",
            "Column Embeddings: tensor([[ 0.2496, -0.1877, -0.0814,  ..., -0.9825,  0.8599, -0.2432],\n",
            "        [ 1.2460, -0.1837,  0.2235,  ...,  0.3647, -0.3896, -0.1960],\n",
            "        [ 0.0682,  0.2251,  0.6582,  ...,  0.4098,  0.1918, -0.3050],\n",
            "        ...,\n",
            "        [ 0.4943, -0.1194,  0.0171,  ..., -0.3604,  0.8313,  0.5655],\n",
            "        [-0.3507, -0.2910,  0.0413,  ..., -0.2069,  0.4626, -0.2213],\n",
            "        [-0.2840,  0.1132,  0.2384,  ..., -0.8638,  0.7749,  0.8311]],\n",
            "       device='cuda:0')\n",
            "Table ID: 80784eng\n",
            "Column Embeddings: tensor([[ 0.4564,  0.1549,  0.0645,  ..., -0.3831,  0.4138, -0.2884],\n",
            "        [ 1.2460, -0.1837,  0.2235,  ...,  0.3647, -0.3896, -0.1960],\n",
            "        [ 0.0682,  0.2251,  0.6582,  ...,  0.4098,  0.1918, -0.3050],\n",
            "        ...,\n",
            "        [-0.0998, -0.5158,  0.0042,  ..., -0.7920,  0.0544,  0.5051],\n",
            "        [ 0.5804, -0.2772,  0.3500,  ..., -0.8552,  0.3800,  0.3039],\n",
            "        [ 0.2738, -0.0817,  0.3934,  ..., -0.6682,  0.5012,  0.2766]],\n",
            "       device='cuda:0')\n",
            "Table ID: 85636ENG\n",
            "Column Embeddings: tensor([[ 0.0753,  0.4762, -0.3309,  ..., -0.2566,  0.3593, -0.4675],\n",
            "        [ 1.2460, -0.1837,  0.2235,  ...,  0.3647, -0.3896, -0.1960],\n",
            "        [ 0.0682,  0.2251,  0.6582,  ...,  0.4098,  0.1918, -0.3050],\n",
            "        ...,\n",
            "        [ 0.6460,  0.3255,  0.3546,  ..., -0.3423, -0.2960, -0.1479],\n",
            "        [ 0.0798,  0.5492, -0.5902,  ..., -0.9285,  0.0620, -0.1407],\n",
            "        [ 0.5156,  0.2251, -0.4684,  ..., -0.6856,  0.4045, -0.4941]],\n",
            "       device='cuda:0')\n",
            "\n",
            "Example Table to Column Mapping:\n",
            "Table ID: 80783eng\n",
            "Columns: ['Farm types', 'Regions', 'Periods', 'Number of farms, total', 'Land use', 'Area', 'Land use, total', 'Utilised agricultural area (UAA)', 'Other land', 'Number of farms', 'Land use, total', 'Utilised agricultural area (UAA)', 'Other land', 'Arable land', 'Area', 'Arable land, total', 'Potatoes', 'Potatoes, total', 'Ware potatoes', 'Seed potatoes', 'Starch potatoes', 'Vegetables, arable', 'Cereals', 'Grass seed', 'Industrial crops', 'Pulses', 'Sugar beets', 'Other arable crops', 'Fallow land', 'Number of farms', 'Arable land, total', 'Potatoes', 'Potatoes, total', 'Ware potatoes', 'Seed potatoes', 'Starch potatoes', 'Vegetables, arable', 'Cereals', 'Grass seed', 'Industrial crops', 'Pulses', 'Sugar beets', 'Other arable crops', 'Fallow land', 'Horticulture, in the open', 'Area', 'Horticulture in the open, total', 'Flower bulbs', 'Floricultural crops', 'Nurseries and perennial plants', 'Fruit in the open', 'Vegetables, horticultural', 'Number of farms', 'Horticulture in the open, total', 'Flower bulbs', 'Floricultural crops', 'Nurseries and perennial plants', 'Fruit in the open', 'Vegetables, horticultural', 'Horticulture, under glass', 'Area', 'Horticulture under glass, total', 'Floricultural crops', 'Nurseries and perennial plants', 'Fruit under glass', 'Vegetables, under glass', 'Number of farms', 'Horticulture under glass, total', 'Floricultural crops', 'Nurseries and perennial plants', 'Fruit under glass', 'Vegetables, under glass', 'Horticulture, other', 'Area, amount', 'Bulb forcing', 'Hyacinths', 'Daffodils', 'Tulips', 'Other bulb forcing', 'Mushrooms', 'Mushrooms', 'Substrate use mushrooms', 'Belgian endive cultivation', 'Number of farms', 'Bulb forcing', 'Bulb forcing, total', 'Hyacinths', 'Daffodils', 'Tulips', 'Other bulb forcing', 'Mushrooms', 'Mushrooms, total', 'Mushrooms', 'Substrate use mushrooms', 'Belgian endive cultivation', 'Grassland and forage plants', 'Area', 'Grassland and forage plants, total', 'Grassland', 'Grassland, total', 'Pasture and meadows', 'Rough grazing', 'Temporary grass', 'Forage plants', 'Number of farms', 'Grassland and forage plants, total', 'Grassland', 'Grassland, total', 'Pasture and meadows', 'Rough grazing', 'Temporary grass', 'Forage plants', 'Grazing livestock', 'Number of animals', 'Cattle', 'Cattle, total', 'Young animals for milk', 'Calves for fattening', 'Young animals for fattening', 'Dairy cows (>= 2 years)', 'Other cows', 'Other cows, total', 'Cows for fattening (>= 2 years)', 'Suckling cows (>= 2 years)', 'Bulls (>= 2 years)', 'Bulls (>= 2 years), total', 'Bulls for breeding (>= 2 years)', 'Bulls for fattening (>= 2 years)', 'Sheep', 'Goats', 'Goats, total', 'Goats for milking', 'Other goats', 'Equidae', 'Equidae, total', 'Horses', 'Ponies', 'Number of farms', 'Grazing livestock, total', 'Cattle', 'Cattle, total', 'Young animals for milk', 'Calves for fattening', 'Young animals for fattening', 'Dairy cows (>= 2 years)', 'Other cows', 'Other cows, total', 'Cows for fattening (>= 2 years)', 'Suckling cows (>= 2 years)', 'Bulls (>= 2 years)', 'Bulls (>= 2 years), total', 'Bulls for breeding (>= 2 years)', 'Bulls for fattening (>= 2 years)', 'Sheep', 'Goats', 'Goats, total', 'Goats for milking', 'Other goats', 'Equidae', 'Equidae, total', 'Horses', 'Ponies', 'Housed animals', 'Number of animals', 'Pigs', 'Pigs, total', 'Piglets', 'Pigs for breeding', 'Pigs for fattening', 'Chickens', 'Chickens, total', 'Laying hens', 'Parent birds of laying hens', 'Broilers', 'Parent birds of broilers', 'Turkeys', 'Ducks for fattening', 'Other poultry', 'Rabbits', 'Furred animals', 'Number of farms', 'Housed animals, total', 'Pigs', 'Pigs, total', 'Piglets', 'Pigs for breeding', 'Pigs for fattening', 'Chickens', 'Chickens, total', 'Laying hens', 'Parent birds of laying hens', 'Broilers', 'Parent birds of broilers', 'Turkeys', 'Ducks for fattening', 'Other poultry', 'Rabbits', 'Furred animals']\n",
            "Table ID: 80784eng\n",
            "Columns: ['Gender', 'Regions', 'Periods', 'Persons', 'Regularly employed', 'Regularly employed, total', 'Family labour', 'Family labour, total', 'Holder', 'Spouse', 'Family workers', 'Non-family labour', 'Non-family labour, total', 'Manager', 'Other persons regularly employed', 'Not regularly employed', 'Annual work units (AWU)', 'Regularly employed', 'Regularly employed, total', 'Family labour', 'Family labour, total', 'Holder', 'Spouse', 'Family workers', 'Non-family labour', 'Non-family labour, total', 'Manager', 'Other persons regularly employed', 'Not regularly employed', 'Holdings', 'Regularly employed', 'Regularly employed, total', 'Family labour', 'Family labour, total', 'Holder', 'Spouse', 'Family workers', 'Non-family labour', 'Non-family labour, total', 'Manager', 'Other persons regularly employed', 'Not regularly employed']\n",
            "Table ID: 85636ENG\n",
            "Columns: ['Arable crops', 'Regions', 'Periods', 'Area under cultivation', 'Harvested area', 'Gross yield per ha', 'Gross yield, total']\n"
          ]
        }
      ]
    },
    {
      "cell_type": "code",
      "source": [
        "from google.colab import drive\n",
        "drive.mount('/content/drive')\n",
        "# Save to Google Drive\n",
        "torch.save(table_embeddings, '/content/drive/My Drive/table_embeddings.pt')\n",
        "torch.save(column_embeddings, '/content/drive/My Drive/column_embeddings.pt')\n",
        "torch.save(table_to_column_mapping, '/content/drive/My Drive/table_to_column_mapping.pt')\n",
        "print(\"Embeddings and mappings saved to Google Drive!\")\n"
      ],
      "metadata": {
        "colab": {
          "base_uri": "https://localhost:8080/"
        },
        "id": "DHwjvaABlsPU",
        "outputId": "3142bb94-a869-424e-c595-a27cae5d9107"
      },
      "execution_count": null,
      "outputs": [
        {
          "output_type": "stream",
          "name": "stdout",
          "text": [
            "Drive already mounted at /content/drive; to attempt to forcibly remount, call drive.mount(\"/content/drive\", force_remount=True).\n",
            "Embeddings and mappings saved to Google Drive!\n"
          ]
        }
      ]
    }
  ]
}